{
 "cells": [
  {
   "cell_type": "code",
   "execution_count": 13,
   "id": "b411416b",
   "metadata": {},
   "outputs": [],
   "source": [
    "import pandas as pd\n",
    "import openpyxl\n",
    "from openpyxl.utils.dataframe import dataframe_to_rows\n",
    "from openpyxl import load_workbook\n",
    "import time\n",
    "import datetime\n",
    "pd.options.mode.chained_assignment = None  # default='warn'\n"
   ]
  },
  {
   "cell_type": "code",
   "execution_count": 14,
   "id": "903513b4",
   "metadata": {},
   "outputs": [],
   "source": [
    "def create_doc_convert_date(cell):\n",
    "    \"\"\"\n",
    "    Функция для конвертации даты при создании документов\n",
    "    :param cell:\n",
    "    :return:\n",
    "    \"\"\"\n",
    "    try:\n",
    "        string_date = datetime.datetime.strftime(cell, '%d.%m.%Y')\n",
    "        return string_date\n",
    "    except ValueError:\n",
    "        return ''"
   ]
  },
  {
   "cell_type": "code",
   "execution_count": 15,
   "id": "54e4de84",
   "metadata": {},
   "outputs": [],
   "source": [
    "file_transfer_to_upp = 'data/Перенос из таблицы 3 в реестр УПП/Таблица 3 с дополнительными колонками..xlsx'\n",
    "file_transfer_reestr = 'data/Перенос из таблицы 3 в реестр УПП/2022-10-27_64_Реестр УПП с дополнительными колонками.xlsx'\n",
    "path_to_end_folder = 'data/'\n",
    "header_reestr = 'data/Перенос из таблицы 3 в реестр УПП/Заголовок Реестр УПП от 25.10.xlsx'"
   ]
  },
  {
   "cell_type": "code",
   "execution_count": 16,
   "id": "b6329768",
   "metadata": {},
   "outputs": [],
   "source": [
    "# Загружаем датафреймы\n",
    "df_upp = pd.read_excel(file_transfer_reestr,skiprows=8)\n",
    "df_table_3 = pd.read_excel(file_transfer_to_upp,skiprows=6,usecols=[4,5,6,7,8,9,10,12,13,14,15,16,17,18,19,21,22,23,24,25,26,27,28,\n",
    "                                                           29,32])\n"
   ]
  },
  {
   "cell_type": "code",
   "execution_count": 17,
   "id": "8d4512da",
   "metadata": {},
   "outputs": [],
   "source": [
    "# Приводим названия колонок к строковому виду, чтобы избежать возможных проблем с названиями колонок\n",
    "df_upp.columns = list(map(str,list(df_upp.columns)))\n",
    "df_table_3.columns = list(map(str,list(df_table_3.columns)))\n",
    "\n",
    "# Очищаем на всякий случай от пробельных символов\n",
    "df_upp.columns = list(map(lambda x:x.strip(),list(df_upp.columns)))\n",
    "df_table_3.columns = list(map(lambda x:x.strip(),list(df_table_3.columns)))"
   ]
  },
  {
   "cell_type": "code",
   "execution_count": 18,
   "id": "28cdb275",
   "metadata": {},
   "outputs": [],
   "source": [
    "# Фильтруем датафрейм отбирая только те записи в которых есть 1 в графе 30\n",
    "transfer_df=df_table_3[df_table_3['30'] == 1]\n",
    "\n",
    "\n",
    "# перемещаем площадь выдела\n",
    "transfer_df.insert(7,'12',transfer_df['33'])\n",
    "\n",
    "# удаляем лишний столбец с площадью выдела и признаков внесения в реестр\n",
    "transfer_df.drop(columns=['30','33'],inplace=True)"
   ]
  },
  {
   "cell_type": "code",
   "execution_count": 19,
   "id": "79e04dbc",
   "metadata": {},
   "outputs": [
    {
     "data": {
      "text/plain": [
       "Index(['5', '6', '7', '8', '9', '10', '11', '12', '13', '14', '15', '16', '17',\n",
       "       '18', '19', '20', '22', '23', '24', '25', '26', '27', '28', '29'],\n",
       "      dtype='object')"
      ]
     },
     "execution_count": 19,
     "metadata": {},
     "output_type": "execute_result"
    }
   ],
   "source": [
    "transfer_df.columns"
   ]
  },
  {
   "cell_type": "code",
   "execution_count": 20,
   "id": "daaa7dae",
   "metadata": {},
   "outputs": [],
   "source": [
    "transfer_df['17'] =transfer_df['17'].astype(str) # Приводим колонку к строковому формату"
   ]
  },
  {
   "cell_type": "code",
   "execution_count": 21,
   "id": "5a6dc78b",
   "metadata": {},
   "outputs": [
    {
     "data": {
      "text/plain": [
       "0        Категория защитных лесов, код\n",
       "4                                  134\n",
       "5                                  134\n",
       "6                                  134\n",
       "7                                  134\n",
       "                     ...              \n",
       "77604                              nan\n",
       "77611                              143\n",
       "77612                              143\n",
       "77613                              143\n",
       "77614                              143\n",
       "Name: 17, Length: 58811, dtype: object"
      ]
     },
     "execution_count": 21,
     "metadata": {},
     "output_type": "execute_result"
    }
   ],
   "source": [
    "transfer_df['17']"
   ]
  },
  {
   "cell_type": "code",
   "execution_count": 22,
   "id": "7f7712af",
   "metadata": {},
   "outputs": [],
   "source": [
    "# Заменяем категории таблицы 3 на категории Реестра УПП\n",
    "transfer_df['17'] =transfer_df['17'].replace(regex={'120':'2','100':'1',r'130|131|132|133|134|135|136':'3',\n",
    "                                                    r'141|142|143|144|145|146|147|148|149|150|151|152':'4','nan':'0'})"
   ]
  },
  {
   "cell_type": "code",
   "execution_count": 23,
   "id": "d62a17e7",
   "metadata": {},
   "outputs": [
    {
     "data": {
      "text/plain": [
       "0        Категория защитных лесов, код\n",
       "4                                    3\n",
       "5                                    3\n",
       "6                                    3\n",
       "7                                    3\n",
       "                     ...              \n",
       "77604                                0\n",
       "77611                                4\n",
       "77612                                4\n",
       "77613                                4\n",
       "77614                                4\n",
       "Name: 17, Length: 58811, dtype: object"
      ]
     },
     "execution_count": 23,
     "metadata": {},
     "output_type": "execute_result"
    }
   ],
   "source": [
    "transfer_df['17']"
   ]
  },
  {
   "cell_type": "code",
   "execution_count": null,
   "id": "6cef1380",
   "metadata": {},
   "outputs": [],
   "source": []
  },
  {
   "cell_type": "code",
   "execution_count": null,
   "id": "971bc27a",
   "metadata": {},
   "outputs": [],
   "source": []
  },
  {
   "cell_type": "code",
   "execution_count": 24,
   "id": "740ab20c",
   "metadata": {},
   "outputs": [
    {
     "data": {
      "text/plain": [
       "Index(['5', '6', '7', '8', '9', '10', '11', '12', '13', '14', '15', '16', '17',\n",
       "       '18', '19', '20', '22', '23', '24', '25', '26', '27', '28', '29'],\n",
       "      dtype='object')"
      ]
     },
     "execution_count": 24,
     "metadata": {},
     "output_type": "execute_result"
    }
   ],
   "source": [
    "transfer_df.columns"
   ]
  },
  {
   "cell_type": "code",
   "execution_count": 25,
   "id": "752cb873",
   "metadata": {},
   "outputs": [],
   "source": [
    "transfer_df.columns = ['1','2','3','4','5','6','7','8','9','10','11','12','13','14','15','16','17','18','19','20','21','22','23','24']"
   ]
  },
  {
   "cell_type": "code",
   "execution_count": 26,
   "id": "654dc586",
   "metadata": {},
   "outputs": [
    {
     "data": {
      "text/plain": [
       "Index(['1', '2', '3', '4', '5', '6', '7', '8', '9', '10', '11', '12', '13',\n",
       "       '14', '15', '16', '17', '18', '19', '20', '21', '22', '23', '24'],\n",
       "      dtype='object')"
      ]
     },
     "execution_count": 26,
     "metadata": {},
     "output_type": "execute_result"
    }
   ],
   "source": [
    "transfer_df.columns"
   ]
  },
  {
   "cell_type": "code",
   "execution_count": 27,
   "id": "7a35351a",
   "metadata": {},
   "outputs": [],
   "source": [
    "itog_df = pd.concat([df_upp,transfer_df],ignore_index=True)"
   ]
  },
  {
   "cell_type": "code",
   "execution_count": 28,
   "id": "e4c960c0",
   "metadata": {},
   "outputs": [],
   "source": [
    "itog_df.sort_values(['1','2','3','4','5',\n",
    "                     ],inplace=True)"
   ]
  },
  {
   "cell_type": "code",
   "execution_count": 29,
   "id": "d6b452cf",
   "metadata": {},
   "outputs": [],
   "source": [
    "# Приводим даты к нормальному виду ДД.ММ.ГГГГ\n",
    "itog_df['17'] = pd.to_datetime(itog_df['17'],errors='coerce',dayfirst=True)\n",
    "itog_df['22'] = pd.to_datetime(itog_df['22'],errors='coerce',dayfirst=True)\n",
    "itog_df['17'] = itog_df['17'].apply(create_doc_convert_date)\n",
    "itog_df['22'] = itog_df['22'].apply(create_doc_convert_date)\n"
   ]
  },
  {
   "cell_type": "code",
   "execution_count": 31,
   "id": "6eaf366c",
   "metadata": {},
   "outputs": [],
   "source": [
    "# Получаем текущую дату\n",
    "current_time = time.strftime('%H_%M_%S %d.%m.%Y')\n",
    "# Сохраняем отчет\n",
    "# Для того чтобы увеличить ширину колонок для удобства чтения используем openpyxl\n",
    "wb = load_workbook(header_reestr) # Создаем объект\n",
    "# Записываем результаты\n",
    "for row in dataframe_to_rows(itog_df,index=False,header=False):\n",
    "    wb['Реестр УПП'].append(row)"
   ]
  },
  {
   "cell_type": "code",
   "execution_count": 32,
   "id": "2d60f321",
   "metadata": {},
   "outputs": [],
   "source": [
    "wb.save(f'{path_to_end_folder}/Реестр УПП с добавлением данных из таблицы 3 {current_time}.xlsx')"
   ]
  },
  {
   "cell_type": "code",
   "execution_count": null,
   "id": "e33232bb",
   "metadata": {},
   "outputs": [],
   "source": []
  },
  {
   "cell_type": "code",
   "execution_count": null,
   "id": "54df57c8",
   "metadata": {},
   "outputs": [],
   "source": []
  },
  {
   "cell_type": "code",
   "execution_count": null,
   "id": "6863534b",
   "metadata": {},
   "outputs": [],
   "source": []
  },
  {
   "cell_type": "code",
   "execution_count": null,
   "id": "b1c5cae4",
   "metadata": {},
   "outputs": [],
   "source": []
  }
 ],
 "metadata": {
  "kernelspec": {
   "display_name": "Python 3 (ipykernel)",
   "language": "python",
   "name": "python3"
  },
  "language_info": {
   "codemirror_mode": {
    "name": "ipython",
    "version": 3
   },
   "file_extension": ".py",
   "mimetype": "text/x-python",
   "name": "python",
   "nbconvert_exporter": "python",
   "pygments_lexer": "ipython3",
   "version": "3.9.7"
  }
 },
 "nbformat": 4,
 "nbformat_minor": 5
}
