{
 "cells": [
  {
   "cell_type": "code",
   "execution_count": 41,
   "id": "b411416b",
   "metadata": {},
   "outputs": [],
   "source": [
    "import pandas as pd\n",
    "import openpyxl\n",
    "from openpyxl.utils.dataframe import dataframe_to_rows\n",
    "from openpyxl import load_workbook\n",
    "import time\n",
    "import datetime\n",
    "pd.options.mode.chained_assignment = None  # default='warn'\n"
   ]
  },
  {
   "cell_type": "code",
   "execution_count": 42,
   "id": "a5ac6649",
   "metadata": {},
   "outputs": [],
   "source": [
    "def change_cat_to_reeest(cell):\n",
    "    \"\"\"\n",
    "    Функция для замены значений категорий используемыъ в таблице 3 на значения используемые в реестре УПП\n",
    "    \"\"\"\n",
    "    temp_str = cell.strip() # очищаем от пробелов на всякий случай\n",
    "    if temp_str == '120':\n",
    "        return '2'\n",
    "    elif temp_str == '100':\n",
    "        return '1'\n",
    "    elif temp_str in ('130','131','132','133','134','135','136','','','','','','','','','','','','','',):\n",
    "        return '3'\n",
    "    elif temp_str in ('141','142','143','144','145','146','147','148','149','150','151','152'):\n",
    "        return '4'\n",
    "    else:\n",
    "        return '0'\n",
    "    \n",
    "    "
   ]
  },
  {
   "cell_type": "code",
   "execution_count": 43,
   "id": "903513b4",
   "metadata": {},
   "outputs": [],
   "source": [
    "def create_doc_convert_date(cell):\n",
    "    \"\"\"\n",
    "    Функция для конвертации даты при создании документов\n",
    "    :param cell:\n",
    "    :return:\n",
    "    \"\"\"\n",
    "    try:\n",
    "        string_date = datetime.datetime.strftime(cell, '%d.%m.%Y')\n",
    "        return string_date\n",
    "    except ValueError:\n",
    "        return ''"
   ]
  },
  {
   "cell_type": "code",
   "execution_count": 44,
   "id": "54e4de84",
   "metadata": {},
   "outputs": [],
   "source": [
    "file_transfer_to_upp = 'data/Перенос из таблицы 3 в реестр УПП/Таблица 3 с дополнительными колонками..xlsx'\n",
    "file_transfer_reestr = 'data/Перенос из таблицы 3 в реестр УПП/2022-10-27_64_Реестр УПП с дополнительными колонками.xlsx'\n",
    "path_to_end_folder = 'data/'\n",
    "header_reestr = 'data/Перенос из таблицы 3 в реестр УПП/Заголовок Реестр УПП от 25.10.xlsx'"
   ]
  },
  {
   "cell_type": "code",
   "execution_count": 45,
   "id": "b6329768",
   "metadata": {},
   "outputs": [],
   "source": [
    "# Загружаем датафреймы\n",
    "df_upp = pd.read_excel(file_transfer_reestr,skiprows=8)\n",
    "df_table_3 = pd.read_excel(file_transfer_to_upp,skiprows=6,usecols=[4,5,6,7,8,9,10,12,13,14,15,16,17,18,19,21,22,23,24,25,26,27,28,\n",
    "                                                           29,32])\n"
   ]
  },
  {
   "cell_type": "code",
   "execution_count": 46,
   "id": "8d4512da",
   "metadata": {},
   "outputs": [],
   "source": [
    "# Приводим названия колонок к строковому виду, чтобы избежать возможных проблем с названиями колонок\n",
    "df_upp.columns = list(map(str,list(df_upp.columns)))\n",
    "df_table_3.columns = list(map(str,list(df_table_3.columns)))\n",
    "\n",
    "# Очищаем на всякий случай от пробельных символов\n",
    "df_upp.columns = list(map(lambda x:x.strip(),list(df_upp.columns)))\n",
    "df_table_3.columns = list(map(lambda x:x.strip(),list(df_table_3.columns)))"
   ]
  },
  {
   "cell_type": "code",
   "execution_count": 49,
   "id": "28cdb275",
   "metadata": {},
   "outputs": [],
   "source": [
    "# Фильтруем датафрейм отбирая только те записи в которых есть 1 в графе 30\n",
    "transfer_df=df_table_3[df_table_3['30'] == 1]\n",
    "\n",
    "\n",
    "# перемещаем площадь выдела\n",
    "transfer_df.insert(7,'12',transfer_df['33'])\n",
    "\n",
    "# удаляем лишний столбец с площадью выдела и признаков внесения в реестр\n",
    "transfer_df.drop(columns=['30','33'],inplace=True)"
   ]
  },
  {
   "cell_type": "code",
   "execution_count": 50,
   "id": "79e04dbc",
   "metadata": {},
   "outputs": [
    {
     "data": {
      "text/plain": [
       "Index(['5', '6', '7', '8', '9', '10', '11', '12', '13', '14', '15', '16', '17',\n",
       "       '18', '19', '20', '22', '23', '24', '25', '26', '27', '28', '29'],\n",
       "      dtype='object')"
      ]
     },
     "execution_count": 50,
     "metadata": {},
     "output_type": "execute_result"
    }
   ],
   "source": [
    "transfer_df.columns"
   ]
  },
  {
   "cell_type": "code",
   "execution_count": 51,
   "id": "daaa7dae",
   "metadata": {},
   "outputs": [],
   "source": [
    "transfer_df['17'] =transfer_df['17'].astype(str) # Приводим колонку к строковому формату"
   ]
  },
  {
   "cell_type": "code",
   "execution_count": 52,
   "id": "1265fb12",
   "metadata": {},
   "outputs": [],
   "source": [
    "transfer_df['17'] =transfer_df['17'].apply(change_cat_to_reeest) # Заменяем категории таблицы 3 на категории Реестра УПП"
   ]
  },
  {
   "cell_type": "code",
   "execution_count": null,
   "id": "971bc27a",
   "metadata": {},
   "outputs": [],
   "source": []
  },
  {
   "cell_type": "code",
   "execution_count": 53,
   "id": "740ab20c",
   "metadata": {},
   "outputs": [
    {
     "data": {
      "text/plain": [
       "Index(['5', '6', '7', '8', '9', '10', '11', '12', '13', '14', '15', '16', '17',\n",
       "       '18', '19', '20', '22', '23', '24', '25', '26', '27', '28', '29'],\n",
       "      dtype='object')"
      ]
     },
     "execution_count": 53,
     "metadata": {},
     "output_type": "execute_result"
    }
   ],
   "source": [
    "transfer_df.columns"
   ]
  },
  {
   "cell_type": "code",
   "execution_count": 54,
   "id": "752cb873",
   "metadata": {},
   "outputs": [],
   "source": [
    "transfer_df.columns = ['1','2','3','4','5','6','7','8','9','10','11','12','13','14','15','16','17','18','19','20','21','22','23','24']"
   ]
  },
  {
   "cell_type": "code",
   "execution_count": 55,
   "id": "654dc586",
   "metadata": {},
   "outputs": [
    {
     "data": {
      "text/plain": [
       "Index(['1', '2', '3', '4', '5', '6', '7', '8', '9', '10', '11', '12', '13',\n",
       "       '14', '15', '16', '17', '18', '19', '20', '21', '22', '23', '24'],\n",
       "      dtype='object')"
      ]
     },
     "execution_count": 55,
     "metadata": {},
     "output_type": "execute_result"
    }
   ],
   "source": [
    "transfer_df.columns"
   ]
  },
  {
   "cell_type": "code",
   "execution_count": 56,
   "id": "7a35351a",
   "metadata": {},
   "outputs": [],
   "source": [
    "itog_df = pd.concat([df_upp,transfer_df],ignore_index=True)"
   ]
  },
  {
   "cell_type": "code",
   "execution_count": 58,
   "id": "e4c960c0",
   "metadata": {},
   "outputs": [],
   "source": [
    "itog_df.sort_values(['1','2','3','4','5',\n",
    "                     ],inplace=True)"
   ]
  },
  {
   "cell_type": "code",
   "execution_count": 59,
   "id": "d6b452cf",
   "metadata": {},
   "outputs": [],
   "source": [
    "# Приводим даты к нормальному виду ДД.ММ.ГГГГ\n",
    "itog_df['17'] = pd.to_datetime(itog_df['17'],errors='coerce',dayfirst=True)\n",
    "itog_df['22'] = pd.to_datetime(itog_df['22'],errors='coerce',dayfirst=True)\n",
    "itog_df['17'] = itog_df['17'].apply(create_doc_convert_date)\n",
    "itog_df['22'] = itog_df['22'].apply(create_doc_convert_date)\n"
   ]
  },
  {
   "cell_type": "code",
   "execution_count": 62,
   "id": "6eaf366c",
   "metadata": {},
   "outputs": [],
   "source": [
    "# Получаем текущую дату\n",
    "current_time = time.strftime('%H_%M_%S %d.%m.%Y')\n",
    "# Сохраняем отчет\n",
    "# Для того чтобы увеличить ширину колонок для удобства чтения используем openpyxl\n",
    "wb = load_workbook(header_reestr) # Создаем объект\n",
    "# Записываем результаты\n",
    "for row in dataframe_to_rows(itog_df,index=False,header=False):\n",
    "    wb['Реестр УПП'].append(row)"
   ]
  },
  {
   "cell_type": "code",
   "execution_count": 63,
   "id": "2d60f321",
   "metadata": {},
   "outputs": [],
   "source": [
    "wb.save(f'{path_to_end_folder}/Реестр УПП с добавлением данных из таблицы 3 {current_time}.xlsx')"
   ]
  },
  {
   "cell_type": "code",
   "execution_count": null,
   "id": "e33232bb",
   "metadata": {},
   "outputs": [],
   "source": []
  },
  {
   "cell_type": "code",
   "execution_count": null,
   "id": "54df57c8",
   "metadata": {},
   "outputs": [],
   "source": []
  },
  {
   "cell_type": "code",
   "execution_count": null,
   "id": "6863534b",
   "metadata": {},
   "outputs": [],
   "source": []
  },
  {
   "cell_type": "code",
   "execution_count": null,
   "id": "b1c5cae4",
   "metadata": {},
   "outputs": [],
   "source": []
  }
 ],
 "metadata": {
  "kernelspec": {
   "display_name": "Python 3 (ipykernel)",
   "language": "python",
   "name": "python3"
  },
  "language_info": {
   "codemirror_mode": {
    "name": "ipython",
    "version": 3
   },
   "file_extension": ".py",
   "mimetype": "text/x-python",
   "name": "python",
   "nbconvert_exporter": "python",
   "pygments_lexer": "ipython3",
   "version": "3.9.13"
  }
 },
 "nbformat": 4,
 "nbformat_minor": 5
}
