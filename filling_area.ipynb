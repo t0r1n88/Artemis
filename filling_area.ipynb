{
 "cells": [
  {
   "cell_type": "code",
   "execution_count": 94,
   "id": "8f3f5226",
   "metadata": {},
   "outputs": [],
   "source": [
    "import pandas as pd\n",
    "import numpy as np\n",
    "import openpyxl\n",
    "from openpyxl.utils.dataframe import dataframe_to_rows\n",
    "from openpyxl.styles import Alignment\n",
    "from openpyxl import load_workbook\n",
    "import time\n",
    "import datetime\n",
    "pd.options.mode.chained_assignment = None  # default='warn'"
   ]
  },
  {
   "cell_type": "code",
   "execution_count": 95,
   "id": "b5237b49",
   "metadata": {},
   "outputs": [],
   "source": [
    "def combine(x):\n",
    "    # Функция для группировки всех значений в строку разделенную ;\n",
    "    return  ';'.join(x)\n",
    "\n",
    "def check_unique(x):\n",
    "    # Функция для нахождения разночтений в значениях\n",
    "    temp_lst = x.split(';')\n",
    "    temp_set = set(temp_lst)\n",
    "    if 'nan' in temp_set:\n",
    "        return 'Не заполнены значения площади лесотаксационного выдела!!!'\n",
    "    else:\n",
    "        return 'Все в порядке' if len(temp_set) == 1 else 'Ошибка!!!'\n",
    "\n",
    "def main_check_unique(x):\n",
    "    # Функция для проверки корректности заполнения площади выдела\n",
    "    temp_str = ';'.join(x) # Склеиваем все значения\n",
    "    temp_lst = temp_str.split(';') # Создаем список разбивая по ;\n",
    "    temp_set = set(temp_lst) # Превращаем в множество\n",
    "    if len(temp_set) > 1: # Если длина множества больше 1 то есть погрешности\n",
    "        return 0\n",
    "    elif'nan' in temp_set:# если есть нан то не заполнены площади выдела\n",
    "        return 0\n",
    "    else:# Если все в порядке то возвращаем единственный элемент списка\n",
    "        return convert_to_float(temp_lst[0])\n",
    "\n",
    "def convert_to_float(x):\n",
    "    \"\"\"\n",
    "    Функция для конвертирования строки в флоат.\n",
    "    :param x: строка\n",
    "    :return:\n",
    "    \"\"\"\n",
    "    # очищаем от пробелов и возможных заполнения ячейки пробелом\n",
    "    \n",
    "    try:\n",
    "        return float(x)\n",
    "    except ValueError:\n",
    "        return 0\n",
    "def convert_to_int_transfer(cell):\n",
    "    \"\"\"\n",
    "    Функция для конвертации в int\n",
    "    \"\"\"\n",
    "    try:\n",
    "        return int(cell)\n",
    "    except ValueError:\n",
    "        return 0\n",
    "    \n",
    "def create_doc_convert_date(cell):\n",
    "    \"\"\"\n",
    "    Функция для конвертации даты при создании документов\n",
    "    :param cell:\n",
    "    :return:\n",
    "    \"\"\"\n",
    "    try:\n",
    "        string_date = datetime.datetime.strftime(cell, '%d.%m.%Y')\n",
    "        return string_date\n",
    "    except ValueError:\n",
    "        return ''\n",
    "\n",
    "def clean_column(df,column):\n",
    "    \"\"\"\n",
    "    Функция для очистки от колонки от пустых значений\n",
    "    \"\"\"\n",
    "    df[column] = df[column].astype(str) # Приводим к строковому виду\n",
    "    df[column] = df[column].apply(lambda x:x.replace('nan','Отсутствует'))\n",
    "    df[column] = df[column].apply(lambda x:x.strip()) # очищаем от пробельных символов(на случай если в ячейке стоит просто пробел или несколько пробелов)\n",
    "    df[column] = df[column].apply(lambda x:x if x else 'Отсутствует') # Если пустая строка то заменяем на значение Не заполнено\n",
    "\n",
    "def prepare_column_to_int(cell):\n",
    "    \"\"\"\n",
    "    Функция для обработки ячеек в инт, чтобы они в экселе потом не отображались как строки\n",
    "    \"\"\"\n",
    "    try:\n",
    "        float_value = float(cell)\n",
    "        int_value = int(float_value)\n",
    "        return int_value\n",
    "    except ValueError:\n",
    "        return cell"
   ]
  },
  {
   "cell_type": "code",
   "execution_count": 149,
   "id": "c3742126",
   "metadata": {},
   "outputs": [],
   "source": [
    "region = 0\n",
    "\n",
    "file_transfer_to_upp = 'data/Сравнение таблиц и присвоение данных (площади)/Таблица 3 с дополнительными колонками..xlsx'\n",
    "file_transfer_reestr = 'data/Сравнение таблиц и присвоение данных (площади)/2022-10-27_64_Реестр УПП с дополнительными колонками.xlsx'\n",
    "\n",
    "# file_transfer_to_upp = 'data/Перенос из таблицы 3 в реестр УПП/Якутия октябрь_Таблица 3с доп. колонками.xlsx'\n",
    "# file_transfer_reestr = 'data/Перенос из таблицы 3 в реестр УПП/Якутия 2022-11-27_72_Реестр УПП по новой форме.xlsx'\n",
    "\n",
    "path_to_end_folder = 'data/'\n",
    "header_table3 = 'data/Сравнение таблиц и присвоение данных (площади)/Заголовок Таблица 3 от 08.11.xlsx'"
   ]
  },
  {
   "cell_type": "code",
   "execution_count": 150,
   "id": "2036305e",
   "metadata": {},
   "outputs": [],
   "source": [
    "# Создаем список колонок которые нужно загрузить\n",
    "use_cols_upp = list(range(11))\n",
    "use_cols_table3 = list(range(34))\n",
    "\n",
    "# Загружаем датафреймы\n",
    "# При загрузке делаем строковыми колонки квартал,выдел,год лесоустройства, чтобы потом не получить неприятность при мердже\n",
    "df = pd.read_excel(file_transfer_reestr,skiprows=8,usecols=use_cols_upp,dtype={4:str,5:str,11:str})# Реестр УПП \n",
    "df_table_3 = pd.read_excel(file_transfer_to_upp,skiprows=6,usecols=use_cols_table3,dtype={4:str,5:str,15:str}) # Таблица 3"
   ]
  },
  {
   "cell_type": "code",
   "execution_count": 151,
   "id": "5a0c57e2",
   "metadata": {},
   "outputs": [],
   "source": [
    "# Приводим названия колонок к строковому виду, чтобы избежать возможных проблем с названиями колонок\n",
    "df.columns = list(map(str,list(df.columns)))\n",
    "# на всякий случай очищаем от пробельных символов\n",
    "df.columns = list(map(lambda x:x.replace(\" \",\"\"),list(df.columns)))\n",
    "\n",
    "\"\"\"\n",
    "Соответствие названий колонок используемым в программе номерам колонок\n",
    "Лесничество -1\n",
    "Участковое лесничество- 2\n",
    "Урочище - 3\n",
    "Номер лесного квартала -4\n",
    "Номер лесотаксационного выдела -5\n",
    "Площадь лесотаксационного выдела, га - 6\n",
    "Год лесоустройства -11 или 15 для таблицы 3\n",
    "\"\"\"\n",
    "\n",
    "df.rename(columns={'1':'Лесничество','2':'Участковое лесничество','3':'Урочище','4':'Номер лесного квартала','5':'Номер лесотаксационного выдела',\n",
    "                  '6':'Площадь лесотаксационного выдела, га','11':'Год лесоустройства'},inplace=True)\n",
    "\n",
    "\n",
    "\n",
    "\n",
    "clean_column(df,'Урочище') # очищаем от пустых строк и пробелов\n",
    "\n",
    "# Обрабатываем колонки таблицы 3\n",
    "# Приводим названия колонок к строковому виду, чтобы избежать возможных проблем с названиями колонок\n",
    "df_table_3.columns = list(map(str,list(df_table_3.columns)))\n",
    "\n",
    "# Очищаем на всякий случай от пробельных символов\n",
    "df_table_3.columns = list(map(lambda x:x.strip(),list(df_table_3.columns)))\n",
    "\n",
    "# Очищаем от нан и пустых строк\n",
    "clean_column(df_table_3,'7')"
   ]
  },
  {
   "cell_type": "code",
   "execution_count": 153,
   "id": "5fc4d927",
   "metadata": {},
   "outputs": [],
   "source": [
    "# Бурятия\n",
    "if region == 0:\n",
    "    df['Площадь лесотаксационного выдела, га'] = df['Площадь лесотаксационного выдела, га'].astype(str)\n",
    "\n",
    "    df['Площадь лесотаксационного выдела, га'] = df['Площадь лесотаксационного выдела, га'].apply(\n",
    "        lambda x: x.replace(',', '.'))\n",
    "\n",
    "    # Группируем\n",
    "    df_upp = df.groupby(['Лесничество', 'Участковое лесничество', 'Урочище', 'Номер лесного квартала',\n",
    "                           'Номер лесотаксационного выдела']).agg({'Площадь лесотаксационного выдела, га': main_check_unique,\n",
    "                                                                   })\n",
    "\n",
    "    df_upp=df_upp.astype(str)\n",
    "\n",
    "\n",
    "    # Извлекаем индексы в колонки\n",
    "    df_upp = df_upp.reset_index()\n",
    "\n",
    "    # делаем строковыми первые 5 колонок в датафрейме Реестр УПП\n",
    "    df_upp[['Лесничество','Участковое лесничество','Урочище','Номер лесного квартала','Номер лесотаксационного выдела']] = df_upp[['Лесничество','Участковое лесничество','Урочище','Номер лесного квартала','Номер лесотаксационного выдела']].astype(str)\n",
    "\n",
    "    # Добавляем разделители для колонок квартала и выдела\n",
    "    df_upp['Номер лесного квартала'] = df_upp['Номер лесного квартала'].apply(lambda x:'кв.' + x) # Добавляем разделитель квартал\n",
    "    df_upp['Номер лесотаксационного выдела'] = df_upp['Номер лесотаксационного выдела'].apply(lambda x:'в.' + x) # Добавляем разделитель выдел\n",
    "\n",
    "    # Создаем колонку с идентификатором\n",
    "    df_upp['ID'] = df_upp.loc[:,['Лесничество','Участковое лесничество','Урочище','Номер лесного квартала','Номер лесотаксационного выдела'] ].sum(axis=1)\n",
    "    df_upp['ID'] = df_upp['ID'].apply(lambda x:x.replace(' ',''))\n",
    "    df_upp['ID'] = df_upp['ID'].apply(lambda x:x.replace('nan',''))\n",
    "\n",
    "\n",
    "\n",
    "    # делаем строковыми колонки по которым будем соединять в датафрейме 3 таблицы\n",
    "    df_table_3[['5','6','7','8','9']] = df_table_3[['5','6','7','8','9']].astype(str)\n",
    "    # Добавляем разделители для колонок квартала и выдела\n",
    "    df_table_3['8'] = df_table_3['8'].apply(lambda x:'кв.' + x) # Добавляем разделитель квартал\n",
    "    df_table_3['9'] = df_table_3['9'].apply(lambda x:'в.' + x) # Добавляем разделитель выдел\n",
    "\n",
    "    # Создаем колонку с идентификатором\n",
    "    df_table_3['ID'] = df_table_3.loc[:,['5','6','7','8','9'] ].sum(axis=1)\n",
    "    df_table_3['ID'] = df_table_3['ID'].apply(lambda x:x.replace(' ',''))\n",
    "    df_table_3['ID'] = df_table_3['ID'].apply(lambda x:x.replace('nan',''))\n",
    "\n",
    "    # Мержим по полю айди\n",
    "    merged_df = pd.merge(df_upp,df_table_3,how='outer',left_on='ID',right_on='ID',indicator=True)\n",
    "\n",
    "\n",
    "\n",
    "    # Заменяем площадь в таблице 3 в случае если  такой же выдел есть в реестре\n",
    "    merged_df['Площадь'] = np.where(merged_df['_merge'] == 'both',merged_df['Площадь лесотаксационного выдела, га'],merged_df['10'])\n",
    "\n",
    "    # Приводим к строковому виду чтобы очистить от разделителей кв. и в.\n",
    "    merged_df['8'] = merged_df['8'].astype(str)\n",
    "    merged_df['9'] = merged_df['9'].astype(str)\n",
    "    # Очищаем от разделителей\n",
    "\n",
    "    merged_df['8'] = merged_df['8'].apply(lambda x:x.replace('кв.',''))\n",
    "    merged_df['9'] = merged_df['9'].apply(lambda x:x.replace('в.',''))\n",
    "\n",
    "    # Приводим к инту колонки чтобы отсортировать их\n",
    "\n",
    "    merged_df['8'] = merged_df['8'].apply(prepare_column_to_int)\n",
    "    merged_df['9'] = merged_df['9'].apply(prepare_column_to_int)\n",
    "\n",
    "    merged_df.sort_values(['5','6','7','8','9'],inplace=True)\n",
    "\n",
    "    # Присваиваем колонке 10 значение колонки созданной колонки 10\n",
    "    #merged_df['10'] = merged_df['Площадь']\n",
    "\n",
    "    merged_df.to_excel('Тест.xlsx',index=False)\n",
    "\n",
    "    # Создаем документ\n",
    "    wb = openpyxl.Workbook()\n",
    "    # создаем листы\n",
    "    ren_sheet = wb['Sheet']\n",
    "    ren_sheet.title = 'Нет в таблице 3'\n",
    "    wb.create_sheet(title='Нет в реестре УПП', index=1)\n",
    "    wb.create_sheet(title='Выделы с обновленной площадью', index=2)\n",
    "\n",
    "    # Записываем каждый датафрейм в соответсвующий лист\n",
    "    # Записи реестра которых нет в таблице 3\n",
    "    left_df = merged_df[merged_df['_merge'] == 'left_only']\n",
    "    left_df.drop(left_df.iloc[:,7:],axis=1,inplace=True)\n",
    "\n",
    "\n",
    "\n",
    "    for r in dataframe_to_rows(left_df, index=False, header=True):\n",
    "        wb['Нет в таблице 3'].append(r)\n",
    "    wb['Нет в таблице 3'].column_dimensions['A'].width = 30\n",
    "    wb['Нет в таблице 3'].column_dimensions['B'].width = 30\n",
    "\n",
    "\n",
    "\n",
    "\n",
    "    # Записываем каждый датафрейм в соответсвующий лист\n",
    "    # Записи которые есть только в таблице 3\n",
    "    right_df = merged_df[merged_df['_merge'] == 'right_only']\n",
    "    right_df.drop(right_df.iloc[:,:6],axis=1,inplace=True)\n",
    "\n",
    "    # Удаляем лишние колонки\n",
    "    right_df.drop(right_df.iloc[:,10:],axis=1,inplace=True)\n",
    "\n",
    "    right_df.drop(columns=['1','2','3','4'],axis=1,inplace=True)\n",
    "\n",
    "    # Переименовываем колонки\n",
    "    right_df.columns = ['ID','Лесничество','Участковое лесничество','Урочище','Номер лесного квартала','Номер лесотаксационного выдела']\n",
    "\n",
    "\n",
    "\n",
    "    # Записываем на лист\n",
    "    for r in dataframe_to_rows(right_df, index=False, header=True):\n",
    "        wb['Нет в реестре УПП'].append(r)\n",
    "\n",
    "    wb['Нет в реестре УПП'].column_dimensions['A'].width = 30\n",
    "    wb['Нет в реестре УПП'].column_dimensions['B'].width = 30\n",
    "    wb['Нет в реестре УПП'].column_dimensions['C'].width = 30\n",
    "\n",
    "\n",
    "\n",
    "    # Записываем каждый датафрейм в соответсвующий лист\n",
    "    both_df = merged_df[merged_df['_merge'] == 'both']\n",
    "\n",
    "    both_df.drop(both_df.iloc[:,17:-1],axis=1,inplace=True)\n",
    "\n",
    "    both_df.drop(columns=['1','2','3','4','5','6','7','8','9','Площадь лесотаксационного выдела, га'],axis=1,inplace=True)\n",
    "\n",
    "    # # Очищаем от пробелов и строки названия урочища не заполнено\n",
    "    # both_df['Урочище'] = both_df['Урочище'].apply(lambda x:x.replace('Название урочища не заполнено',''))\n",
    "    # both_df['Урочище'] = both_df['Урочище'].apply(lambda x:x.strip())\n",
    "\n",
    "    both_df.rename(columns={'Площадь':'Площадь из реестра УПП','10':'Старая площадь из таблицы 3'},inplace=True)\n",
    "\n",
    "    for r in dataframe_to_rows(both_df, index=False, header=True):\n",
    "        wb['Выделы с обновленной площадью'].append(r)\n",
    "\n",
    "    wb['Выделы с обновленной площадью'].column_dimensions['A'].width = 30\n",
    "    wb['Выделы с обновленной площадью'].column_dimensions['B'].width = 30\n",
    "    wb['Выделы с обновленной площадью'].column_dimensions['G'].width = 20\n",
    "    wb['Выделы с обновленной площадью'].column_dimensions['H'].width = 20\n",
    "\n",
    "\n",
    "    # Получаем текущую дату\n",
    "    current_time = time.strftime('%H_%M_%S %d.%m.%Y')\n",
    "    wb.save(f'{path_to_end_folder}/Данные для проверки корректности обновления площадей в таблице 3 от {current_time}.xlsx')\n",
    "\n",
    "    # Создаем новую таблицу 3 с обновленными данными\n",
    "    out_table3_df = merged_df[merged_df['_merge'] != 'left_only'] # отбираем общие значения и те что уже были в таблице 3\n",
    "\n",
    "    # Присваиваем колонке 10 значение колонки созданной колонки 10\n",
    "    out_table3_df['10'] = out_table3_df['Площадь']\n",
    "\n",
    "    out_table3_df.drop(columns=['Лесничество','Участковое лесничество','Урочище','Номер лесного квартала','Номер лесотаксационного выдела','Площадь лесотаксационного выдела, га','ID','_merge','Площадь'],inplace=True)\n",
    "\n",
    "    # Приводим даты к нормальному виду ДД.ММ.ГГГГ\n",
    "    out_table3_df['1'] = pd.to_datetime(out_table3_df['1'],errors='coerce',dayfirst=True)\n",
    "    out_table3_df['22'] = pd.to_datetime(out_table3_df['22'],errors='coerce',dayfirst=True)\n",
    "    out_table3_df['27'] = pd.to_datetime(out_table3_df['27'],errors='coerce',dayfirst=True)\n",
    "    out_table3_df['1'] = out_table3_df['1'].apply(create_doc_convert_date)\n",
    "    out_table3_df['22'] = out_table3_df['22'].apply(create_doc_convert_date)\n",
    "    out_table3_df['27'] = out_table3_df['27'].apply(create_doc_convert_date)\n",
    "    \n",
    "    # Приводим год лесоустройства к инту\n",
    "    out_table3_df['15'] = out_table3_df['15'].apply(prepare_column_to_int)\n",
    "\n",
    "    # Получаем текущую дату\n",
    "    current_time = time.strftime('%H_%M_%S %d.%m.%Y')\n",
    "    # Сохраняем отчет\n",
    "    # Для того чтобы увеличить ширину колонок для удобства чтения используем openpyxl\n",
    "    itog = load_workbook(header_table3) # Создаем объект\n",
    "    # Записываем результаты\n",
    "    for row in dataframe_to_rows(out_table3_df,index=False,header=False):\n",
    "        itog['Лист1'].append(row)\n",
    "\n",
    "    itog.save(f'{path_to_end_folder}/Таблица 3 с присвоенными площадями из реестра УПП от {current_time}.xlsx')\n",
    "    "
   ]
  },
  {
   "cell_type": "code",
   "execution_count": null,
   "id": "2969d94d",
   "metadata": {},
   "outputs": [],
   "source": []
  },
  {
   "cell_type": "code",
   "execution_count": 104,
   "id": "c26d4618",
   "metadata": {},
   "outputs": [],
   "source": [
    "df['Площадь лесотаксационного выдела, га'] = df['Площадь лесотаксационного выдела, га'].astype(str)\n",
    "\n",
    "df['Площадь лесотаксационного выдела, га'] = df['Площадь лесотаксационного выдела, га'].apply(\n",
    "    lambda x: x.replace(',', '.'))\n",
    "\n",
    "# Группируем\n",
    "df_upp = df.groupby(['Лесничество', 'Участковое лесничество', 'Урочище', 'Номер лесного квартала',\n",
    "                       'Номер лесотаксационного выдела']).agg({'Площадь лесотаксационного выдела, га': main_check_unique,\n",
    "                                                               })\n",
    "\n",
    "df_upp=df_upp.astype(str)\n"
   ]
  },
  {
   "cell_type": "code",
   "execution_count": 105,
   "id": "698ae9fb",
   "metadata": {},
   "outputs": [],
   "source": [
    "# Извлекаем индексы в колонки\n",
    "df_upp = df_upp.reset_index()"
   ]
  },
  {
   "cell_type": "code",
   "execution_count": 107,
   "id": "25b39de9",
   "metadata": {},
   "outputs": [],
   "source": [
    "# делаем строковыми первые 5 колонок в датафрейме Реестр УПП\n",
    "df_upp[['Лесничество','Участковое лесничество','Урочище','Номер лесного квартала','Номер лесотаксационного выдела']] = df_upp[['Лесничество','Участковое лесничество','Урочище','Номер лесного квартала','Номер лесотаксационного выдела']].astype(str)"
   ]
  },
  {
   "cell_type": "code",
   "execution_count": 108,
   "id": "f5848b63",
   "metadata": {},
   "outputs": [],
   "source": [
    "# Добавляем разделители для колонок квартала и выдела\n",
    "df_upp['Номер лесного квартала'] = df_upp['Номер лесного квартала'].apply(lambda x:'кв.' + x) # Добавляем разделитель квартал\n",
    "df_upp['Номер лесотаксационного выдела'] = df_upp['Номер лесотаксационного выдела'].apply(lambda x:'в.' + x) # Добавляем разделитель выдел"
   ]
  },
  {
   "cell_type": "code",
   "execution_count": 109,
   "id": "c3f17c21",
   "metadata": {},
   "outputs": [],
   "source": [
    "# Создаем колонку с идентификатором\n",
    "df_upp['ID'] = df_upp.loc[:,['Лесничество','Участковое лесничество','Урочище','Номер лесного квартала','Номер лесотаксационного выдела'] ].sum(axis=1)\n",
    "df_upp['ID'] = df_upp['ID'].apply(lambda x:x.replace(' ',''))\n",
    "df_upp['ID'] = df_upp['ID'].apply(lambda x:x.replace('nan',''))"
   ]
  },
  {
   "cell_type": "code",
   "execution_count": 111,
   "id": "1ec595da",
   "metadata": {},
   "outputs": [],
   "source": []
  },
  {
   "cell_type": "code",
   "execution_count": 112,
   "id": "4fe7c5ee",
   "metadata": {},
   "outputs": [],
   "source": [
    "# делаем строковыми колонки по которым будем соединять в датафрейме 3 таблицы\n",
    "df_table_3[['5','6','7','8','9']] = df_table_3[['5','6','7','8','9']].astype(str)\n",
    "# Добавляем разделители для колонок квартала и выдела\n",
    "df_table_3['8'] = df_table_3['8'].apply(lambda x:'кв.' + x) # Добавляем разделитель квартал\n",
    "df_table_3['9'] = df_table_3['9'].apply(lambda x:'в.' + x) # Добавляем разделитель выдел"
   ]
  },
  {
   "cell_type": "code",
   "execution_count": 113,
   "id": "ac2202b6",
   "metadata": {},
   "outputs": [],
   "source": [
    "# Создаем колонку с идентификатором\n",
    "df_table_3['ID'] = df_table_3.loc[:,['5','6','7','8','9'] ].sum(axis=1)\n",
    "df_table_3['ID'] = df_table_3['ID'].apply(lambda x:x.replace(' ',''))\n",
    "df_table_3['ID'] = df_table_3['ID'].apply(lambda x:x.replace('nan',''))"
   ]
  },
  {
   "cell_type": "code",
   "execution_count": 114,
   "id": "103e5147",
   "metadata": {},
   "outputs": [],
   "source": [
    "# Мержим по полю айди\n",
    "merged_df = pd.merge(df_upp,df_table_3,how='outer',left_on='ID',right_on='ID',indicator=True)"
   ]
  },
  {
   "cell_type": "code",
   "execution_count": null,
   "id": "071343e5",
   "metadata": {},
   "outputs": [],
   "source": []
  },
  {
   "cell_type": "code",
   "execution_count": 115,
   "id": "42b568f7",
   "metadata": {},
   "outputs": [],
   "source": [
    "# Заменяем площадь в таблице 3 в случае если  такой же выдел есть в реестре\n",
    "merged_df['Площадь'] = np.where(merged_df['_merge'] == 'both',merged_df['Площадь лесотаксационного выдела, га'],merged_df['10'])"
   ]
  },
  {
   "cell_type": "code",
   "execution_count": 116,
   "id": "bf482c40",
   "metadata": {},
   "outputs": [],
   "source": [
    "# Приводим к строковому виду чтобы очистить от разделителей кв. и в.\n",
    "merged_df['8'] = merged_df['8'].astype(str)\n",
    "merged_df['9'] = merged_df['9'].astype(str)\n",
    "# Очищаем от разделителей\n",
    "\n",
    "merged_df['8'] = merged_df['8'].apply(lambda x:x.replace('кв.',''))\n",
    "merged_df['9'] = merged_df['9'].apply(lambda x:x.replace('в.',''))"
   ]
  },
  {
   "cell_type": "code",
   "execution_count": 117,
   "id": "0f95c855",
   "metadata": {},
   "outputs": [],
   "source": [
    "# Приводим к инту колонки чтобы отсортировать их\n",
    "\n",
    "merged_df['8'] = merged_df['8'].apply(prepare_column_to_int)\n",
    "merged_df['9'] = merged_df['9'].apply(prepare_column_to_int)"
   ]
  },
  {
   "cell_type": "code",
   "execution_count": 118,
   "id": "cee1ef5b",
   "metadata": {},
   "outputs": [],
   "source": [
    "merged_df.sort_values(['5','6','7','8','9'],inplace=True)\n",
    "\n",
    "# Присваиваем колонке 10 значение колонки созданной колонки 10\n",
    "#merged_df['10'] = merged_df['Площадь']"
   ]
  },
  {
   "cell_type": "code",
   "execution_count": 119,
   "id": "899dd7cd",
   "metadata": {},
   "outputs": [],
   "source": [
    "merged_df.to_excel('Тест.xlsx',index=False)"
   ]
  },
  {
   "cell_type": "code",
   "execution_count": 120,
   "id": "e0688c6c",
   "metadata": {},
   "outputs": [
    {
     "data": {
      "text/plain": [
       "<Worksheet \"Выделы с обновленной площадью\">"
      ]
     },
     "execution_count": 120,
     "metadata": {},
     "output_type": "execute_result"
    }
   ],
   "source": [
    "# Создаем документ\n",
    "wb = openpyxl.Workbook()\n",
    "# создаем листы\n",
    "ren_sheet = wb['Sheet']\n",
    "ren_sheet.title = 'Нет в таблице 3'\n",
    "wb.create_sheet(title='Нет в реестре УПП', index=1)\n",
    "wb.create_sheet(title='Выделы с обновленной площадью', index=2)"
   ]
  },
  {
   "cell_type": "code",
   "execution_count": 121,
   "id": "d0a3814f",
   "metadata": {},
   "outputs": [],
   "source": [
    "# Записываем каждый датафрейм в соответсвующий лист\n",
    "# Записи реестра которых нет в таблице 3\n",
    "left_df = merged_df[merged_df['_merge'] == 'left_only']\n",
    "left_df.drop(left_df.iloc[:,7:],axis=1,inplace=True)"
   ]
  },
  {
   "cell_type": "code",
   "execution_count": 122,
   "id": "919096a1",
   "metadata": {},
   "outputs": [],
   "source": [
    "# # Очищаем от пробелов и пустых строк \n",
    "# left_df['Урочище'] = left_df['Урочище'].apply(lambda x:x.replace('Название урочища не заполнено',''))\n",
    "# left_df['Урочище'] = left_df['Урочище'].apply(lambda x:x.strip())"
   ]
  },
  {
   "cell_type": "code",
   "execution_count": 123,
   "id": "478acab3",
   "metadata": {},
   "outputs": [],
   "source": [
    "for r in dataframe_to_rows(left_df, index=False, header=True):\n",
    "    wb['Нет в таблице 3'].append(r)\n",
    "wb['Нет в таблице 3'].column_dimensions['A'].width = 30\n",
    "wb['Нет в таблице 3'].column_dimensions['B'].width = 30\n",
    "    "
   ]
  },
  {
   "cell_type": "code",
   "execution_count": null,
   "id": "fd38517c",
   "metadata": {},
   "outputs": [],
   "source": []
  },
  {
   "cell_type": "code",
   "execution_count": 124,
   "id": "9f68833b",
   "metadata": {},
   "outputs": [],
   "source": [
    "# Записываем каждый датафрейм в соответсвующий лист\n",
    "# Записи которые есть только в таблице 3\n",
    "right_df = merged_df[merged_df['_merge'] == 'right_only']\n",
    "right_df.drop(right_df.iloc[:,:6],axis=1,inplace=True)"
   ]
  },
  {
   "cell_type": "code",
   "execution_count": 125,
   "id": "df31c288",
   "metadata": {},
   "outputs": [],
   "source": [
    "# Удаляем лишние колонки\n",
    "right_df.drop(right_df.iloc[:,10:],axis=1,inplace=True)\n",
    "\n",
    "right_df.drop(columns=['1','2','3','4'],axis=1,inplace=True)"
   ]
  },
  {
   "cell_type": "code",
   "execution_count": 128,
   "id": "66246489",
   "metadata": {},
   "outputs": [],
   "source": [
    "# Переименовываем колонки\n",
    "right_df.columns = ['ID','Лесничество','Участковое лесничество','Урочище','Номер лесного квартала','Номер лесотаксационного выдела']"
   ]
  },
  {
   "cell_type": "code",
   "execution_count": null,
   "id": "8a98cda9",
   "metadata": {},
   "outputs": [],
   "source": []
  },
  {
   "cell_type": "code",
   "execution_count": 129,
   "id": "9d8e2b06",
   "metadata": {},
   "outputs": [],
   "source": [
    "# Записываем на лист\n",
    "for r in dataframe_to_rows(right_df, index=False, header=True):\n",
    "    wb['Нет в реестре УПП'].append(r)\n",
    "\n",
    "wb['Нет в реестре УПП'].column_dimensions['A'].width = 30\n",
    "wb['Нет в реестре УПП'].column_dimensions['B'].width = 30\n",
    "wb['Нет в реестре УПП'].column_dimensions['C'].width = 30"
   ]
  },
  {
   "cell_type": "code",
   "execution_count": null,
   "id": "6f039def",
   "metadata": {},
   "outputs": [],
   "source": []
  },
  {
   "cell_type": "code",
   "execution_count": 130,
   "id": "2ba4fadc",
   "metadata": {},
   "outputs": [],
   "source": [
    "# Записываем каждый датафрейм в соответсвующий лист\n",
    "both_df = merged_df[merged_df['_merge'] == 'both']"
   ]
  },
  {
   "cell_type": "code",
   "execution_count": 131,
   "id": "d51734bb",
   "metadata": {},
   "outputs": [],
   "source": [
    "both_df.drop(both_df.iloc[:,17:-1],axis=1,inplace=True)"
   ]
  },
  {
   "cell_type": "code",
   "execution_count": 133,
   "id": "bc484a53",
   "metadata": {},
   "outputs": [],
   "source": [
    "both_df.drop(columns=['1','2','3','4','5','6','7','8','9','Площадь лесотаксационного выдела, га'],axis=1,inplace=True)"
   ]
  },
  {
   "cell_type": "code",
   "execution_count": 135,
   "id": "70bcd5e6",
   "metadata": {},
   "outputs": [],
   "source": [
    "# # Очищаем от пробелов и строки названия урочища не заполнено\n",
    "# both_df['Урочище'] = both_df['Урочище'].apply(lambda x:x.replace('Название урочища не заполнено',''))\n",
    "# both_df['Урочище'] = both_df['Урочище'].apply(lambda x:x.strip())"
   ]
  },
  {
   "cell_type": "code",
   "execution_count": 136,
   "id": "31062901",
   "metadata": {},
   "outputs": [],
   "source": [
    "both_df.rename(columns={'Площадь':'Площадь из реестра УПП','10':'Старая площадь из таблицы 3'},inplace=True)"
   ]
  },
  {
   "cell_type": "code",
   "execution_count": 147,
   "id": "bee3cc20",
   "metadata": {},
   "outputs": [],
   "source": [
    "for r in dataframe_to_rows(both_df, index=False, header=True):\n",
    "    wb['Выделы с обновленной площадью'].append(r)\n",
    "\n",
    "wb['Выделы с обновленной площадью'].column_dimensions['A'].width = 30\n",
    "wb['Выделы с обновленной площадью'].column_dimensions['B'].width = 30\n",
    "wb['Выделы с обновленной площадью'].column_dimensions['G'].width = 20\n",
    "wb['Выделы с обновленной площадью'].column_dimensions['H'].width = 20\n"
   ]
  },
  {
   "cell_type": "code",
   "execution_count": 148,
   "id": "02f9cdba",
   "metadata": {},
   "outputs": [],
   "source": [
    "# Получаем текущую дату\n",
    "current_time = time.strftime('%H_%M_%S %d.%m.%Y')\n",
    "wb.save(f'{path_to_end_folder}/Данные для проверки корректности обновления площадей в таблице 3 от {current_time}.xlsx')"
   ]
  },
  {
   "cell_type": "code",
   "execution_count": 139,
   "id": "cce1a97a",
   "metadata": {},
   "outputs": [],
   "source": [
    "# Создаем новую таблицу 3 с обновленными данными\n",
    "out_table3_df = merged_df[merged_df['_merge'] != 'left_only'] # отбираем общие значения и те что уже были в таблице 3"
   ]
  },
  {
   "cell_type": "code",
   "execution_count": 140,
   "id": "e712782c",
   "metadata": {},
   "outputs": [],
   "source": [
    "# Присваиваем колонке 10 значение колонки созданной колонки 10\n",
    "out_table3_df['10'] = out_table3_df['Площадь']"
   ]
  },
  {
   "cell_type": "code",
   "execution_count": 141,
   "id": "378fc5e1",
   "metadata": {},
   "outputs": [],
   "source": [
    "out_table3_df.drop(columns=['Лесничество','Участковое лесничество','Урочище','Номер лесного квартала','Номер лесотаксационного выдела','Площадь лесотаксационного выдела, га','ID','_merge','Площадь'],inplace=True)"
   ]
  },
  {
   "cell_type": "code",
   "execution_count": 143,
   "id": "0be00b26",
   "metadata": {},
   "outputs": [],
   "source": [
    "# Приводим даты к нормальному виду ДД.ММ.ГГГГ\n",
    "out_table3_df['1'] = pd.to_datetime(out_table3_df['1'],errors='coerce',dayfirst=True)\n",
    "out_table3_df['22'] = pd.to_datetime(out_table3_df['22'],errors='coerce',dayfirst=True)\n",
    "out_table3_df['27'] = pd.to_datetime(out_table3_df['27'],errors='coerce',dayfirst=True)\n",
    "out_table3_df['1'] = out_table3_df['1'].apply(create_doc_convert_date)\n",
    "out_table3_df['22'] = out_table3_df['22'].apply(create_doc_convert_date)\n",
    "out_table3_df['27'] = out_table3_df['27'].apply(create_doc_convert_date)"
   ]
  },
  {
   "cell_type": "code",
   "execution_count": 145,
   "id": "a5d40f8b",
   "metadata": {},
   "outputs": [],
   "source": [
    "# Получаем текущую дату\n",
    "current_time = time.strftime('%H_%M_%S %d.%m.%Y')\n",
    "# Сохраняем отчет\n",
    "# Для того чтобы увеличить ширину колонок для удобства чтения используем openpyxl\n",
    "itog = load_workbook(header_table3) # Создаем объект\n",
    "# Записываем результаты\n",
    "for row in dataframe_to_rows(out_table3_df,index=False,header=False):\n",
    "    itog['Лист1'].append(row)"
   ]
  },
  {
   "cell_type": "code",
   "execution_count": 146,
   "id": "0082ba0d",
   "metadata": {},
   "outputs": [],
   "source": [
    "itog.save(f'{path_to_end_folder}/Таблица 3 с присвоенными площадями из реестра УПП от {current_time}.xlsx')"
   ]
  },
  {
   "cell_type": "code",
   "execution_count": null,
   "id": "b7dd6524",
   "metadata": {},
   "outputs": [],
   "source": []
  },
  {
   "cell_type": "code",
   "execution_count": null,
   "id": "88ea6dc7",
   "metadata": {},
   "outputs": [],
   "source": []
  },
  {
   "cell_type": "code",
   "execution_count": null,
   "id": "56f30d41",
   "metadata": {},
   "outputs": [],
   "source": []
  },
  {
   "cell_type": "code",
   "execution_count": null,
   "id": "aa2f6a91",
   "metadata": {},
   "outputs": [],
   "source": []
  },
  {
   "cell_type": "code",
   "execution_count": null,
   "id": "d79d987a",
   "metadata": {},
   "outputs": [],
   "source": []
  },
  {
   "cell_type": "code",
   "execution_count": null,
   "id": "97095938",
   "metadata": {},
   "outputs": [],
   "source": []
  },
  {
   "cell_type": "code",
   "execution_count": null,
   "id": "1c202172",
   "metadata": {},
   "outputs": [],
   "source": []
  }
 ],
 "metadata": {
  "kernelspec": {
   "display_name": "Python 3 (ipykernel)",
   "language": "python",
   "name": "python3"
  },
  "language_info": {
   "codemirror_mode": {
    "name": "ipython",
    "version": 3
   },
   "file_extension": ".py",
   "mimetype": "text/x-python",
   "name": "python",
   "nbconvert_exporter": "python",
   "pygments_lexer": "ipython3",
   "version": "3.9.13"
  }
 },
 "nbformat": 4,
 "nbformat_minor": 5
}
