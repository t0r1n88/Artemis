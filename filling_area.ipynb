{
 "cells": [
  {
   "cell_type": "code",
   "execution_count": 193,
   "id": "8f3f5226",
   "metadata": {},
   "outputs": [],
   "source": [
    "import pandas as pd\n",
    "import numpy as np\n",
    "import openpyxl\n",
    "from openpyxl.utils.dataframe import dataframe_to_rows\n",
    "from openpyxl.styles import Alignment\n",
    "from openpyxl import load_workbook\n",
    "import time\n",
    "pd.options.mode.chained_assignment = None  # default='warn'"
   ]
  },
  {
   "cell_type": "code",
   "execution_count": 181,
   "id": "1b101826",
   "metadata": {},
   "outputs": [],
   "source": [
    "def combine(x):\n",
    "    # Функция для группировки всех значений в строку разделенную ;\n",
    "    return  ';'.join(x)\n",
    "\n",
    "def check_unique(x):\n",
    "    # Функция для нахождения разночтений в значениях\n",
    "    temp_lst = x.split(';')\n",
    "    temp_set = set(temp_lst)\n",
    "    if 'nan' in temp_set:\n",
    "        return 'Не заполнены значения площади лесотаксационного выдела!!!'\n",
    "    else:\n",
    "        return 'Все в порядке' if len(temp_set) == 1 else 'Ошибка!!!'\n",
    "\n",
    "def main_check_unique(x):\n",
    "    # Функция для проверки корректности заполнения площади выдела\n",
    "    temp_str = ';'.join(x) # Склеиваем все значения\n",
    "    temp_lst = temp_str.split(';') # Создаем список разбивая по ;\n",
    "    temp_set = set(temp_lst) # Превращаем в множество\n",
    "    if len(temp_set) > 1: # Если длина множества больше 1 то есть погрешности\n",
    "        return 0\n",
    "    elif'nan' in temp_set:# если есть нан то не заполнены площади выдела\n",
    "        return 0\n",
    "    else:# Если все в порядке то возвращаем единственный элемент списка\n",
    "        return convert_to_float(temp_lst[0])\n",
    "\n",
    "def convert_to_float(x):\n",
    "    \"\"\"\n",
    "    Функция для конвертирования строки в флоат.\n",
    "    :param x: строка\n",
    "    :return:\n",
    "    \"\"\"\n",
    "    # очищаем от пробелов и возможных заполнения ячейки пробелом\n",
    "    \n",
    "    try:\n",
    "        return float(x)\n",
    "    except ValueError:\n",
    "        return 0\n",
    "def convert_to_int_transfer(cell):\n",
    "    \"\"\"\n",
    "    Функция для конвертации в int\n",
    "    \"\"\"\n",
    "    try:\n",
    "        return int(cell)\n",
    "    except ValueError:\n",
    "        return 0"
   ]
  },
  {
   "cell_type": "code",
   "execution_count": 191,
   "id": "e94052f0",
   "metadata": {},
   "outputs": [],
   "source": [
    "group_rb_region_transfer_3_to_reestr = 0\n",
    "\n",
    "file_transfer_to_upp = 'data/Сравнение таблиц и присвоение данных (площади)/Таблица 3 с дополнительными колонками..xlsx'\n",
    "file_transfer_reestr = 'data/Сравнение таблиц и присвоение данных (площади)/2022-10-27_64_Реестр УПП с дополнительными колонками.xlsx'\n",
    "\n",
    "# file_transfer_to_upp = 'data/Перенос из таблицы 3 в реестр УПП/Якутия октябрь_Таблица 3с доп. колонками.xlsx'\n",
    "# file_transfer_reestr = 'data/Перенос из таблицы 3 в реестр УПП/Якутия 2022-11-27_72_Реестр УПП по новой форме.xlsx'\n",
    "\n",
    "path_to_end_folder = 'data/'\n",
    "header_table3 = 'data/Сравнение таблиц и присвоение данных (площади)/Заголовок Таблица 3 от 08.11.xlsx'"
   ]
  },
  {
   "cell_type": "code",
   "execution_count": 152,
   "id": "165b7fc2",
   "metadata": {},
   "outputs": [],
   "source": [
    "# Создаем список колонок которые нужно загрузить\n",
    "use_cols_upp = list(range(6))\n",
    "use_cols_table3 = list(range(34))\n",
    "\n",
    "# Загружаем датафреймы\n",
    "df = pd.read_excel(file_transfer_reestr,skiprows=8,usecols=use_cols_upp)# Реестр УПП\n",
    "df_table_3 = pd.read_excel(file_transfer_to_upp,skiprows=6,usecols=use_cols_table3) # Таблица 3"
   ]
  },
  {
   "cell_type": "code",
   "execution_count": 153,
   "id": "ee4e3457",
   "metadata": {},
   "outputs": [
    {
     "data": {
      "text/html": [
       "<div>\n",
       "<style scoped>\n",
       "    .dataframe tbody tr th:only-of-type {\n",
       "        vertical-align: middle;\n",
       "    }\n",
       "\n",
       "    .dataframe tbody tr th {\n",
       "        vertical-align: top;\n",
       "    }\n",
       "\n",
       "    .dataframe thead th {\n",
       "        text-align: right;\n",
       "    }\n",
       "</style>\n",
       "<table border=\"1\" class=\"dataframe\">\n",
       "  <thead>\n",
       "    <tr style=\"text-align: right;\">\n",
       "      <th></th>\n",
       "      <th>1</th>\n",
       "      <th>2</th>\n",
       "      <th>3</th>\n",
       "      <th>4</th>\n",
       "      <th>5</th>\n",
       "      <th>6</th>\n",
       "      <th>7</th>\n",
       "      <th>8</th>\n",
       "      <th>9</th>\n",
       "      <th>10</th>\n",
       "      <th>...</th>\n",
       "      <th>25</th>\n",
       "      <th>26</th>\n",
       "      <th>27</th>\n",
       "      <th>28</th>\n",
       "      <th>29</th>\n",
       "      <th>30</th>\n",
       "      <th>31</th>\n",
       "      <th>32</th>\n",
       "      <th>33</th>\n",
       "      <th>34</th>\n",
       "    </tr>\n",
       "  </thead>\n",
       "  <tbody>\n",
       "    <tr>\n",
       "      <th>0</th>\n",
       "      <td>2022-06-29</td>\n",
       "      <td>NaN</td>\n",
       "      <td>0.2</td>\n",
       "      <td>Республика Бурятия</td>\n",
       "      <td>Ангоянское</td>\n",
       "      <td>Ангоянское</td>\n",
       "      <td>NaN</td>\n",
       "      <td>32</td>\n",
       "      <td>1</td>\n",
       "      <td>13.0</td>\n",
       "      <td>...</td>\n",
       "      <td>0</td>\n",
       "      <td>0</td>\n",
       "      <td>0</td>\n",
       "      <td>0</td>\n",
       "      <td>0</td>\n",
       "      <td>1</td>\n",
       "      <td>201</td>\n",
       "      <td>NaN</td>\n",
       "      <td>0.0</td>\n",
       "      <td>2015</td>\n",
       "    </tr>\n",
       "    <tr>\n",
       "      <th>1</th>\n",
       "      <td>2022-06-29</td>\n",
       "      <td>NaN</td>\n",
       "      <td>0.2</td>\n",
       "      <td>Республика Бурятия</td>\n",
       "      <td>Ангоянское</td>\n",
       "      <td>Ангоянское</td>\n",
       "      <td>NaN</td>\n",
       "      <td>32</td>\n",
       "      <td>1</td>\n",
       "      <td>300.0</td>\n",
       "      <td>...</td>\n",
       "      <td>0</td>\n",
       "      <td>0</td>\n",
       "      <td>0</td>\n",
       "      <td>0</td>\n",
       "      <td>0</td>\n",
       "      <td>1</td>\n",
       "      <td>201</td>\n",
       "      <td>NaN</td>\n",
       "      <td>0.0</td>\n",
       "      <td>2020</td>\n",
       "    </tr>\n",
       "    <tr>\n",
       "      <th>2</th>\n",
       "      <td>2022-06-29</td>\n",
       "      <td>NaN</td>\n",
       "      <td>0.3</td>\n",
       "      <td>Республика Бурятия</td>\n",
       "      <td>Ангоянское</td>\n",
       "      <td>Ангоянское</td>\n",
       "      <td>NaN</td>\n",
       "      <td>32</td>\n",
       "      <td>1</td>\n",
       "      <td>500.0</td>\n",
       "      <td>...</td>\n",
       "      <td>0</td>\n",
       "      <td>0</td>\n",
       "      <td>0</td>\n",
       "      <td>0</td>\n",
       "      <td>0</td>\n",
       "      <td>1</td>\n",
       "      <td>201</td>\n",
       "      <td>NaN</td>\n",
       "      <td>0.0</td>\n",
       "      <td>2021</td>\n",
       "    </tr>\n",
       "    <tr>\n",
       "      <th>3</th>\n",
       "      <td>2022-06-29</td>\n",
       "      <td>NaN</td>\n",
       "      <td>2.3</td>\n",
       "      <td>Республика Бурятия</td>\n",
       "      <td>Ангоянское</td>\n",
       "      <td>Ангоянское</td>\n",
       "      <td>NaN</td>\n",
       "      <td>32</td>\n",
       "      <td>1</td>\n",
       "      <td>400.0</td>\n",
       "      <td>...</td>\n",
       "      <td>более 40%</td>\n",
       "      <td>более 40%</td>\n",
       "      <td>2022-04-05 00:00:00</td>\n",
       "      <td>1</td>\n",
       "      <td>0</td>\n",
       "      <td>1</td>\n",
       "      <td>103</td>\n",
       "      <td>NaN</td>\n",
       "      <td>2.3</td>\n",
       "      <td>2015</td>\n",
       "    </tr>\n",
       "    <tr>\n",
       "      <th>4</th>\n",
       "      <td>2022-06-29</td>\n",
       "      <td>NaN</td>\n",
       "      <td>0.8</td>\n",
       "      <td>Республика Бурятия</td>\n",
       "      <td>Улан-Удэнское</td>\n",
       "      <td>Березовское</td>\n",
       "      <td>NaN</td>\n",
       "      <td>39</td>\n",
       "      <td>8</td>\n",
       "      <td>2.0</td>\n",
       "      <td>...</td>\n",
       "      <td>более 40%</td>\n",
       "      <td>более 40%</td>\n",
       "      <td>2022-04-05 00:00:00</td>\n",
       "      <td>1</td>\n",
       "      <td>0</td>\n",
       "      <td>1</td>\n",
       "      <td>103</td>\n",
       "      <td>NaN</td>\n",
       "      <td>0.8</td>\n",
       "      <td>2015</td>\n",
       "    </tr>\n",
       "  </tbody>\n",
       "</table>\n",
       "<p>5 rows × 34 columns</p>\n",
       "</div>"
      ],
      "text/plain": [
       "           1   2    3                   4              5            6    7  \\\n",
       "0 2022-06-29 NaN  0.2  Республика Бурятия     Ангоянское   Ангоянское  NaN   \n",
       "1 2022-06-29 NaN  0.2  Республика Бурятия     Ангоянское   Ангоянское  NaN   \n",
       "2 2022-06-29 NaN  0.3  Республика Бурятия     Ангоянское   Ангоянское  NaN   \n",
       "3 2022-06-29 NaN  2.3  Республика Бурятия     Ангоянское   Ангоянское  NaN   \n",
       "4 2022-06-29 NaN  0.8  Республика Бурятия  Улан-Удэнское  Березовское  NaN   \n",
       "\n",
       "    8  9     10  ...         25         26                   27 28  29  30  \\\n",
       "0  32  1   13.0  ...          0          0                    0  0   0   1   \n",
       "1  32  1  300.0  ...          0          0                    0  0   0   1   \n",
       "2  32  1  500.0  ...          0          0                    0  0   0   1   \n",
       "3  32  1  400.0  ...  более 40%  более 40%  2022-04-05 00:00:00  1   0   1   \n",
       "4  39  8    2.0  ...  более 40%  более 40%  2022-04-05 00:00:00  1   0   1   \n",
       "\n",
       "    31   32   33    34  \n",
       "0  201  NaN  0.0  2015  \n",
       "1  201  NaN  0.0  2020  \n",
       "2  201  NaN  0.0  2021  \n",
       "3  103  NaN  2.3  2015  \n",
       "4  103  NaN  0.8  2015  \n",
       "\n",
       "[5 rows x 34 columns]"
      ]
     },
     "execution_count": 153,
     "metadata": {},
     "output_type": "execute_result"
    }
   ],
   "source": [
    "df_table_3.head()"
   ]
  },
  {
   "cell_type": "code",
   "execution_count": 154,
   "id": "8d0aefae",
   "metadata": {},
   "outputs": [
    {
     "data": {
      "text/html": [
       "<div>\n",
       "<style scoped>\n",
       "    .dataframe tbody tr th:only-of-type {\n",
       "        vertical-align: middle;\n",
       "    }\n",
       "\n",
       "    .dataframe tbody tr th {\n",
       "        vertical-align: top;\n",
       "    }\n",
       "\n",
       "    .dataframe thead th {\n",
       "        text-align: right;\n",
       "    }\n",
       "</style>\n",
       "<table border=\"1\" class=\"dataframe\">\n",
       "  <thead>\n",
       "    <tr style=\"text-align: right;\">\n",
       "      <th></th>\n",
       "      <th>1</th>\n",
       "      <th>2</th>\n",
       "      <th>3</th>\n",
       "      <th>4</th>\n",
       "      <th>5</th>\n",
       "      <th>6</th>\n",
       "    </tr>\n",
       "  </thead>\n",
       "  <tbody>\n",
       "    <tr>\n",
       "      <th>0</th>\n",
       "      <td>Ангоянское</td>\n",
       "      <td>Ангоянское</td>\n",
       "      <td>NaN</td>\n",
       "      <td>32</td>\n",
       "      <td>1</td>\n",
       "      <td>13</td>\n",
       "    </tr>\n",
       "    <tr>\n",
       "      <th>1</th>\n",
       "      <td>Ангоянское</td>\n",
       "      <td>Ангоянское</td>\n",
       "      <td>NaN</td>\n",
       "      <td>32</td>\n",
       "      <td>2</td>\n",
       "      <td>7</td>\n",
       "    </tr>\n",
       "    <tr>\n",
       "      <th>2</th>\n",
       "      <td>Ангоянское</td>\n",
       "      <td>Ангоянское</td>\n",
       "      <td>NaN</td>\n",
       "      <td>32</td>\n",
       "      <td>3</td>\n",
       "      <td>11</td>\n",
       "    </tr>\n",
       "    <tr>\n",
       "      <th>3</th>\n",
       "      <td>Ангоянское</td>\n",
       "      <td>Ангоянское</td>\n",
       "      <td>NaN</td>\n",
       "      <td>32</td>\n",
       "      <td>5</td>\n",
       "      <td>10</td>\n",
       "    </tr>\n",
       "    <tr>\n",
       "      <th>4</th>\n",
       "      <td>Ангоянское</td>\n",
       "      <td>Ангоянское</td>\n",
       "      <td>NaN</td>\n",
       "      <td>32</td>\n",
       "      <td>7</td>\n",
       "      <td>78</td>\n",
       "    </tr>\n",
       "  </tbody>\n",
       "</table>\n",
       "</div>"
      ],
      "text/plain": [
       "            1           2    3   4  5   6\n",
       "0  Ангоянское  Ангоянское  NaN  32  1  13\n",
       "1  Ангоянское  Ангоянское  NaN  32  2   7\n",
       "2  Ангоянское  Ангоянское  NaN  32  3  11\n",
       "3  Ангоянское  Ангоянское  NaN  32  5  10\n",
       "4  Ангоянское  Ангоянское  NaN  32  7  78"
      ]
     },
     "execution_count": 154,
     "metadata": {},
     "output_type": "execute_result"
    }
   ],
   "source": [
    "df.head()"
   ]
  },
  {
   "cell_type": "code",
   "execution_count": 155,
   "id": "495adf90",
   "metadata": {},
   "outputs": [],
   "source": [
    "# Приводим названия колонок к строковому виду, чтобы избежать возможных проблем с названиями колонок\n",
    "df.columns = list(map(str,list(df.columns)))\n",
    "# на всякий случай очищаем от пробельных символов\n",
    "df.columns = list(map(lambda x:x.replace(\" \",\"\"),list(df.columns)))"
   ]
  },
  {
   "cell_type": "code",
   "execution_count": 156,
   "id": "759550e4",
   "metadata": {},
   "outputs": [
    {
     "data": {
      "text/plain": [
       "'\\nСоответствие названий колонок используемым в программе номерам колонок\\nЛесничество -1\\nУчастковое лесничество- 2\\nУрочище - 3\\nНомер лесного квартала -4\\nНомер лесотаксационного выдела -5\\nПлощадь лесотаксационного выдела, га - 6\\n'"
      ]
     },
     "execution_count": 156,
     "metadata": {},
     "output_type": "execute_result"
    }
   ],
   "source": [
    "\"\"\"\n",
    "Соответствие названий колонок используемым в программе номерам колонок\n",
    "Лесничество -1\n",
    "Участковое лесничество- 2\n",
    "Урочище - 3\n",
    "Номер лесного квартала -4\n",
    "Номер лесотаксационного выдела -5\n",
    "Площадь лесотаксационного выдела, га - 6\n",
    "\"\"\""
   ]
  },
  {
   "cell_type": "code",
   "execution_count": 157,
   "id": "7eacc4a5",
   "metadata": {},
   "outputs": [],
   "source": [
    "df.rename(columns={'1':'Лесничество','2':'Участковое лесничество','3':'Урочище','4':'Номер лесного квартала','5':'Номер лесотаксационного выдела',\n",
    "                  '6':'Площадь лесотаксационного выдела, га'},inplace=True)\n",
    "\n"
   ]
  },
  {
   "cell_type": "code",
   "execution_count": 158,
   "id": "309a352b",
   "metadata": {},
   "outputs": [],
   "source": [
    "# Заполняем Nan чтобы группировка прошла успешно\n",
    "df['Урочище'] = df['Урочище'].fillna('Название урочища не заполнено')"
   ]
  },
  {
   "cell_type": "code",
   "execution_count": 159,
   "id": "15315b3a",
   "metadata": {},
   "outputs": [],
   "source": [
    "df['Площадь лесотаксационного выдела, га'] = df['Площадь лесотаксационного выдела, га'].astype(str)\n",
    "\n",
    "df['Площадь лесотаксационного выдела, га'] = df['Площадь лесотаксационного выдела, га'].apply(\n",
    "    lambda x: x.replace(',', '.'))\n",
    "\n",
    "# Группируем\n",
    "df_upp = df.groupby(['Лесничество', 'Участковое лесничество', 'Урочище', 'Номер лесного квартала',\n",
    "                       'Номер лесотаксационного выдела']).agg({'Площадь лесотаксационного выдела, га': main_check_unique,\n",
    "                                                               })\n",
    "\n",
    "df_upp=df_upp.astype(str)\n"
   ]
  },
  {
   "cell_type": "code",
   "execution_count": 160,
   "id": "98fad8bd",
   "metadata": {},
   "outputs": [],
   "source": [
    "# Извлекаем индексы в колонки\n",
    "df_upp = df_upp.reset_index()"
   ]
  },
  {
   "cell_type": "code",
   "execution_count": 161,
   "id": "e4f0d2ee",
   "metadata": {},
   "outputs": [
    {
     "data": {
      "text/html": [
       "<div>\n",
       "<style scoped>\n",
       "    .dataframe tbody tr th:only-of-type {\n",
       "        vertical-align: middle;\n",
       "    }\n",
       "\n",
       "    .dataframe tbody tr th {\n",
       "        vertical-align: top;\n",
       "    }\n",
       "\n",
       "    .dataframe thead th {\n",
       "        text-align: right;\n",
       "    }\n",
       "</style>\n",
       "<table border=\"1\" class=\"dataframe\">\n",
       "  <thead>\n",
       "    <tr style=\"text-align: right;\">\n",
       "      <th></th>\n",
       "      <th>Лесничество</th>\n",
       "      <th>Участковое лесничество</th>\n",
       "      <th>Урочище</th>\n",
       "      <th>Номер лесного квартала</th>\n",
       "      <th>Номер лесотаксационного выдела</th>\n",
       "      <th>Площадь лесотаксационного выдела, га</th>\n",
       "    </tr>\n",
       "  </thead>\n",
       "  <tbody>\n",
       "    <tr>\n",
       "      <th>0</th>\n",
       "      <td>Ангоянское</td>\n",
       "      <td>Ангоянское</td>\n",
       "      <td>Название урочища не заполнено</td>\n",
       "      <td>32</td>\n",
       "      <td>1</td>\n",
       "      <td>13.0</td>\n",
       "    </tr>\n",
       "    <tr>\n",
       "      <th>1</th>\n",
       "      <td>Ангоянское</td>\n",
       "      <td>Ангоянское</td>\n",
       "      <td>Название урочища не заполнено</td>\n",
       "      <td>32</td>\n",
       "      <td>2</td>\n",
       "      <td>7.0</td>\n",
       "    </tr>\n",
       "    <tr>\n",
       "      <th>2</th>\n",
       "      <td>Ангоянское</td>\n",
       "      <td>Ангоянское</td>\n",
       "      <td>Название урочища не заполнено</td>\n",
       "      <td>32</td>\n",
       "      <td>3</td>\n",
       "      <td>11.0</td>\n",
       "    </tr>\n",
       "    <tr>\n",
       "      <th>3</th>\n",
       "      <td>Ангоянское</td>\n",
       "      <td>Ангоянское</td>\n",
       "      <td>Название урочища не заполнено</td>\n",
       "      <td>32</td>\n",
       "      <td>5</td>\n",
       "      <td>10.0</td>\n",
       "    </tr>\n",
       "    <tr>\n",
       "      <th>4</th>\n",
       "      <td>Ангоянское</td>\n",
       "      <td>Ангоянское</td>\n",
       "      <td>Название урочища не заполнено</td>\n",
       "      <td>32</td>\n",
       "      <td>7</td>\n",
       "      <td>78.0</td>\n",
       "    </tr>\n",
       "  </tbody>\n",
       "</table>\n",
       "</div>"
      ],
      "text/plain": [
       "  Лесничество Участковое лесничество                        Урочище  \\\n",
       "0  Ангоянское             Ангоянское  Название урочища не заполнено   \n",
       "1  Ангоянское             Ангоянское  Название урочища не заполнено   \n",
       "2  Ангоянское             Ангоянское  Название урочища не заполнено   \n",
       "3  Ангоянское             Ангоянское  Название урочища не заполнено   \n",
       "4  Ангоянское             Ангоянское  Название урочища не заполнено   \n",
       "\n",
       "  Номер лесного квартала Номер лесотаксационного выдела  \\\n",
       "0                     32                              1   \n",
       "1                     32                              2   \n",
       "2                     32                              3   \n",
       "3                     32                              5   \n",
       "4                     32                              7   \n",
       "\n",
       "  Площадь лесотаксационного выдела, га  \n",
       "0                                 13.0  \n",
       "1                                  7.0  \n",
       "2                                 11.0  \n",
       "3                                 10.0  \n",
       "4                                 78.0  "
      ]
     },
     "execution_count": 161,
     "metadata": {},
     "output_type": "execute_result"
    }
   ],
   "source": [
    "df_upp.head()\n"
   ]
  },
  {
   "cell_type": "code",
   "execution_count": 162,
   "id": "5e4ae448",
   "metadata": {},
   "outputs": [],
   "source": [
    "# Обрабатываем колонки таблицы 3\n",
    "# Приводим названия колонок к строковому виду, чтобы избежать возможных проблем с названиями колонок\n",
    "df_table_3.columns = list(map(str,list(df_table_3.columns)))\n",
    "\n",
    "# Очищаем на всякий случай от пробельных символов\n",
    "df_table_3.columns = list(map(lambda x:x.strip(),list(df_table_3.columns)))"
   ]
  },
  {
   "cell_type": "code",
   "execution_count": 163,
   "id": "5c75369d",
   "metadata": {},
   "outputs": [],
   "source": [
    "# делаем строковыми первые 5 колонок в датафрейме Реестр УПП\n",
    "df_upp[['Лесничество','Участковое лесничество','Урочище','Номер лесного квартала','Номер лесотаксационного выдела']] = df_upp[['Лесничество','Участковое лесничество','Урочище','Номер лесного квартала','Номер лесотаксационного выдела']].astype(str)\n",
    "df_upp['ID'] = df_upp.loc[:,['Лесничество','Участковое лесничество','Урочище','Номер лесного квартала','Номер лесотаксационного выдела'] ].sum(axis=1)\n",
    "df_upp['ID'] = df_upp['ID'].apply(lambda x:x.replace(' ',''))\n",
    "df_upp['ID'] = df_upp['ID'].apply(lambda x:x.replace('nan',''))"
   ]
  },
  {
   "cell_type": "code",
   "execution_count": 164,
   "id": "c37a011c",
   "metadata": {},
   "outputs": [],
   "source": [
    "# Заменяем nan в урочище \n",
    "df_table_3['7'] = df_table_3['7'].fillna('Название урочища не заполнено')"
   ]
  },
  {
   "cell_type": "code",
   "execution_count": 165,
   "id": "fa5dc73d",
   "metadata": {},
   "outputs": [],
   "source": [
    "# делаем строковыми колонки по которым будем соединять в датафрейме 3 таблицы\n",
    "df_table_3[['5','6','7','8','9']] = df_table_3[['5','6','7','8','9']].astype(str)\n",
    "df_table_3['ID'] = df_table_3.loc[:,['5','6','7','8','9'] ].sum(axis=1)\n",
    "df_table_3['ID'] = df_table_3['ID'].apply(lambda x:x.replace(' ',''))\n",
    "df_table_3['ID'] = df_table_3['ID'].apply(lambda x:x.replace('nan',''))"
   ]
  },
  {
   "cell_type": "code",
   "execution_count": 173,
   "id": "d1dfa2e3",
   "metadata": {},
   "outputs": [],
   "source": [
    "# Мержим по полю айди\n",
    "merged_df = pd.merge(df_upp,df_table_3,how='outer',left_on='ID',right_on='ID',indicator=True)"
   ]
  },
  {
   "cell_type": "code",
   "execution_count": 174,
   "id": "75229edf",
   "metadata": {},
   "outputs": [],
   "source": [
    "merged_df['Площадь'] = np.where(merged_df['_merge'] == 'both',merged_df['Площадь лесотаксационного выдела, га'],merged_df['10'])"
   ]
  },
  {
   "cell_type": "code",
   "execution_count": 175,
   "id": "835d4153",
   "metadata": {},
   "outputs": [
    {
     "data": {
      "text/html": [
       "<div>\n",
       "<style scoped>\n",
       "    .dataframe tbody tr th:only-of-type {\n",
       "        vertical-align: middle;\n",
       "    }\n",
       "\n",
       "    .dataframe tbody tr th {\n",
       "        vertical-align: top;\n",
       "    }\n",
       "\n",
       "    .dataframe thead th {\n",
       "        text-align: right;\n",
       "    }\n",
       "</style>\n",
       "<table border=\"1\" class=\"dataframe\">\n",
       "  <thead>\n",
       "    <tr style=\"text-align: right;\">\n",
       "      <th></th>\n",
       "      <th>Лесничество</th>\n",
       "      <th>Участковое лесничество</th>\n",
       "      <th>Урочище</th>\n",
       "      <th>Номер лесного квартала</th>\n",
       "      <th>Номер лесотаксационного выдела</th>\n",
       "      <th>Площадь лесотаксационного выдела, га</th>\n",
       "      <th>ID</th>\n",
       "      <th>1</th>\n",
       "      <th>2</th>\n",
       "      <th>3</th>\n",
       "      <th>...</th>\n",
       "      <th>27</th>\n",
       "      <th>28</th>\n",
       "      <th>29</th>\n",
       "      <th>30</th>\n",
       "      <th>31</th>\n",
       "      <th>32</th>\n",
       "      <th>33</th>\n",
       "      <th>34</th>\n",
       "      <th>_merge</th>\n",
       "      <th>Площадь</th>\n",
       "    </tr>\n",
       "  </thead>\n",
       "  <tbody>\n",
       "    <tr>\n",
       "      <th>0</th>\n",
       "      <td>Ангоянское</td>\n",
       "      <td>Ангоянское</td>\n",
       "      <td>Название урочища не заполнено</td>\n",
       "      <td>32</td>\n",
       "      <td>1</td>\n",
       "      <td>13.0</td>\n",
       "      <td>АнгоянскоеАнгоянскоеНазваниеурочищанезаполнено321</td>\n",
       "      <td>2022-06-29</td>\n",
       "      <td>NaN</td>\n",
       "      <td>0.2</td>\n",
       "      <td>...</td>\n",
       "      <td>0</td>\n",
       "      <td>0.0</td>\n",
       "      <td>0.0</td>\n",
       "      <td>1.0</td>\n",
       "      <td>201.0</td>\n",
       "      <td>NaN</td>\n",
       "      <td>0.0</td>\n",
       "      <td>2015.0</td>\n",
       "      <td>both</td>\n",
       "      <td>13.0</td>\n",
       "    </tr>\n",
       "    <tr>\n",
       "      <th>1</th>\n",
       "      <td>Ангоянское</td>\n",
       "      <td>Ангоянское</td>\n",
       "      <td>Название урочища не заполнено</td>\n",
       "      <td>32</td>\n",
       "      <td>1</td>\n",
       "      <td>13.0</td>\n",
       "      <td>АнгоянскоеАнгоянскоеНазваниеурочищанезаполнено321</td>\n",
       "      <td>2022-06-29</td>\n",
       "      <td>NaN</td>\n",
       "      <td>0.2</td>\n",
       "      <td>...</td>\n",
       "      <td>0</td>\n",
       "      <td>0.0</td>\n",
       "      <td>0.0</td>\n",
       "      <td>1.0</td>\n",
       "      <td>201.0</td>\n",
       "      <td>NaN</td>\n",
       "      <td>0.0</td>\n",
       "      <td>2020.0</td>\n",
       "      <td>both</td>\n",
       "      <td>13.0</td>\n",
       "    </tr>\n",
       "    <tr>\n",
       "      <th>2</th>\n",
       "      <td>Ангоянское</td>\n",
       "      <td>Ангоянское</td>\n",
       "      <td>Название урочища не заполнено</td>\n",
       "      <td>32</td>\n",
       "      <td>1</td>\n",
       "      <td>13.0</td>\n",
       "      <td>АнгоянскоеАнгоянскоеНазваниеурочищанезаполнено321</td>\n",
       "      <td>2022-06-29</td>\n",
       "      <td>NaN</td>\n",
       "      <td>0.3</td>\n",
       "      <td>...</td>\n",
       "      <td>0</td>\n",
       "      <td>0.0</td>\n",
       "      <td>0.0</td>\n",
       "      <td>1.0</td>\n",
       "      <td>201.0</td>\n",
       "      <td>NaN</td>\n",
       "      <td>0.0</td>\n",
       "      <td>2021.0</td>\n",
       "      <td>both</td>\n",
       "      <td>13.0</td>\n",
       "    </tr>\n",
       "    <tr>\n",
       "      <th>3</th>\n",
       "      <td>Ангоянское</td>\n",
       "      <td>Ангоянское</td>\n",
       "      <td>Название урочища не заполнено</td>\n",
       "      <td>32</td>\n",
       "      <td>1</td>\n",
       "      <td>13.0</td>\n",
       "      <td>АнгоянскоеАнгоянскоеНазваниеурочищанезаполнено321</td>\n",
       "      <td>2022-06-29</td>\n",
       "      <td>NaN</td>\n",
       "      <td>2.3</td>\n",
       "      <td>...</td>\n",
       "      <td>2022-04-05 00:00:00</td>\n",
       "      <td>1.0</td>\n",
       "      <td>0.0</td>\n",
       "      <td>1.0</td>\n",
       "      <td>103.0</td>\n",
       "      <td>NaN</td>\n",
       "      <td>2.3</td>\n",
       "      <td>2015.0</td>\n",
       "      <td>both</td>\n",
       "      <td>13.0</td>\n",
       "    </tr>\n",
       "    <tr>\n",
       "      <th>4</th>\n",
       "      <td>Ангоянское</td>\n",
       "      <td>Ангоянское</td>\n",
       "      <td>Название урочища не заполнено</td>\n",
       "      <td>32</td>\n",
       "      <td>2</td>\n",
       "      <td>7.0</td>\n",
       "      <td>АнгоянскоеАнгоянскоеНазваниеурочищанезаполнено322</td>\n",
       "      <td>NaT</td>\n",
       "      <td>NaN</td>\n",
       "      <td>NaN</td>\n",
       "      <td>...</td>\n",
       "      <td>NaN</td>\n",
       "      <td>NaN</td>\n",
       "      <td>NaN</td>\n",
       "      <td>NaN</td>\n",
       "      <td>NaN</td>\n",
       "      <td>NaN</td>\n",
       "      <td>NaN</td>\n",
       "      <td>NaN</td>\n",
       "      <td>left_only</td>\n",
       "      <td>NaN</td>\n",
       "    </tr>\n",
       "  </tbody>\n",
       "</table>\n",
       "<p>5 rows × 43 columns</p>\n",
       "</div>"
      ],
      "text/plain": [
       "  Лесничество Участковое лесничество                        Урочище  \\\n",
       "0  Ангоянское             Ангоянское  Название урочища не заполнено   \n",
       "1  Ангоянское             Ангоянское  Название урочища не заполнено   \n",
       "2  Ангоянское             Ангоянское  Название урочища не заполнено   \n",
       "3  Ангоянское             Ангоянское  Название урочища не заполнено   \n",
       "4  Ангоянское             Ангоянское  Название урочища не заполнено   \n",
       "\n",
       "  Номер лесного квартала Номер лесотаксационного выдела  \\\n",
       "0                     32                              1   \n",
       "1                     32                              1   \n",
       "2                     32                              1   \n",
       "3                     32                              1   \n",
       "4                     32                              2   \n",
       "\n",
       "  Площадь лесотаксационного выдела, га  \\\n",
       "0                                 13.0   \n",
       "1                                 13.0   \n",
       "2                                 13.0   \n",
       "3                                 13.0   \n",
       "4                                  7.0   \n",
       "\n",
       "                                                  ID          1   2    3  ...  \\\n",
       "0  АнгоянскоеАнгоянскоеНазваниеурочищанезаполнено321 2022-06-29 NaN  0.2  ...   \n",
       "1  АнгоянскоеАнгоянскоеНазваниеурочищанезаполнено321 2022-06-29 NaN  0.2  ...   \n",
       "2  АнгоянскоеАнгоянскоеНазваниеурочищанезаполнено321 2022-06-29 NaN  0.3  ...   \n",
       "3  АнгоянскоеАнгоянскоеНазваниеурочищанезаполнено321 2022-06-29 NaN  2.3  ...   \n",
       "4  АнгоянскоеАнгоянскоеНазваниеурочищанезаполнено322        NaT NaN  NaN  ...   \n",
       "\n",
       "                    27   28   29   30     31   32   33      34     _merge  \\\n",
       "0                    0  0.0  0.0  1.0  201.0  NaN  0.0  2015.0       both   \n",
       "1                    0  0.0  0.0  1.0  201.0  NaN  0.0  2020.0       both   \n",
       "2                    0  0.0  0.0  1.0  201.0  NaN  0.0  2021.0       both   \n",
       "3  2022-04-05 00:00:00  1.0  0.0  1.0  103.0  NaN  2.3  2015.0       both   \n",
       "4                  NaN  NaN  NaN  NaN    NaN  NaN  NaN     NaN  left_only   \n",
       "\n",
       "  Площадь  \n",
       "0    13.0  \n",
       "1    13.0  \n",
       "2    13.0  \n",
       "3    13.0  \n",
       "4     NaN  \n",
       "\n",
       "[5 rows x 43 columns]"
      ]
     },
     "execution_count": 175,
     "metadata": {},
     "output_type": "execute_result"
    }
   ],
   "source": [
    "merged_df.head()"
   ]
  },
  {
   "cell_type": "code",
   "execution_count": 197,
   "id": "82ee5014",
   "metadata": {},
   "outputs": [],
   "source": [
    "out_table3_df = merged_df[merged_df['_merge'] != 'left_only']"
   ]
  },
  {
   "cell_type": "code",
   "execution_count": 198,
   "id": "146fcfab",
   "metadata": {},
   "outputs": [],
   "source": [
    "# Приводим к инту колонки чтобы отсортировать их\n",
    "out_table3_df['8'] = out_table3_df['8'].apply(convert_to_int_transfer)\n",
    "out_table3_df['9'] = out_table3_df['9'].apply(convert_to_int_transfer)"
   ]
  },
  {
   "cell_type": "code",
   "execution_count": 199,
   "id": "7e86cd1d",
   "metadata": {},
   "outputs": [],
   "source": [
    "out_table3_df.sort_values(['5','6','7','8','9'],inplace=True)"
   ]
  },
  {
   "cell_type": "code",
   "execution_count": 200,
   "id": "dcb63d3e",
   "metadata": {},
   "outputs": [],
   "source": [
    "# Присваиваем колонке 10 значение колонки созданной колонки 10\n",
    "out_table3_df['10'] = out_table3_df['Площадь']"
   ]
  },
  {
   "cell_type": "code",
   "execution_count": 201,
   "id": "202cff30",
   "metadata": {},
   "outputs": [],
   "source": [
    "out_table3_df.drop(columns=['Лесничество','Участковое лесничество','Урочище','Номер лесного квартала','Номер лесотаксационного выдела','Площадь лесотаксационного выдела, га','ID','_merge','Площадь'],inplace=True)"
   ]
  },
  {
   "cell_type": "code",
   "execution_count": 202,
   "id": "132aa179",
   "metadata": {},
   "outputs": [],
   "source": [
    "# Получаем текущую дату\n",
    "current_time = time.strftime('%H_%M_%S %d.%m.%Y')\n",
    "# Сохраняем отчет\n",
    "# Для того чтобы увеличить ширину колонок для удобства чтения используем openpyxl\n",
    "wb = load_workbook(header_table3) # Создаем объект\n",
    "# Записываем результаты\n",
    "for row in dataframe_to_rows(out_table3_df,index=False,header=False):\n",
    "    wb['Лист1'].append(row)"
   ]
  },
  {
   "cell_type": "code",
   "execution_count": 203,
   "id": "533a49af",
   "metadata": {},
   "outputs": [],
   "source": [
    "wb.save(f'{path_to_end_folder}/Таблица 3 с присвоенными площадями из реестра УППП {current_time}.xlsx')"
   ]
  },
  {
   "cell_type": "code",
   "execution_count": null,
   "id": "e4e87d51",
   "metadata": {},
   "outputs": [],
   "source": []
  },
  {
   "cell_type": "code",
   "execution_count": null,
   "id": "f54cecca",
   "metadata": {},
   "outputs": [],
   "source": []
  },
  {
   "cell_type": "code",
   "execution_count": null,
   "id": "3f2069db",
   "metadata": {},
   "outputs": [],
   "source": []
  },
  {
   "cell_type": "code",
   "execution_count": null,
   "id": "3eaf7926",
   "metadata": {},
   "outputs": [],
   "source": []
  },
  {
   "cell_type": "code",
   "execution_count": null,
   "id": "228cbfbc",
   "metadata": {},
   "outputs": [],
   "source": []
  },
  {
   "cell_type": "code",
   "execution_count": null,
   "id": "8b0d7959",
   "metadata": {},
   "outputs": [],
   "source": []
  },
  {
   "cell_type": "code",
   "execution_count": null,
   "id": "dc156ada",
   "metadata": {},
   "outputs": [],
   "source": []
  },
  {
   "cell_type": "code",
   "execution_count": 22,
   "id": "d4a773f5",
   "metadata": {},
   "outputs": [],
   "source": [
    "\n",
    "file_filing_reestr = 'data/Сравнение таблиц и присвоение данных (площади)/2022-10-27_64_Реестр УПП с дополнительными колонками.xlsx'\n",
    "file_filing_table3 = 'data/Сравнение таблиц и присвоение данных (площади)/Таблица 3 с дополнительными колонками..xlsx'\n",
    "path_to_end_folder_filling_area = 'data/'\n",
    "\n"
   ]
  },
  {
   "cell_type": "code",
   "execution_count": null,
   "id": "98a004a8",
   "metadata": {},
   "outputs": [],
   "source": [
    "\"\"\"\n",
    "Создаем датафреймы\n",
    "Создаем датафрейм реестра считывая первые 5 колонок и пропуская шапку в 8 строк\n",
    "\"\"\"\n",
    "\n",
    "first_df = pd.read_excel(file_filing_reestr,skiprows=8,usecols=[0,1,2,3,4,5]) # датафрейм реестра"
   ]
  },
  {
   "cell_type": "code",
   "execution_count": 23,
   "id": "bc523be8",
   "metadata": {},
   "outputs": [],
   "source": [
    "second_df = pd.read_excel(file_filing_table3,skiprows=6) # датафрейм таблицы 3 в которой нужно заполнить площадь"
   ]
  },
  {
   "cell_type": "code",
   "execution_count": 24,
   "id": "133ab0e8",
   "metadata": {},
   "outputs": [
    {
     "data": {
      "text/html": [
       "<div>\n",
       "<style scoped>\n",
       "    .dataframe tbody tr th:only-of-type {\n",
       "        vertical-align: middle;\n",
       "    }\n",
       "\n",
       "    .dataframe tbody tr th {\n",
       "        vertical-align: top;\n",
       "    }\n",
       "\n",
       "    .dataframe thead th {\n",
       "        text-align: right;\n",
       "    }\n",
       "</style>\n",
       "<table border=\"1\" class=\"dataframe\">\n",
       "  <thead>\n",
       "    <tr style=\"text-align: right;\">\n",
       "      <th></th>\n",
       "      <th>1</th>\n",
       "      <th>2</th>\n",
       "      <th>3</th>\n",
       "      <th>4</th>\n",
       "      <th>5</th>\n",
       "      <th>6</th>\n",
       "    </tr>\n",
       "  </thead>\n",
       "  <tbody>\n",
       "    <tr>\n",
       "      <th>0</th>\n",
       "      <td>Ангоянское</td>\n",
       "      <td>Ангоянское</td>\n",
       "      <td>NaN</td>\n",
       "      <td>32</td>\n",
       "      <td>1</td>\n",
       "      <td>13</td>\n",
       "    </tr>\n",
       "  </tbody>\n",
       "</table>\n",
       "</div>"
      ],
      "text/plain": [
       "            1           2    3   4  5   6\n",
       "0  Ангоянское  Ангоянское  NaN  32  1  13"
      ]
     },
     "execution_count": 24,
     "metadata": {},
     "output_type": "execute_result"
    }
   ],
   "source": [
    "first_df.head(1)"
   ]
  },
  {
   "cell_type": "code",
   "execution_count": 25,
   "id": "498aa56c",
   "metadata": {},
   "outputs": [
    {
     "data": {
      "text/html": [
       "<div>\n",
       "<style scoped>\n",
       "    .dataframe tbody tr th:only-of-type {\n",
       "        vertical-align: middle;\n",
       "    }\n",
       "\n",
       "    .dataframe tbody tr th {\n",
       "        vertical-align: top;\n",
       "    }\n",
       "\n",
       "    .dataframe thead th {\n",
       "        text-align: right;\n",
       "    }\n",
       "</style>\n",
       "<table border=\"1\" class=\"dataframe\">\n",
       "  <thead>\n",
       "    <tr style=\"text-align: right;\">\n",
       "      <th></th>\n",
       "      <th>1</th>\n",
       "      <th>2</th>\n",
       "      <th>3</th>\n",
       "      <th>4</th>\n",
       "      <th>5</th>\n",
       "      <th>6</th>\n",
       "      <th>7</th>\n",
       "      <th>8</th>\n",
       "      <th>9</th>\n",
       "      <th>10</th>\n",
       "      <th>...</th>\n",
       "      <th>32</th>\n",
       "      <th>33</th>\n",
       "      <th>34</th>\n",
       "      <th>Unnamed: 34</th>\n",
       "      <th>Unnamed: 35</th>\n",
       "      <th>Unnamed: 36</th>\n",
       "      <th>Unnamed: 37</th>\n",
       "      <th>Unnamed: 38</th>\n",
       "      <th>Unnamed: 39</th>\n",
       "      <th>Unnamed: 40</th>\n",
       "    </tr>\n",
       "  </thead>\n",
       "  <tbody>\n",
       "    <tr>\n",
       "      <th>0</th>\n",
       "      <td>2022-06-29</td>\n",
       "      <td>NaN</td>\n",
       "      <td>0.2</td>\n",
       "      <td>Республика Бурятия</td>\n",
       "      <td>Ангоянское</td>\n",
       "      <td>Ангоянское</td>\n",
       "      <td>NaN</td>\n",
       "      <td>32</td>\n",
       "      <td>1</td>\n",
       "      <td>13.0</td>\n",
       "      <td>...</td>\n",
       "      <td>NaN</td>\n",
       "      <td>0.0</td>\n",
       "      <td>2015</td>\n",
       "      <td>NaN</td>\n",
       "      <td>NaN</td>\n",
       "      <td>NaN</td>\n",
       "      <td>NaN</td>\n",
       "      <td>NaN</td>\n",
       "      <td>NaN</td>\n",
       "      <td>NaN</td>\n",
       "    </tr>\n",
       "  </tbody>\n",
       "</table>\n",
       "<p>1 rows × 41 columns</p>\n",
       "</div>"
      ],
      "text/plain": [
       "           1   2    3                   4           5           6    7   8  9  \\\n",
       "0 2022-06-29 NaN  0.2  Республика Бурятия  Ангоянское  Ангоянское  NaN  32  1   \n",
       "\n",
       "     10  ...   32   33    34 Unnamed: 34  Unnamed: 35  Unnamed: 36  \\\n",
       "0  13.0  ...  NaN  0.0  2015         NaN          NaN          NaN   \n",
       "\n",
       "  Unnamed: 37  Unnamed: 38  Unnamed: 39  Unnamed: 40  \n",
       "0         NaN          NaN          NaN          NaN  \n",
       "\n",
       "[1 rows x 41 columns]"
      ]
     },
     "execution_count": 25,
     "metadata": {},
     "output_type": "execute_result"
    }
   ],
   "source": [
    "second_df.head(1)"
   ]
  },
  {
   "cell_type": "code",
   "execution_count": 26,
   "id": "015102d9",
   "metadata": {},
   "outputs": [
    {
     "data": {
      "text/plain": [
       "Index([          '1',           '2',           '3',           '4',\n",
       "                   5,             6,             7,             8,\n",
       "                   9,            10,            11,            12,\n",
       "                  13,            14,            15,            16,\n",
       "                  17,            18,            19,            20,\n",
       "                  21,            22,            23,            24,\n",
       "                  25,            26,            27,            28,\n",
       "                  29,            30,            31,            32,\n",
       "                  33,            34, 'Unnamed: 34', 'Unnamed: 35',\n",
       "       'Unnamed: 36', 'Unnamed: 37', 'Unnamed: 38', 'Unnamed: 39',\n",
       "       'Unnamed: 40'],\n",
       "      dtype='object')"
      ]
     },
     "execution_count": 26,
     "metadata": {},
     "output_type": "execute_result"
    }
   ],
   "source": [
    "second_df.columns"
   ]
  },
  {
   "cell_type": "code",
   "execution_count": 27,
   "id": "3542ee3b",
   "metadata": {},
   "outputs": [],
   "source": [
    "# Переименовываем колонки в датафрейме реестра\n",
    "first_df.columns = ['Лесничество','Участковое лесничество','Урочище','Квартал','Выдел','Площадь выдела']"
   ]
  },
  {
   "cell_type": "code",
   "execution_count": 28,
   "id": "1623e871",
   "metadata": {},
   "outputs": [],
   "source": [
    "# Приводим названия колонок к строковому формату\n",
    "second_df.columns = list(map(str,second_df.columns))"
   ]
  },
  {
   "cell_type": "code",
   "execution_count": 29,
   "id": "10ecb942",
   "metadata": {},
   "outputs": [],
   "source": [
    "# Удаляем колонки включающие unnamed\n",
    "second_df.drop([col for col in second_df.columns if 'Unnamed' in col],axis=1,inplace=True)"
   ]
  },
  {
   "cell_type": "code",
   "execution_count": 30,
   "id": "3624d047",
   "metadata": {},
   "outputs": [
    {
     "data": {
      "text/plain": [
       "Index(['1', '2', '3', '4', '5', '6', '7', '8', '9', '10', '11', '12', '13',\n",
       "       '14', '15', '16', '17', '18', '19', '20', '21', '22', '23', '24', '25',\n",
       "       '26', '27', '28', '29', '30', '31', '32', '33', '34'],\n",
       "      dtype='object')"
      ]
     },
     "execution_count": 30,
     "metadata": {},
     "output_type": "execute_result"
    }
   ],
   "source": [
    "second_df.columns"
   ]
  },
  {
   "cell_type": "code",
   "execution_count": 31,
   "id": "1a2a3509",
   "metadata": {},
   "outputs": [],
   "source": [
    "# заполняем урочище\n",
    "first_df['Урочище'] = first_df['Урочище'].fillna('Название урочища не заполнено')\n",
    "second_df['7'] = second_df['7'].fillna('Название урочища не заполнено')"
   ]
  },
  {
   "cell_type": "code",
   "execution_count": 32,
   "id": "c4c74fc5",
   "metadata": {},
   "outputs": [],
   "source": [
    "# Обрабатываем колонку площади\n",
    "first_df['Площадь выдела'] = first_df['Площадь выдела'].astype(str)\n",
    "first_df['Площадь выдела'] = first_df['Площадь выдела'].apply(lambda x: x.replace('nan','0'))\n",
    "first_df['Площадь выдела'] = first_df['Площадь выдела'].apply(lambda x: x.replace(' ','0'))\n",
    "first_df['Площадь выдела'] = first_df['Площадь выдела'].apply(lambda x: x.replace(',','.'))\n",
    "first_df['Площадь выдела'] = first_df['Площадь выдела'].apply(lambda x:x.strip())"
   ]
  },
  {
   "cell_type": "code",
   "execution_count": 33,
   "id": "2acec5ed",
   "metadata": {},
   "outputs": [],
   "source": [
    "# Группируем чтобы получить все возможные значения площади для каждого выдела\n",
    "group_first_df = first_df.groupby(['Лесничество','Участковое лесничество','Урочище','Квартал','Выдел']).agg({'Площадь выдела':combine})"
   ]
  },
  {
   "cell_type": "code",
   "execution_count": 34,
   "id": "18c37750",
   "metadata": {},
   "outputs": [],
   "source": [
    "group_first_df['Контроль площади'] = group_first_df['Площадь выдела'].apply(check_unique_filling_area)"
   ]
  },
  {
   "cell_type": "code",
   "execution_count": 35,
   "id": "7a8a26ca",
   "metadata": {},
   "outputs": [],
   "source": [
    "out_df=group_first_df.reset_index() # Превращаем индексы в колонки \n"
   ]
  },
  {
   "cell_type": "code",
   "execution_count": 36,
   "id": "82a0590e",
   "metadata": {},
   "outputs": [
    {
     "data": {
      "text/plain": [
       "Index(['Лесничество', 'Участковое лесничество', 'Урочище', 'Квартал', 'Выдел',\n",
       "       'Площадь выдела'],\n",
       "      dtype='object')"
      ]
     },
     "execution_count": 36,
     "metadata": {},
     "output_type": "execute_result"
    }
   ],
   "source": [
    "first_df.columns"
   ]
  },
  {
   "cell_type": "code",
   "execution_count": 37,
   "id": "abb4f8eb",
   "metadata": {},
   "outputs": [
    {
     "data": {
      "text/plain": [
       "Index(['1', '2', '3', '4', '5', '6', '7', '8', '9', '10', '11', '12', '13',\n",
       "       '14', '15', '16', '17', '18', '19', '20', '21', '22', '23', '24', '25',\n",
       "       '26', '27', '28', '29', '30', '31', '32', '33', '34'],\n",
       "      dtype='object')"
      ]
     },
     "execution_count": 37,
     "metadata": {},
     "output_type": "execute_result"
    }
   ],
   "source": [
    "second_df.columns"
   ]
  },
  {
   "cell_type": "code",
   "execution_count": 38,
   "id": "8cad5a0c",
   "metadata": {},
   "outputs": [
    {
     "ename": "NameError",
     "evalue": "name 'first_lst_columns' is not defined",
     "output_type": "error",
     "traceback": [
      "\u001b[1;31m---------------------------------------------------------------------------\u001b[0m",
      "\u001b[1;31mNameError\u001b[0m                                 Traceback (most recent call last)",
      "\u001b[1;32m~\\AppData\\Local\\Temp\\ipykernel_19372\\2188588299.py\u001b[0m in \u001b[0;36m<module>\u001b[1;34m\u001b[0m\n\u001b[0;32m      5\u001b[0m \u001b[1;31m# Конвертируем все колонки в строковый формат и очищаем от пробельных символов\u001b[0m\u001b[1;33m\u001b[0m\u001b[1;33m\u001b[0m\u001b[0m\n\u001b[0;32m      6\u001b[0m \u001b[1;31m# Конвертируем нужные нам колонки в str\u001b[0m\u001b[1;33m\u001b[0m\u001b[1;33m\u001b[0m\u001b[0m\n\u001b[1;32m----> 7\u001b[1;33m \u001b[0mconvert_name_columns_to_str\u001b[0m\u001b[1;33m(\u001b[0m\u001b[0mout_df\u001b[0m\u001b[1;33m,\u001b[0m\u001b[0mfirst_lst_columns\u001b[0m\u001b[1;33m)\u001b[0m\u001b[1;33m\u001b[0m\u001b[1;33m\u001b[0m\u001b[0m\n\u001b[0m\u001b[0;32m      8\u001b[0m \u001b[0mconvert_name_columns_to_str\u001b[0m\u001b[1;33m(\u001b[0m\u001b[0msecond_df\u001b[0m\u001b[1;33m,\u001b[0m\u001b[0msecond_lst_columns\u001b[0m\u001b[1;33m)\u001b[0m\u001b[1;33m\u001b[0m\u001b[1;33m\u001b[0m\u001b[0m\n",
      "\u001b[1;31mNameError\u001b[0m: name 'first_lst_columns' is not defined"
     ]
    }
   ],
   "source": [
    "# Получаем список колонок которые нужно привести к строковому виду\n",
    "out_df_lst_columns = ['Лесничество','Участковое лесничество','Урочище','Квартал','Выдел']\n",
    "second_lst_columns = ['Лесничество','Участковое лесничество','Урочище','Квартал','Выдел']\n",
    "\n",
    "# Конвертируем все колонки в строковый формат и очищаем от пробельных символов\n",
    "# Конвертируем нужные нам колонки в str\n",
    "convert_name_columns_to_str(out_df,first_lst_columns)\n",
    "convert_name_columns_to_str(second_df,second_lst_columns)"
   ]
  },
  {
   "cell_type": "code",
   "execution_count": null,
   "id": "c647fb38",
   "metadata": {},
   "outputs": [],
   "source": [
    "# Создаем в каждом датафрейме колонку с айди путем склеивания всех нужных колонок в одну строку\n",
    "out_df['ID'] = out_df.loc[:,out_df_lst_columns].sum(axis=1)\n",
    "second_df['ID'] = second_df.loc[:,second_lst_columns].sum(axis=1)"
   ]
  },
  {
   "cell_type": "code",
   "execution_count": null,
   "id": "a5eaa4fa",
   "metadata": {},
   "outputs": [],
   "source": [
    "out_df"
   ]
  },
  {
   "cell_type": "code",
   "execution_count": null,
   "id": "f485745e",
   "metadata": {},
   "outputs": [],
   "source": [
    "# Создаем документ\n",
    "wb = openpyxl.Workbook()\n",
    "# создаем листы\n",
    "ren_sheet = wb['Sheet']\n",
    "ren_sheet.title = 'Выделы только в реестре'\n",
    "wb.create_sheet(title='Выделы только в таблице 3', index=1)\n",
    "wb.create_sheet(title='Площадь для совпадающих выделов', index=2)\n",
    "\n",
    "# Проводим слияние\n",
    "itog_df = pd.merge(out_df, second_df, how='outer', left_on=['ID'], right_on=['ID'],\n",
    "                   indicator=True)\n",
    "\n",
    "# Записываем каждый датафрейм в соответсвующий лист\n",
    "left_df = itog_df[itog_df['_merge'] == 'left_only']\n",
    "left_df.drop(['_merge','ID','Лесничество_y','Участковое лесничество_y','Урочище_y','Квартал_y','Выдел_y','Площадь выдела_y'], axis=1, inplace=True)\n",
    "left_df.columns = ['Лесничество','Участковое лесничество','Урочище','Квартал','Выдел','Значения площади выдела','Контроль площади']\n",
    "\n",
    "for r in dataframe_to_rows(left_df, index=False, header=True):\n",
    "    wb['Выделы только в реестре'].append(r)\n"
   ]
  },
  {
   "cell_type": "code",
   "execution_count": null,
   "id": "1119a135",
   "metadata": {},
   "outputs": [],
   "source": [
    "right_df = itog_df[itog_df['_merge'] == 'right_only']\n",
    "right_df.drop(['_merge','ID','Лесничество_x','Участковое лесничество_x','Урочище_x','Квартал_x','Выдел_x','Площадь выдела_x','Площадь выдела_y','Контроль площади'], axis=1, inplace=True)\n",
    "right_df.columns= ['Лесничество','Участковое лесничество','Урочище','Квартал','Выдел']\n",
    "# Добавляем временную колонку чтобы по ней провести группировку\n",
    "right_df['temp'] = '1'\n",
    "# Группируем чтобы оставить только уникальные выделы\n",
    "\n",
    "\n",
    "group_right_df = right_df.groupby(['Лесничество','Участковое лесничество','Урочище','Квартал','Выдел']).agg({'temp':combine})\n",
    "# Извлекаем индексы\n",
    "group_right_df = group_right_df.reset_index()\n",
    "# Удаляем колонку по которой проводилась группировка\n",
    "group_right_df.drop(['temp'],axis=1, inplace=True)\n",
    "\n",
    "\n",
    "for r in dataframe_to_rows(group_right_df, index=False, header=True):\n",
    "    wb['Выделы только в таблице 3'].append(r)"
   ]
  },
  {
   "cell_type": "code",
   "execution_count": null,
   "id": "b3d1a149",
   "metadata": {},
   "outputs": [],
   "source": [
    "both_df = itog_df[itog_df['_merge'] == 'both']\n",
    "both_df['Площадь выдела']= both_df['Контроль площади']\n",
    "\n",
    "both_df.drop(['_merge','Площадь выдела_x','ID','Лесничество_y','Участковое лесничество_y','Урочище_y','Квартал_y','Выдел_y','Контроль площади','Площадь выдела_y'], axis=1, inplace=True)\n",
    "both_df.columns = ['Лесничество','Участковое лесничество','Урочище','Квартал','Выдел','Площадь выдела']"
   ]
  },
  {
   "cell_type": "code",
   "execution_count": null,
   "id": "a2c3b7d6",
   "metadata": {},
   "outputs": [],
   "source": [
    "both_df"
   ]
  },
  {
   "cell_type": "code",
   "execution_count": null,
   "id": "473b8cc8",
   "metadata": {},
   "outputs": [],
   "source": [
    "for r in dataframe_to_rows(both_df, index=False, header=True):\n",
    "    wb['Площадь для совпадающих выделов'].append(r)"
   ]
  },
  {
   "cell_type": "code",
   "execution_count": null,
   "id": "43f0575c",
   "metadata": {},
   "outputs": [],
   "source": [
    "# Сохраняем\n",
    "t = time.localtime()\n",
    "current_time = time.strftime('%H_%M_%S', t)\n",
    "# Сохраняем итоговый файл\n",
    "wb.save(f'{path_to_end_folder_filling_area}/Площади для таблицы 3 от {current_time}.xlsx')\n"
   ]
  },
  {
   "cell_type": "code",
   "execution_count": null,
   "id": "05465564",
   "metadata": {},
   "outputs": [],
   "source": []
  },
  {
   "cell_type": "code",
   "execution_count": null,
   "id": "2333c3df",
   "metadata": {},
   "outputs": [],
   "source": []
  }
 ],
 "metadata": {
  "kernelspec": {
   "display_name": "Python 3 (ipykernel)",
   "language": "python",
   "name": "python3"
  },
  "language_info": {
   "codemirror_mode": {
    "name": "ipython",
    "version": 3
   },
   "file_extension": ".py",
   "mimetype": "text/x-python",
   "name": "python",
   "nbconvert_exporter": "python",
   "pygments_lexer": "ipython3",
   "version": "3.9.13"
  }
 },
 "nbformat": 4,
 "nbformat_minor": 5
}
