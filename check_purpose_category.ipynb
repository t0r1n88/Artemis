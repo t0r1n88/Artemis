{
 "cells": [
  {
   "cell_type": "code",
   "execution_count": 327,
   "id": "20fdc35b",
   "metadata": {},
   "outputs": [],
   "source": [
    "\"\"\"\n",
    "Проверка Соответствие по целевому назначению и категории защитности\n",
    "\"\"\"\n",
    "import pandas as pd\n",
    "import openpyxl\n",
    "from openpyxl.utils.dataframe import dataframe_to_rows\n",
    "from openpyxl.styles import Alignment\n",
    "import time\n",
    "pd.options.mode.chained_assignment = None  # default='warn'"
   ]
  },
  {
   "cell_type": "code",
   "execution_count": 328,
   "id": "1d718172",
   "metadata": {},
   "outputs": [],
   "source": [
    "def combine(x):\n",
    "    # Функция для группировки всех значений в строку разделенную ;\n",
    "    return  ';'.join(x)\n",
    "\n",
    "def check_unique(x):\n",
    "    # Функция для нахождения разночтений в площади выделенного гектара\n",
    "    # создаем список разделяя по точке с запятой\n",
    "    temp_lst = x.split(';')\n",
    "    # Создаем множество оставляя только уникальные значения\n",
    "    temp_set = set(temp_lst)\n",
    "    return 'Значения совпадают' if len(temp_set) == 1 else 'Ошибка!!! Значения не совпадают'"
   ]
  },
  {
   "cell_type": "code",
   "execution_count": 329,
   "id": "6329e912",
   "metadata": {},
   "outputs": [],
   "source": [
    "def clean_purpose_column(x):\n",
    "    \"\"\"\n",
    "    Функция для извлечения значений из столбца целевого назначения для того чтобы можно было\n",
    "    найти все значения равные 1 и сопоставить со значением в категории\n",
    "    \"\"\"\n",
    "    temp_lst = x.split(';') # Создаем список разделя строку по ;\n",
    "    temp_set = set(temp_lst) # Превращаем во множество\n",
    "\n",
    "    if len(temp_set) == 1:\n",
    "        temp_value = list(temp_set)[0] # получаем единственное значение\n",
    "        if temp_value == 'nan':\n",
    "            return 0\n",
    "        try:\n",
    "            value_purpose = float(temp_value) # конвертируем в число\n",
    "\n",
    "            return value_purpose\n",
    "        except ValueError:\n",
    "            return 0\n",
    "    else:\n",
    "        return 0\n",
    "    \n",
    "    \n",
    "    "
   ]
  },
  {
   "cell_type": "code",
   "execution_count": 330,
   "id": "d2480f91",
   "metadata": {},
   "outputs": [],
   "source": [
    "path_reest_upp = 'data/Соответствие по целевому назначению и категории защитности/2022-10-27_64_Реестр УПП с дополнительными колонками..xlsx'\n",
    "path_to_end_folder = 'data/'"
   ]
  },
  {
   "cell_type": "code",
   "execution_count": 331,
   "id": "5dcbae3e",
   "metadata": {},
   "outputs": [],
   "source": [
    "df = pd.read_excel(path_reest_upp,skiprows=6,usecols=['Лесничество','Участковое лесничество','Урочище ','Номер лесного квартала','Номер лесотаксационного выдела'\n",
    "                                                                ,'Целевое назначение лесов ','Категория защитных лесов (код) '])"
   ]
  },
  {
   "cell_type": "code",
   "execution_count": 332,
   "id": "a6dda18f",
   "metadata": {},
   "outputs": [],
   "source": [
    "# Удаляем лишние строки\n",
    "df = df.drop([0,1],axis=0)\n",
    "# заполняем пропущенные места\n",
    "df['Урочище '] = df['Урочище '].fillna('Название урочища не заполнено')\n"
   ]
  },
  {
   "cell_type": "code",
   "execution_count": 333,
   "id": "689eccb9",
   "metadata": {},
   "outputs": [
    {
     "data": {
      "text/plain": [
       "Index(['Лесничество', 'Участковое лесничество', 'Урочище ',\n",
       "       'Номер лесного квартала', 'Номер лесотаксационного выдела',\n",
       "       'Целевое назначение лесов ', 'Категория защитных лесов (код) '],\n",
       "      dtype='object')"
      ]
     },
     "execution_count": 333,
     "metadata": {},
     "output_type": "execute_result"
    }
   ],
   "source": [
    "df.columns"
   ]
  },
  {
   "cell_type": "code",
   "execution_count": null,
   "id": "e239fa1b",
   "metadata": {},
   "outputs": [],
   "source": []
  },
  {
   "cell_type": "code",
   "execution_count": 334,
   "id": "d5831365",
   "metadata": {},
   "outputs": [],
   "source": [
    "# Меняем тип столбца на строку чтобы создать строку включающую в себя все значения разделенные ;заменяем нан на нули и очищаем от пробельных символов\n",
    "df['Целевое назначение лесов '] = df['Целевое назначение лесов '].astype(str)\n",
    "df['Целевое назначение лесов '] = df['Целевое назначение лесов '].apply(lambda x: x.replace('nan','0'))\n",
    "df['Целевое назначение лесов '] = df['Целевое назначение лесов '].apply(lambda x:x.strip())\n",
    "\n",
    "df['Категория защитных лесов (код) '] = df['Категория защитных лесов (код) '].astype(str)\n",
    "df['Категория защитных лесов (код) '] = df['Категория защитных лесов (код) '].apply(lambda x: x.replace('nan','0'))\n",
    "df['Категория защитных лесов (код) '] = df['Категория защитных лесов (код) '].apply(lambda x:x.strip())\n",
    "\n",
    "checked_pl = df.groupby(['Лесничество', 'Участковое лесничество', 'Урочище ', 'Номер лесного квартала',\n",
    "                               'Номер лесотаксационного выдела']).agg(\n",
    "    {'Целевое назначение лесов ': combine,'Категория защитных лесов (код) ':combine})"
   ]
  },
  {
   "cell_type": "code",
   "execution_count": null,
   "id": "a9091756",
   "metadata": {},
   "outputs": [],
   "source": []
  },
  {
   "cell_type": "code",
   "execution_count": 335,
   "id": "0771fedb",
   "metadata": {},
   "outputs": [],
   "source": [
    "# Извлекаем индекс\n",
    "out_df= checked_pl.reset_index()"
   ]
  },
  {
   "cell_type": "code",
   "execution_count": 336,
   "id": "d8284cd3",
   "metadata": {},
   "outputs": [],
   "source": [
    "# Применяем функцию првоеряющую количество уникальных значений в столбце, если больше одного то значит есть ошибка в данных\n",
    "out_df['Контроль правильности заполнения целевого назначения лесов'] = out_df['Целевое назначение лесов '].apply(\n",
    "    check_unique)\n",
    "out_df['Контроль одинаковости заполнения категории защитных лесов'] = out_df['Категория защитных лесов (код) '].apply(\n",
    "    check_unique)"
   ]
  },
  {
   "cell_type": "code",
   "execution_count": 337,
   "id": "85679a46",
   "metadata": {},
   "outputs": [],
   "source": [
    "out_df['Контроль назначения лесов'] = out_df['Целевое назначение лесов '].apply(clean_purpose_column)"
   ]
  },
  {
   "cell_type": "code",
   "execution_count": 338,
   "id": "a944ab9a",
   "metadata": {},
   "outputs": [],
   "source": [
    "out_df['Контроль назначения лесов'] = out_df['Контроль назначения лесов'].astype(int) # Приводим на всякий случай к инту\n"
   ]
  },
  {
   "cell_type": "code",
   "execution_count": 339,
   "id": "4e2e9013",
   "metadata": {},
   "outputs": [],
   "source": [
    "out_df['Контроль категории защитных лесов'] = out_df['Категория защитных лесов (код) '].apply(clean_purpose_column)\n",
    "out_df['Контроль категории защитных лесов'] = out_df['Контроль категории защитных лесов'].astype(int) # Приводим на всякий случай к инту"
   ]
  },
  {
   "cell_type": "code",
   "execution_count": null,
   "id": "0675d574",
   "metadata": {},
   "outputs": [],
   "source": []
  },
  {
   "cell_type": "code",
   "execution_count": null,
   "id": "e1de870e",
   "metadata": {},
   "outputs": [],
   "source": []
  },
  {
   "cell_type": "code",
   "execution_count": null,
   "id": "65c7ce2e",
   "metadata": {},
   "outputs": [],
   "source": []
  },
  {
   "cell_type": "code",
   "execution_count": 340,
   "id": "deb60a2f",
   "metadata": {},
   "outputs": [],
   "source": [
    "out_df.rename(columns ={'Целевое назначение лесов ':'Показатели целевого назначения для данного выдела',\n",
    "                       'Категория защитных лесов (код) ':'Показатели категории защитных лесов для данного выдела'},inplace=True)"
   ]
  },
  {
   "cell_type": "code",
   "execution_count": 341,
   "id": "18aa051a",
   "metadata": {},
   "outputs": [],
   "source": [
    "out_df['Итоговый контроль защитных лесов'] = (out_df['Контроль назначения лесов'] == 1) & (out_df['Контроль категории защитных лесов'] == 0)"
   ]
  },
  {
   "cell_type": "code",
   "execution_count": 342,
   "id": "e02a0fc2",
   "metadata": {},
   "outputs": [],
   "source": [
    "out_df['Итоговый контроль защитных лесов'] = out_df['Итоговый контроль защитных лесов'].apply(\n",
    "    lambda x: 'Ошибка, проверьте целевое назначение или категорию защитных лесов' if x == True else 'Все в порядке') "
   ]
  },
  {
   "cell_type": "code",
   "execution_count": 343,
   "id": "e388fbcc",
   "metadata": {},
   "outputs": [
    {
     "data": {
      "text/html": [
       "<div>\n",
       "<style scoped>\n",
       "    .dataframe tbody tr th:only-of-type {\n",
       "        vertical-align: middle;\n",
       "    }\n",
       "\n",
       "    .dataframe tbody tr th {\n",
       "        vertical-align: top;\n",
       "    }\n",
       "\n",
       "    .dataframe thead th {\n",
       "        text-align: right;\n",
       "    }\n",
       "</style>\n",
       "<table border=\"1\" class=\"dataframe\">\n",
       "  <thead>\n",
       "    <tr style=\"text-align: right;\">\n",
       "      <th></th>\n",
       "      <th>Лесничество</th>\n",
       "      <th>Участковое лесничество</th>\n",
       "      <th>Урочище</th>\n",
       "      <th>Номер лесного квартала</th>\n",
       "      <th>Номер лесотаксационного выдела</th>\n",
       "      <th>Показатели целевого назначения для данного выдела</th>\n",
       "      <th>Показатели категории защитных лесов для данного выдела</th>\n",
       "      <th>Контроль правильности заполнения целевого назначения лесов</th>\n",
       "      <th>Контроль одинаковости заполнения категории защитных лесов</th>\n",
       "      <th>Контроль назначения лесов</th>\n",
       "      <th>Контроль категории защитных лесов</th>\n",
       "      <th>Итоговый контроль защитных лесов</th>\n",
       "    </tr>\n",
       "  </thead>\n",
       "  <tbody>\n",
       "    <tr>\n",
       "      <th>0</th>\n",
       "      <td>Ангоянское</td>\n",
       "      <td>Ангоянское</td>\n",
       "      <td>Название урочища не заполнено</td>\n",
       "      <td>32</td>\n",
       "      <td>1</td>\n",
       "      <td>1.0</td>\n",
       "      <td>4</td>\n",
       "      <td>Значения совпадают</td>\n",
       "      <td>Значения совпадают</td>\n",
       "      <td>1</td>\n",
       "      <td>4</td>\n",
       "      <td>Все в порядке</td>\n",
       "    </tr>\n",
       "    <tr>\n",
       "      <th>1</th>\n",
       "      <td>Ангоянское</td>\n",
       "      <td>Ангоянское</td>\n",
       "      <td>Название урочища не заполнено</td>\n",
       "      <td>32</td>\n",
       "      <td>2</td>\n",
       "      <td>1.0</td>\n",
       "      <td>4</td>\n",
       "      <td>Значения совпадают</td>\n",
       "      <td>Значения совпадают</td>\n",
       "      <td>1</td>\n",
       "      <td>4</td>\n",
       "      <td>Все в порядке</td>\n",
       "    </tr>\n",
       "    <tr>\n",
       "      <th>2</th>\n",
       "      <td>Ангоянское</td>\n",
       "      <td>Ангоянское</td>\n",
       "      <td>Название урочища не заполнено</td>\n",
       "      <td>32</td>\n",
       "      <td>3</td>\n",
       "      <td>1.0</td>\n",
       "      <td>4</td>\n",
       "      <td>Значения совпадают</td>\n",
       "      <td>Значения совпадают</td>\n",
       "      <td>1</td>\n",
       "      <td>4</td>\n",
       "      <td>Все в порядке</td>\n",
       "    </tr>\n",
       "    <tr>\n",
       "      <th>3</th>\n",
       "      <td>Ангоянское</td>\n",
       "      <td>Ангоянское</td>\n",
       "      <td>Название урочища не заполнено</td>\n",
       "      <td>32</td>\n",
       "      <td>5</td>\n",
       "      <td>3.0</td>\n",
       "      <td>0</td>\n",
       "      <td>Значения совпадают</td>\n",
       "      <td>Значения совпадают</td>\n",
       "      <td>3</td>\n",
       "      <td>0</td>\n",
       "      <td>Все в порядке</td>\n",
       "    </tr>\n",
       "    <tr>\n",
       "      <th>4</th>\n",
       "      <td>Ангоянское</td>\n",
       "      <td>Ангоянское</td>\n",
       "      <td>Название урочища не заполнено</td>\n",
       "      <td>32</td>\n",
       "      <td>7</td>\n",
       "      <td>3.0;3.0;3.0</td>\n",
       "      <td>0;0;0</td>\n",
       "      <td>Значения совпадают</td>\n",
       "      <td>Значения совпадают</td>\n",
       "      <td>3</td>\n",
       "      <td>0</td>\n",
       "      <td>Все в порядке</td>\n",
       "    </tr>\n",
       "  </tbody>\n",
       "</table>\n",
       "</div>"
      ],
      "text/plain": [
       "  Лесничество Участковое лесничество                       Урочище   \\\n",
       "0  Ангоянское             Ангоянское  Название урочища не заполнено   \n",
       "1  Ангоянское             Ангоянское  Название урочища не заполнено   \n",
       "2  Ангоянское             Ангоянское  Название урочища не заполнено   \n",
       "3  Ангоянское             Ангоянское  Название урочища не заполнено   \n",
       "4  Ангоянское             Ангоянское  Название урочища не заполнено   \n",
       "\n",
       "  Номер лесного квартала Номер лесотаксационного выдела  \\\n",
       "0                     32                              1   \n",
       "1                     32                              2   \n",
       "2                     32                              3   \n",
       "3                     32                              5   \n",
       "4                     32                              7   \n",
       "\n",
       "  Показатели целевого назначения для данного выдела  \\\n",
       "0                                               1.0   \n",
       "1                                               1.0   \n",
       "2                                               1.0   \n",
       "3                                               3.0   \n",
       "4                                       3.0;3.0;3.0   \n",
       "\n",
       "  Показатели категории защитных лесов для данного выдела  \\\n",
       "0                                                  4       \n",
       "1                                                  4       \n",
       "2                                                  4       \n",
       "3                                                  0       \n",
       "4                                              0;0;0       \n",
       "\n",
       "  Контроль правильности заполнения целевого назначения лесов  \\\n",
       "0                                 Значения совпадают           \n",
       "1                                 Значения совпадают           \n",
       "2                                 Значения совпадают           \n",
       "3                                 Значения совпадают           \n",
       "4                                 Значения совпадают           \n",
       "\n",
       "  Контроль одинаковости заполнения категории защитных лесов  \\\n",
       "0                                 Значения совпадают          \n",
       "1                                 Значения совпадают          \n",
       "2                                 Значения совпадают          \n",
       "3                                 Значения совпадают          \n",
       "4                                 Значения совпадают          \n",
       "\n",
       "   Контроль назначения лесов  Контроль категории защитных лесов  \\\n",
       "0                          1                                  4   \n",
       "1                          1                                  4   \n",
       "2                          1                                  4   \n",
       "3                          3                                  0   \n",
       "4                          3                                  0   \n",
       "\n",
       "  Итоговый контроль защитных лесов  \n",
       "0                    Все в порядке  \n",
       "1                    Все в порядке  \n",
       "2                    Все в порядке  \n",
       "3                    Все в порядке  \n",
       "4                    Все в порядке  "
      ]
     },
     "execution_count": 343,
     "metadata": {},
     "output_type": "execute_result"
    }
   ],
   "source": [
    "out_df.head()"
   ]
  },
  {
   "cell_type": "code",
   "execution_count": null,
   "id": "42283a36",
   "metadata": {},
   "outputs": [],
   "source": []
  },
  {
   "cell_type": "code",
   "execution_count": 344,
   "id": "5fa1b1c1",
   "metadata": {},
   "outputs": [],
   "source": [
    "# Получаем текущую дату\n",
    "current_time = time.strftime('%H_%M_%S %d.%m.%Y')\n",
    "# Сохраняем отчет\n",
    "# Для того чтобы увеличить ширину колонок для удобства чтения используем openpyxl\n",
    "wb = openpyxl.Workbook() # Создаем объект\n",
    "# Записываем результаты\n",
    "for row in dataframe_to_rows(out_df,index=False,header=True):\n",
    "    wb['Sheet'].append(row)\n",
    "\n",
    "# Форматирование итоговой таблицы\n",
    "# Ширина колонок\n",
    "wb['Sheet'].column_dimensions['A'].width = 15\n",
    "wb['Sheet'].column_dimensions['B'].width = 20\n",
    "wb['Sheet'].column_dimensions['C'].width = 36\n",
    "wb['Sheet'].column_dimensions['F'].width = 15\n",
    "wb['Sheet'].column_dimensions['G'].width = 15\n",
    "wb['Sheet'].column_dimensions['H'].width = 15\n",
    "wb['Sheet'].column_dimensions['I'].width = 15\n",
    "wb['Sheet'].column_dimensions['J'].width = 15\n",
    "wb['Sheet'].column_dimensions['K'].width = 15\n",
    "wb['Sheet'].column_dimensions['L'].width = 15\n",
    "# Перенос строк для заголовков\n",
    "wb['Sheet']['F1'].alignment = Alignment(wrap_text=True)\n",
    "wb['Sheet']['G1'].alignment = Alignment(wrap_text=True)\n",
    "wb['Sheet']['H1'].alignment = Alignment(wrap_text=True)\n",
    "wb['Sheet']['I1'].alignment = Alignment(wrap_text=True)\n",
    "wb['Sheet']['L1'].alignment = Alignment(wrap_text=True)\n",
    "\n",
    "\n",
    "wb.save(f'{path_to_end_folder}/Проверка правильности ввода целевого назначения лесов и категории защитных лесов {current_time}.xlsx')"
   ]
  },
  {
   "cell_type": "code",
   "execution_count": 345,
   "id": "01f2ccd5",
   "metadata": {},
   "outputs": [],
   "source": [
    "#out_df.to_excel('Тест.xlsx',index=False)"
   ]
  },
  {
   "cell_type": "code",
   "execution_count": null,
   "id": "4a7293cc",
   "metadata": {},
   "outputs": [],
   "source": []
  },
  {
   "cell_type": "code",
   "execution_count": null,
   "id": "3b0dfaf1",
   "metadata": {},
   "outputs": [],
   "source": []
  },
  {
   "cell_type": "code",
   "execution_count": null,
   "id": "770388c4",
   "metadata": {},
   "outputs": [],
   "source": []
  },
  {
   "cell_type": "code",
   "execution_count": null,
   "id": "b42c2aee",
   "metadata": {},
   "outputs": [],
   "source": []
  },
  {
   "cell_type": "code",
   "execution_count": null,
   "id": "3a90715e",
   "metadata": {},
   "outputs": [],
   "source": []
  }
 ],
 "metadata": {
  "kernelspec": {
   "display_name": "Python 3 (ipykernel)",
   "language": "python",
   "name": "python3"
  },
  "language_info": {
   "codemirror_mode": {
    "name": "ipython",
    "version": 3
   },
   "file_extension": ".py",
   "mimetype": "text/x-python",
   "name": "python",
   "nbconvert_exporter": "python",
   "pygments_lexer": "ipython3",
   "version": "3.9.7"
  }
 },
 "nbformat": 4,
 "nbformat_minor": 5
}
