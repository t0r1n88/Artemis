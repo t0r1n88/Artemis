{
 "cells": [
  {
   "cell_type": "code",
   "execution_count": 1,
   "id": "74f98027",
   "metadata": {},
   "outputs": [],
   "source": [
    "\"\"\"\n",
    "Проверка Соответствие по целевому назначению и категории защитности\n",
    "\"\"\"\n",
    "import pandas as pd\n",
    "import openpyxl\n",
    "from openpyxl.utils.dataframe import dataframe_to_rows\n",
    "from openpyxl.styles import Alignment\n",
    "import time\n",
    "pd.options.mode.chained_assignment = None  # default='warn'"
   ]
  },
  {
   "cell_type": "code",
   "execution_count": 2,
   "id": "172aeeb2",
   "metadata": {},
   "outputs": [],
   "source": [
    "def combine(x):\n",
    "    # Функция для группировки всех значений в строку разделенную ;\n",
    "    return  ';'.join(x)\n",
    "\n",
    "def check_unique(x):\n",
    "    # Функция для нахождения разночтений в площади выделенного гектара\n",
    "    # создаем список разделяя по точке с запятой\n",
    "    temp_lst = x.split(';')\n",
    "    # Создаем множество оставляя только уникальные значения\n",
    "    temp_set = set(temp_lst)\n",
    "    return 'Значения совпадают' if len(temp_set) == 1 else 'Ошибка!!! Значения не совпадают'"
   ]
  },
  {
   "cell_type": "code",
   "execution_count": 3,
   "id": "a7d4e6f9",
   "metadata": {},
   "outputs": [],
   "source": [
    "def clean_purpose_column(x):\n",
    "    \"\"\"\n",
    "    Функция для извлечения значений из столбца целевого назначения для того чтобы можно было\n",
    "    найти все значения равные 1 и сопоставить со значением в категории\n",
    "    \"\"\"\n",
    "    temp_lst = x.split(';') # Создаем список разделя строку по ;\n",
    "    temp_set = set(temp_lst) # Превращаем во множество\n",
    "\n",
    "    if len(temp_set) == 1:\n",
    "        temp_value = list(temp_set)[0] # получаем единственное значение\n",
    "        if temp_value == 'nan':\n",
    "            return 0\n",
    "        try:\n",
    "            value_purpose = float(temp_value) # конвертируем в число\n",
    "\n",
    "            return value_purpose\n",
    "        except ValueError:\n",
    "            return 0\n",
    "    else:\n",
    "        return 0\n",
    "    \n",
    "def convert_to_float(x):\n",
    "    \"\"\"\n",
    "    Функция для конвертирования строки в float. Если ошибка то возващаем 0\n",
    "    :param x: строка\n",
    "    :return:\n",
    "    \"\"\"\n",
    "    # очищаем от пробелов и возможных заполнения ячейки пробелом\n",
    "\n",
    "\n",
    "    try:\n",
    "        return float(x)\n",
    "    except ValueError:\n",
    "        return 0\n",
    "    "
   ]
  },
  {
   "cell_type": "code",
   "execution_count": 4,
   "id": "49550929",
   "metadata": {},
   "outputs": [],
   "source": [
    "def prepare_column_purpose_category(df,name_columns):\n",
    "    \"\"\"\n",
    "    Функция для предобработки колонок с целевым назначением и категорией лесов\n",
    "    Нужно очистить от пробелов, nan, сконвертировать во флоат,инт и снова в строку\n",
    "    :param df: датафрейм содержащий в себе реестр\n",
    "    :param name_columns: название обрабаытваемой колонки\n",
    "    \"\"\"\n",
    "    try:\n",
    "        # Приводим колонку к типу str чтобы очистить от лишних символов и заменить пустые вещи на нули\n",
    "        df[name_columns] = df[name_columns].astype(str)\n",
    "        df[name_columns] = df[name_columns].apply(lambda x: x.replace('nan', '0'))\n",
    "        df[name_columns] = df[name_columns].apply(lambda x: x.replace(' ', '0'))\n",
    "        df[name_columns] = df[name_columns].apply(lambda x: x.strip())\n",
    "        # конвертируем во флоат, затем в инт чтобы потом в строке не было значений с дробной частью\n",
    "        df[name_columns] = df[name_columns].apply(convert_to_float)\n",
    "        df[name_columns] = df[name_columns].astype(int)\n",
    "        df[name_columns] = df[name_columns].astype(str)\n",
    "    except KeyError as e:\n",
    "        print('KeyError')\n",
    "        \n",
    "#         messagebox.showerror('Артемида 1.2',f'Не найдена колонка {e.args} Проверьте файл на наличие этой колонки')\n",
    "    except ValueError as e:\n",
    "        print('ValueError')\n",
    "        #messagebox.showerror('Артемида 1.2', f'Возникла ошибка при обработке значения {e.args}\\n'\n",
    "#                                              f'в колонках целевого назначения и категории должны быть только цифры!')"
   ]
  },
  {
   "cell_type": "code",
   "execution_count": 5,
   "id": "1f2de9e1",
   "metadata": {},
   "outputs": [],
   "source": [
    "reest_upp_purpose = 'data/2022-10-27_64_Реестр УПП с дополнительными колонками..xlsx'\n",
    "path_to_end_folder = 'data/'"
   ]
  },
  {
   "cell_type": "code",
   "execution_count": 6,
   "id": "1b54af7b",
   "metadata": {},
   "outputs": [],
   "source": [
    "df = pd.read_excel(reest_upp_purpose,skiprows=8) # считываем датафрейм пропуская первые 8 строк"
   ]
  },
  {
   "cell_type": "code",
   "execution_count": 7,
   "id": "4a44f061",
   "metadata": {},
   "outputs": [
    {
     "data": {
      "text/plain": [
       "'\\nСоответствие названий колонок используемым в программе номерам колонок\\nЛесничество -1\\nУчастковое лесничество- 2\\nУрочище - 3\\nНомер лесного квартала -4\\nНомер лесотаксационного выдела -5\\nЦелевое назначение лесов - 12\\nКатегория защитных лесов (код) - 13\\n'"
      ]
     },
     "execution_count": 7,
     "metadata": {},
     "output_type": "execute_result"
    }
   ],
   "source": [
    "\"\"\"\n",
    "Соответствие названий колонок используемым в программе номерам колонок\n",
    "Лесничество -1\n",
    "Участковое лесничество- 2\n",
    "Урочище - 3\n",
    "Номер лесного квартала -4\n",
    "Номер лесотаксационного выдела -5\n",
    "Целевое назначение лесов - 12\n",
    "Категория защитных лесов (код) - 13\n",
    "\"\"\""
   ]
  },
  {
   "cell_type": "code",
   "execution_count": 8,
   "id": "4c98bda7",
   "metadata": {},
   "outputs": [],
   "source": [
    "# Приводим названия колонок к строковому виду, чтобы избежать возможных проблем с названиями колонок\n",
    "df.columns = list(map(str,list(df.columns)))\n",
    "# на всякий случай очищаем от пробельных символов\n",
    "df.columns = list(map(lambda x:x.replace(\" \",\"\"),list(df.columns)))"
   ]
  },
  {
   "cell_type": "code",
   "execution_count": 9,
   "id": "0da7ca29",
   "metadata": {},
   "outputs": [],
   "source": [
    "df.rename(columns={'1':'Лесничество','2':'Участковое лесничество','3':'Урочище','4':'Номер лесного квартала','5':'Номер лесотаксационного выдела',\n",
    "                  '12':'Целевое назначение лесов','13':'Категория защитных лесов (код)',},inplace=True)"
   ]
  },
  {
   "cell_type": "code",
   "execution_count": 10,
   "id": "0274ef4d",
   "metadata": {},
   "outputs": [],
   "source": [
    "# заполняем пропущенные места в графе урочища чтобы группировка прошла корректно\n",
    "df['Урочище'] = df['Урочище'].fillna('Название урочища не заполнено')\n"
   ]
  },
  {
   "cell_type": "code",
   "execution_count": 11,
   "id": "b6100f14",
   "metadata": {},
   "outputs": [],
   "source": [
    "# Меняем тип столбца на строку чтобы создать строку включающую в себя все значения разделенные ;заменяем нан на нули и очищаем от пробельных символов\n",
    "prepare_column_purpose_category(df,'Целевое назначение лесов')\n",
    "prepare_column_purpose_category(df,'Категория защитных лесов (код)')"
   ]
  },
  {
   "cell_type": "code",
   "execution_count": 12,
   "id": "82cf48a5",
   "metadata": {},
   "outputs": [],
   "source": [
    "checked_pl = df.groupby(['Лесничество', 'Участковое лесничество', 'Урочище', 'Номер лесного квартала',\n",
    "                               'Номер лесотаксационного выдела']).agg(\n",
    "    {'Целевое назначение лесов': combine,'Категория защитных лесов (код)':combine})"
   ]
  },
  {
   "cell_type": "code",
   "execution_count": 13,
   "id": "4f2c9821",
   "metadata": {},
   "outputs": [],
   "source": [
    "# Извлекаем индекс\n",
    "out_df= checked_pl.reset_index()"
   ]
  },
  {
   "cell_type": "code",
   "execution_count": 14,
   "id": "4955923b",
   "metadata": {},
   "outputs": [],
   "source": [
    "# Применяем функцию проверяющую количество уникальных значений в столбце, если больше одного то значит есть ошибка в данных\n",
    "out_df['Контроль правильности заполнения целевого назначения лесов'] = out_df['Целевое назначение лесов'].apply(\n",
    "    check_unique)\n",
    "out_df['Контроль правильности заполнения категории защитных лесов'] = out_df['Категория защитных лесов (код)'].apply(\n",
    "    check_unique)"
   ]
  },
  {
   "cell_type": "code",
   "execution_count": 15,
   "id": "710719d7",
   "metadata": {},
   "outputs": [],
   "source": [
    "out_df['Контроль назначения лесов'] = out_df['Целевое назначение лесов'].apply(clean_purpose_column)"
   ]
  },
  {
   "cell_type": "code",
   "execution_count": 16,
   "id": "650ec6ca",
   "metadata": {},
   "outputs": [],
   "source": [
    "out_df['Контроль назначения лесов'] = out_df['Контроль назначения лесов'].astype(int) # Приводим на всякий случай к инту\n"
   ]
  },
  {
   "cell_type": "code",
   "execution_count": 17,
   "id": "8f4c7f9f",
   "metadata": {},
   "outputs": [],
   "source": [
    "out_df['Контроль категории защитных лесов'] = out_df['Категория защитных лесов (код)'].apply(clean_purpose_column)\n",
    "out_df['Контроль категории защитных лесов'] = out_df['Контроль категории защитных лесов'].astype(int) # Приводим на всякий случай к инту"
   ]
  },
  {
   "cell_type": "code",
   "execution_count": null,
   "id": "03322b6b",
   "metadata": {},
   "outputs": [],
   "source": []
  },
  {
   "cell_type": "code",
   "execution_count": 18,
   "id": "d4829ea1",
   "metadata": {},
   "outputs": [],
   "source": [
    "out_df.rename(columns ={'Целевое назначение лесов':'Показатели целевого назначения для данного выдела',\n",
    "                       'Категория защитных лесов (код)':'Показатели категории защитных лесов для данного выдела'},inplace=True)"
   ]
  },
  {
   "cell_type": "code",
   "execution_count": 24,
   "id": "d01729fb",
   "metadata": {},
   "outputs": [],
   "source": [
    "# находим итог\n",
    "out_df['Итоговый контроль защитных лесов'] = ((out_df['Контроль назначения лесов'] == 1)| (out_df['Контроль назначения лесов'] == 0)) & (out_df['Контроль категории защитных лесов'] == 0)"
   ]
  },
  {
   "cell_type": "code",
   "execution_count": null,
   "id": "f5ee1709",
   "metadata": {},
   "outputs": [],
   "source": []
  },
  {
   "cell_type": "code",
   "execution_count": 26,
   "id": "2677f2ed",
   "metadata": {},
   "outputs": [],
   "source": [
    "out_df['Итоговый контроль защитных лесов'] = out_df['Итоговый контроль защитных лесов'].apply(\n",
    "    lambda x: 'Ошибка, проверьте целевое назначение или категорию защитных лесов' if x == True else 'Все в порядке') "
   ]
  },
  {
   "cell_type": "code",
   "execution_count": 27,
   "id": "b4998636",
   "metadata": {},
   "outputs": [],
   "source": [
    "# Получаем текущую дату\n",
    "current_time = time.strftime('%H_%M_%S %d.%m.%Y')\n",
    "# Сохраняем отчет\n",
    "# Для того чтобы увеличить ширину колонок для удобства чтения используем openpyxl\n",
    "wb = openpyxl.Workbook() # Создаем объект\n",
    "# Записываем результаты\n",
    "for row in dataframe_to_rows(out_df,index=False,header=True):\n",
    "    wb['Sheet'].append(row)\n",
    "\n",
    "# Форматирование итоговой таблицы\n",
    "# Ширина колонок\n",
    "wb['Sheet'].column_dimensions['A'].width = 15\n",
    "wb['Sheet'].column_dimensions['B'].width = 20\n",
    "wb['Sheet'].column_dimensions['C'].width = 36\n",
    "wb['Sheet'].column_dimensions['F'].width = 15\n",
    "wb['Sheet'].column_dimensions['G'].width = 15\n",
    "wb['Sheet'].column_dimensions['H'].width = 15\n",
    "wb['Sheet'].column_dimensions['I'].width = 15\n",
    "wb['Sheet'].column_dimensions['J'].width = 15\n",
    "wb['Sheet'].column_dimensions['K'].width = 15\n",
    "wb['Sheet'].column_dimensions['L'].width = 15\n",
    "# Перенос строк для заголовков\n",
    "wb['Sheet']['F1'].alignment = Alignment(wrap_text=True)\n",
    "wb['Sheet']['G1'].alignment = Alignment(wrap_text=True)\n",
    "wb['Sheet']['H1'].alignment = Alignment(wrap_text=True)\n",
    "wb['Sheet']['I1'].alignment = Alignment(wrap_text=True)\n",
    "wb['Sheet']['L1'].alignment = Alignment(wrap_text=True)\n",
    "\n",
    "\n",
    "wb.save(f'{path_to_end_folder}/Проверка правильности ввода целевого назначения лесов и категории защитных лесов {current_time}.xlsx')"
   ]
  },
  {
   "cell_type": "code",
   "execution_count": null,
   "id": "48cd9001",
   "metadata": {},
   "outputs": [],
   "source": []
  }
 ],
 "metadata": {
  "kernelspec": {
   "display_name": "Python 3 (ipykernel)",
   "language": "python",
   "name": "python3"
  },
  "language_info": {
   "codemirror_mode": {
    "name": "ipython",
    "version": 3
   },
   "file_extension": ".py",
   "mimetype": "text/x-python",
   "name": "python",
   "nbconvert_exporter": "python",
   "pygments_lexer": "ipython3",
   "version": "3.9.13"
  }
 },
 "nbformat": 4,
 "nbformat_minor": 5
}
