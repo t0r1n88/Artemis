{
 "cells": [
  {
   "cell_type": "code",
   "execution_count": 151,
   "id": "9544fdc7",
   "metadata": {},
   "outputs": [],
   "source": [
    "\"\"\"\n",
    "Проверка наличия данных из ведомости лесов в реестре УПП с отображением\n",
    "\"\"\"\n",
    "import pandas as pd\n",
    "import openpyxl\n",
    "from openpyxl.utils.dataframe import dataframe_to_rows\n",
    "import time\n",
    "pd.options.mode.chained_assignment = None  # default='warn'"
   ]
  },
  {
   "cell_type": "code",
   "execution_count": 152,
   "id": "5092c10b",
   "metadata": {},
   "outputs": [],
   "source": [
    "def convert_columns_to_str(df,number_columns):\n",
    "    \"\"\"\n",
    "    Функция для конвертации указанных столбцов в строковый тип и очистки от пробельных символов в начале и конце\n",
    "    \"\"\"\n",
    "    \n",
    "    for column in number_columns: # Перебираем список нужных колонок\n",
    "        df.iloc[:,column] = df.iloc[:,column].astype(str)\n",
    "        # Очищаем колонку от пробельных символов с начала и конца\n",
    "        df.iloc[:,column] = df.iloc[:,column].apply(lambda x: x.strip())\n"
   ]
  },
  {
   "cell_type": "code",
   "execution_count": 153,
   "id": "0ba2aedb",
   "metadata": {},
   "outputs": [],
   "source": [
    "file_params = 'params.xlsx'\n",
    "path_to_end_folder = 'data/'"
   ]
  },
  {
   "cell_type": "code",
   "execution_count": 154,
   "id": "45acba51",
   "metadata": {},
   "outputs": [],
   "source": [
    "params = pd.read_excel(file_params,header=None)"
   ]
  },
  {
   "cell_type": "code",
   "execution_count": 155,
   "id": "95dae302",
   "metadata": {},
   "outputs": [],
   "source": [
    "# Преврашаем каждую колонку в список\n",
    "params_first_columns = params[0].tolist()\n",
    "params_second_columns = params[1].tolist()\n",
    "\n",
    "\n",
    "\n",
    "# Конвертируем в инт заодно проверяя корректность введенных данных\n",
    "try:\n",
    "    int_params_first_columns = list(map(int,params_first_columns))\n",
    "    int_params_second_columns = list(map(int,params_second_columns))\n",
    "except:\n",
    "    print('В колонках файла параметров должны быть только цифры!!!')\n",
    "    \n",
    "\n",
    "\n",
    "# Отнимаем 1 от каждого значения чтобы привести к питоновским индексам\n",
    "int_params_first_columns = list(map(lambda x:x-1,int_params_first_columns))\n",
    "int_params_second_columns = list(map(lambda x:x-1,int_params_second_columns))"
   ]
  },
  {
   "cell_type": "code",
   "execution_count": 156,
   "id": "e0b645bf",
   "metadata": {},
   "outputs": [
    {
     "name": "stderr",
     "output_type": "stream",
     "text": [
      "C:\\Users\\1\\anaconda3\\lib\\site-packages\\openpyxl\\worksheet\\header_footer.py:48: UserWarning: Cannot parse header or footer so it will be ignored\n",
      "  warn(\"\"\"Cannot parse header or footer so it will be ignored\"\"\")\n"
     ]
    }
   ],
   "source": [
    "# Считываем из файлов только те колонки по которым будет вестись сравнение\n",
    "first_df = pd.read_excel('data/Сравнение УПП с другими ведомостями на наличие участков или их отсутствие/2022-10-27_64_Реестр УПП с дополнительными колонками..xlsx',\n",
    "                         skiprows=6,usecols=int_params_first_columns,keep_default_na=False)\n",
    "second_df = pd.read_excel('data/Сравнение УПП с другими ведомостями на наличие участков или их отсутствие/Ведомость.xlsx',usecols=int_params_second_columns)\n",
    "# Считываем файл параметров без заголовка, чем проще тем лучше\n"
   ]
  },
  {
   "cell_type": "code",
   "execution_count": 157,
   "id": "958ad8f4",
   "metadata": {},
   "outputs": [
    {
     "data": {
      "text/html": [
       "<div>\n",
       "<style scoped>\n",
       "    .dataframe tbody tr th:only-of-type {\n",
       "        vertical-align: middle;\n",
       "    }\n",
       "\n",
       "    .dataframe tbody tr th {\n",
       "        vertical-align: top;\n",
       "    }\n",
       "\n",
       "    .dataframe thead th {\n",
       "        text-align: right;\n",
       "    }\n",
       "</style>\n",
       "<table border=\"1\" class=\"dataframe\">\n",
       "  <thead>\n",
       "    <tr style=\"text-align: right;\">\n",
       "      <th></th>\n",
       "      <th>Лесничество</th>\n",
       "      <th>Участковое лесничество</th>\n",
       "      <th>Урочище</th>\n",
       "      <th>Номер лесного квартала</th>\n",
       "      <th>Номер лесотаксационного выдела</th>\n",
       "    </tr>\n",
       "  </thead>\n",
       "  <tbody>\n",
       "    <tr>\n",
       "      <th>0</th>\n",
       "      <td></td>\n",
       "      <td></td>\n",
       "      <td></td>\n",
       "      <td></td>\n",
       "      <td></td>\n",
       "    </tr>\n",
       "    <tr>\n",
       "      <th>1</th>\n",
       "      <td>1</td>\n",
       "      <td>2</td>\n",
       "      <td>3</td>\n",
       "      <td>4</td>\n",
       "      <td>5</td>\n",
       "    </tr>\n",
       "    <tr>\n",
       "      <th>2</th>\n",
       "      <td>Ангоянское</td>\n",
       "      <td>Ангоянское</td>\n",
       "      <td></td>\n",
       "      <td>32</td>\n",
       "      <td>1</td>\n",
       "    </tr>\n",
       "    <tr>\n",
       "      <th>3</th>\n",
       "      <td>Ангоянское</td>\n",
       "      <td>Ангоянское</td>\n",
       "      <td></td>\n",
       "      <td>32</td>\n",
       "      <td>2</td>\n",
       "    </tr>\n",
       "    <tr>\n",
       "      <th>4</th>\n",
       "      <td>Ангоянское</td>\n",
       "      <td>Ангоянское</td>\n",
       "      <td></td>\n",
       "      <td>32</td>\n",
       "      <td>3</td>\n",
       "    </tr>\n",
       "  </tbody>\n",
       "</table>\n",
       "</div>"
      ],
      "text/plain": [
       "  Лесничество Участковое лесничество Урочище  Номер лесного квартала  \\\n",
       "0                                                                      \n",
       "1           1                      2        3                      4   \n",
       "2  Ангоянское             Ангоянское                              32   \n",
       "3  Ангоянское             Ангоянское                              32   \n",
       "4  Ангоянское             Ангоянское                              32   \n",
       "\n",
       "  Номер лесотаксационного выдела  \n",
       "0                                 \n",
       "1                              5  \n",
       "2                              1  \n",
       "3                              2  \n",
       "4                              3  "
      ]
     },
     "execution_count": 157,
     "metadata": {},
     "output_type": "execute_result"
    }
   ],
   "source": [
    "first_df.head()"
   ]
  },
  {
   "cell_type": "code",
   "execution_count": 158,
   "id": "3c4d97e4",
   "metadata": {},
   "outputs": [],
   "source": [
    "# Конвертируем нужные нам колонки в str\n",
    "convert_columns_to_str(first_df,int_params_first_columns)\n",
    "convert_columns_to_str(second_df,int_params_second_columns)\n",
    "\n",
    "# Создаем в каждом датафрейме колонку с айди путем склеивания всех нужных колонок в одну строку\n",
    "first_df['ID'] = first_df.iloc[:,int_params_first_columns].sum(axis=1)\n",
    "second_df['ID'] = second_df.iloc[:,int_params_second_columns].sum(axis=1)\n",
    "\n",
    "\n"
   ]
  },
  {
   "cell_type": "code",
   "execution_count": 159,
   "id": "90473604",
   "metadata": {},
   "outputs": [
    {
     "data": {
      "text/plain": [
       "0                                \n",
       "1                           12345\n",
       "2         АнгоянскоеАнгоянское321\n",
       "3         АнгоянскоеАнгоянское322\n",
       "4         АнгоянскоеАнгоянское323\n",
       "                   ...           \n",
       "155845                           \n",
       "155846                           \n",
       "155847                           \n",
       "155848                           \n",
       "155849                           \n",
       "Name: ID, Length: 155850, dtype: object"
      ]
     },
     "execution_count": 159,
     "metadata": {},
     "output_type": "execute_result"
    }
   ],
   "source": [
    "first_df['ID']\n",
    "\n"
   ]
  },
  {
   "cell_type": "code",
   "execution_count": 160,
   "id": "9f543ae5",
   "metadata": {},
   "outputs": [
    {
     "data": {
      "text/plain": [
       "0                               ЗакаменскоеСанагинское1275\n",
       "1                               ЗакаменскоеСанагинское1273\n",
       "2                              ЗакаменскоеСанагинское12711\n",
       "3                              ЗакаменскоеСанагинское12711\n",
       "4                               ЗакаменскоеСанагинское1268\n",
       "                               ...                        \n",
       "26234    ЗакаменскоеЗакаменское сельскоеТехнический уча...\n",
       "26235    ЗакаменскоеЗакаменское сельскоеТехнический уча...\n",
       "26236    ЗакаменскоеЗакаменское сельскоеТехнический уча...\n",
       "26237    ЗакаменскоеЗакаменское сельскоеТехнический уча...\n",
       "26238    ЗакаменскоеЗакаменское сельскоеТехнический уча...\n",
       "Name: ID, Length: 26239, dtype: object"
      ]
     },
     "execution_count": 160,
     "metadata": {},
     "output_type": "execute_result"
    }
   ],
   "source": [
    "second_df['ID']"
   ]
  },
  {
   "cell_type": "code",
   "execution_count": 161,
   "id": "0b90c586",
   "metadata": {},
   "outputs": [
    {
     "data": {
      "text/plain": [
       "(155850, 6)"
      ]
     },
     "execution_count": 161,
     "metadata": {},
     "output_type": "execute_result"
    }
   ],
   "source": [
    "first_df.shape"
   ]
  },
  {
   "cell_type": "code",
   "execution_count": 162,
   "id": "2437c248",
   "metadata": {},
   "outputs": [
    {
     "data": {
      "text/plain": [
       "(26239, 6)"
      ]
     },
     "execution_count": 162,
     "metadata": {},
     "output_type": "execute_result"
    }
   ],
   "source": [
    "second_df.shape"
   ]
  },
  {
   "cell_type": "code",
   "execution_count": 163,
   "id": "4e97bb1b",
   "metadata": {},
   "outputs": [],
   "source": [
    "# Обрабатываем дубликаты\n",
    "\n",
    "\n",
    "first_df.drop_duplicates(subset=['ID'],keep='last',inplace=True)# Удаляем дубликаты из датафрейма\n",
    "\n",
    "\n",
    "second_df.drop_duplicates(subset=['ID'],keep='last',inplace=True)# Удаляем дубликаты из датафрейма\n"
   ]
  },
  {
   "cell_type": "code",
   "execution_count": 164,
   "id": "bcf3b527",
   "metadata": {},
   "outputs": [
    {
     "data": {
      "text/plain": [
       "(89924, 6)"
      ]
     },
     "execution_count": 164,
     "metadata": {},
     "output_type": "execute_result"
    }
   ],
   "source": [
    "first_df.shape"
   ]
  },
  {
   "cell_type": "code",
   "execution_count": 165,
   "id": "bed743a5",
   "metadata": {},
   "outputs": [
    {
     "data": {
      "text/plain": [
       "(7991, 6)"
      ]
     },
     "execution_count": 165,
     "metadata": {},
     "output_type": "execute_result"
    }
   ],
   "source": [
    "second_df.shape"
   ]
  },
  {
   "cell_type": "code",
   "execution_count": 166,
   "id": "a2ed1fe1",
   "metadata": {},
   "outputs": [],
   "source": [
    "# Создаем документ\n",
    "wb = openpyxl.Workbook()\n",
    "# создаем листы\n",
    "ren_sheet = wb['Sheet']\n",
    "ren_sheet.title = 'Итог'\n"
   ]
  },
  {
   "cell_type": "code",
   "execution_count": 167,
   "id": "d0ac213d",
   "metadata": {},
   "outputs": [],
   "source": [
    "# Создаем датафрейм\n",
    "itog_df = pd.merge(first_df, second_df, how='outer', left_on=['ID'], right_on=['ID'],\n",
    "                   indicator=True)\n"
   ]
  },
  {
   "cell_type": "code",
   "execution_count": 168,
   "id": "5a3d032a",
   "metadata": {},
   "outputs": [
    {
     "data": {
      "text/html": [
       "<div>\n",
       "<style scoped>\n",
       "    .dataframe tbody tr th:only-of-type {\n",
       "        vertical-align: middle;\n",
       "    }\n",
       "\n",
       "    .dataframe tbody tr th {\n",
       "        vertical-align: top;\n",
       "    }\n",
       "\n",
       "    .dataframe thead th {\n",
       "        text-align: right;\n",
       "    }\n",
       "</style>\n",
       "<table border=\"1\" class=\"dataframe\">\n",
       "  <thead>\n",
       "    <tr style=\"text-align: right;\">\n",
       "      <th></th>\n",
       "      <th>Лесничество_x</th>\n",
       "      <th>Участковое лесничество_x</th>\n",
       "      <th>Урочище</th>\n",
       "      <th>Номер лесного квартала</th>\n",
       "      <th>Номер лесотаксационного выдела</th>\n",
       "      <th>ID</th>\n",
       "      <th>Лесничество_y</th>\n",
       "      <th>Участковое лесничество_y</th>\n",
       "      <th>Урочище</th>\n",
       "      <th>Квартал</th>\n",
       "      <th>Выдел</th>\n",
       "      <th>_merge</th>\n",
       "    </tr>\n",
       "  </thead>\n",
       "  <tbody>\n",
       "    <tr>\n",
       "      <th>31387</th>\n",
       "      <td>Закаменское</td>\n",
       "      <td>Баянгольское</td>\n",
       "      <td></td>\n",
       "      <td>125</td>\n",
       "      <td>26</td>\n",
       "      <td>ЗакаменскоеБаянгольское12526</td>\n",
       "      <td>Закаменское</td>\n",
       "      <td>Баянгольское</td>\n",
       "      <td></td>\n",
       "      <td>125</td>\n",
       "      <td>26</td>\n",
       "      <td>both</td>\n",
       "    </tr>\n",
       "    <tr>\n",
       "      <th>31388</th>\n",
       "      <td>Закаменское</td>\n",
       "      <td>Баянгольское</td>\n",
       "      <td></td>\n",
       "      <td>125</td>\n",
       "      <td>27</td>\n",
       "      <td>ЗакаменскоеБаянгольское12527</td>\n",
       "      <td>Закаменское</td>\n",
       "      <td>Баянгольское</td>\n",
       "      <td></td>\n",
       "      <td>125</td>\n",
       "      <td>27</td>\n",
       "      <td>both</td>\n",
       "    </tr>\n",
       "    <tr>\n",
       "      <th>31389</th>\n",
       "      <td>Закаменское</td>\n",
       "      <td>Баянгольское</td>\n",
       "      <td></td>\n",
       "      <td>125</td>\n",
       "      <td>28</td>\n",
       "      <td>ЗакаменскоеБаянгольское12528</td>\n",
       "      <td>Закаменское</td>\n",
       "      <td>Баянгольское</td>\n",
       "      <td></td>\n",
       "      <td>125</td>\n",
       "      <td>28</td>\n",
       "      <td>both</td>\n",
       "    </tr>\n",
       "    <tr>\n",
       "      <th>31398</th>\n",
       "      <td>Закаменское</td>\n",
       "      <td>Баянгольское</td>\n",
       "      <td></td>\n",
       "      <td>142</td>\n",
       "      <td>3</td>\n",
       "      <td>ЗакаменскоеБаянгольское1423</td>\n",
       "      <td>Закаменское</td>\n",
       "      <td>Баянгольское</td>\n",
       "      <td></td>\n",
       "      <td>142</td>\n",
       "      <td>3</td>\n",
       "      <td>both</td>\n",
       "    </tr>\n",
       "    <tr>\n",
       "      <th>31401</th>\n",
       "      <td>Закаменское</td>\n",
       "      <td>Баянгольское</td>\n",
       "      <td></td>\n",
       "      <td>219</td>\n",
       "      <td>6</td>\n",
       "      <td>ЗакаменскоеБаянгольское2196</td>\n",
       "      <td>Закаменское</td>\n",
       "      <td>Баянгольское</td>\n",
       "      <td></td>\n",
       "      <td>219</td>\n",
       "      <td>6</td>\n",
       "      <td>both</td>\n",
       "    </tr>\n",
       "    <tr>\n",
       "      <th>...</th>\n",
       "      <td>...</td>\n",
       "      <td>...</td>\n",
       "      <td>...</td>\n",
       "      <td>...</td>\n",
       "      <td>...</td>\n",
       "      <td>...</td>\n",
       "      <td>...</td>\n",
       "      <td>...</td>\n",
       "      <td>...</td>\n",
       "      <td>...</td>\n",
       "      <td>...</td>\n",
       "      <td>...</td>\n",
       "    </tr>\n",
       "    <tr>\n",
       "      <th>31977</th>\n",
       "      <td>Закаменское</td>\n",
       "      <td>Шара-Азаргинское</td>\n",
       "      <td></td>\n",
       "      <td>106</td>\n",
       "      <td>2</td>\n",
       "      <td>ЗакаменскоеШара-Азаргинское1062</td>\n",
       "      <td>Закаменское</td>\n",
       "      <td>Шара-Азаргинское</td>\n",
       "      <td></td>\n",
       "      <td>106</td>\n",
       "      <td>2</td>\n",
       "      <td>both</td>\n",
       "    </tr>\n",
       "    <tr>\n",
       "      <th>31978</th>\n",
       "      <td>Закаменское</td>\n",
       "      <td>Шара-Азаргинское</td>\n",
       "      <td></td>\n",
       "      <td>106</td>\n",
       "      <td>3</td>\n",
       "      <td>ЗакаменскоеШара-Азаргинское1063</td>\n",
       "      <td>Закаменское</td>\n",
       "      <td>Шара-Азаргинское</td>\n",
       "      <td></td>\n",
       "      <td>106</td>\n",
       "      <td>3</td>\n",
       "      <td>both</td>\n",
       "    </tr>\n",
       "    <tr>\n",
       "      <th>31979</th>\n",
       "      <td>Закаменское</td>\n",
       "      <td>Шара-Азаргинское</td>\n",
       "      <td></td>\n",
       "      <td>106</td>\n",
       "      <td>4</td>\n",
       "      <td>ЗакаменскоеШара-Азаргинское1064</td>\n",
       "      <td>Закаменское</td>\n",
       "      <td>Шара-Азаргинское</td>\n",
       "      <td></td>\n",
       "      <td>106</td>\n",
       "      <td>4</td>\n",
       "      <td>both</td>\n",
       "    </tr>\n",
       "    <tr>\n",
       "      <th>31982</th>\n",
       "      <td>Закаменское</td>\n",
       "      <td>Шара-Азаргинское</td>\n",
       "      <td></td>\n",
       "      <td>138</td>\n",
       "      <td>2</td>\n",
       "      <td>ЗакаменскоеШара-Азаргинское1382</td>\n",
       "      <td>Закаменское</td>\n",
       "      <td>Шара-Азаргинское</td>\n",
       "      <td></td>\n",
       "      <td>138</td>\n",
       "      <td>2</td>\n",
       "      <td>both</td>\n",
       "    </tr>\n",
       "    <tr>\n",
       "      <th>31983</th>\n",
       "      <td>Закаменское</td>\n",
       "      <td>Шара-Азаргинское</td>\n",
       "      <td></td>\n",
       "      <td>138</td>\n",
       "      <td>14</td>\n",
       "      <td>ЗакаменскоеШара-Азаргинское13814</td>\n",
       "      <td>Закаменское</td>\n",
       "      <td>Шара-Азаргинское</td>\n",
       "      <td></td>\n",
       "      <td>138</td>\n",
       "      <td>14</td>\n",
       "      <td>both</td>\n",
       "    </tr>\n",
       "  </tbody>\n",
       "</table>\n",
       "<p>175 rows × 12 columns</p>\n",
       "</div>"
      ],
      "text/plain": [
       "      Лесничество_x Участковое лесничество_x Урочище  Номер лесного квартала  \\\n",
       "31387   Закаменское             Баянгольское                             125   \n",
       "31388   Закаменское             Баянгольское                             125   \n",
       "31389   Закаменское             Баянгольское                             125   \n",
       "31398   Закаменское             Баянгольское                             142   \n",
       "31401   Закаменское             Баянгольское                             219   \n",
       "...             ...                      ...      ...                    ...   \n",
       "31977   Закаменское         Шара-Азаргинское                             106   \n",
       "31978   Закаменское         Шара-Азаргинское                             106   \n",
       "31979   Закаменское         Шара-Азаргинское                             106   \n",
       "31982   Закаменское         Шара-Азаргинское                             138   \n",
       "31983   Закаменское         Шара-Азаргинское                             138   \n",
       "\n",
       "      Номер лесотаксационного выдела                                ID  \\\n",
       "31387                             26      ЗакаменскоеБаянгольское12526   \n",
       "31388                             27      ЗакаменскоеБаянгольское12527   \n",
       "31389                             28      ЗакаменскоеБаянгольское12528   \n",
       "31398                              3       ЗакаменскоеБаянгольское1423   \n",
       "31401                              6       ЗакаменскоеБаянгольское2196   \n",
       "...                              ...                               ...   \n",
       "31977                              2   ЗакаменскоеШара-Азаргинское1062   \n",
       "31978                              3   ЗакаменскоеШара-Азаргинское1063   \n",
       "31979                              4   ЗакаменскоеШара-Азаргинское1064   \n",
       "31982                              2   ЗакаменскоеШара-Азаргинское1382   \n",
       "31983                             14  ЗакаменскоеШара-Азаргинское13814   \n",
       "\n",
       "      Лесничество_y Участковое лесничество_y Урочище Квартал Выдел _merge  \n",
       "31387   Закаменское             Баянгольское             125    26   both  \n",
       "31388   Закаменское             Баянгольское             125    27   both  \n",
       "31389   Закаменское             Баянгольское             125    28   both  \n",
       "31398   Закаменское             Баянгольское             142     3   both  \n",
       "31401   Закаменское             Баянгольское             219     6   both  \n",
       "...             ...                      ...     ...     ...   ...    ...  \n",
       "31977   Закаменское         Шара-Азаргинское             106     2   both  \n",
       "31978   Закаменское         Шара-Азаргинское             106     3   both  \n",
       "31979   Закаменское         Шара-Азаргинское             106     4   both  \n",
       "31982   Закаменское         Шара-Азаргинское             138     2   both  \n",
       "31983   Закаменское         Шара-Азаргинское             138    14   both  \n",
       "\n",
       "[175 rows x 12 columns]"
      ]
     },
     "execution_count": 168,
     "metadata": {},
     "output_type": "execute_result"
    }
   ],
   "source": [
    "itog_df[itog_df['_merge'] == 'both']"
   ]
  },
  {
   "cell_type": "code",
   "execution_count": 169,
   "id": "8a74f7ed",
   "metadata": {},
   "outputs": [],
   "source": [
    "# Отфильтровываем значения both,right\n",
    "out_df = itog_df[(itog_df['_merge'] == 'both') | (itog_df['_merge']=='right_only')]"
   ]
  },
  {
   "cell_type": "code",
   "execution_count": 170,
   "id": "853e6595",
   "metadata": {},
   "outputs": [],
   "source": [
    "out_df.rename(columns={'_merge':'Присутствие в реестре УПП'},inplace=True)"
   ]
  },
  {
   "cell_type": "code",
   "execution_count": 171,
   "id": "7c62e506",
   "metadata": {},
   "outputs": [],
   "source": [
    "out_df['Присутствие в реестре УПП'] = out_df['Присутствие в реестре УПП'].apply(lambda x:'Имеется в реестре' if x == 'both' else 'Отсутствует в реестре')"
   ]
  },
  {
   "cell_type": "code",
   "execution_count": 172,
   "id": "91183211",
   "metadata": {},
   "outputs": [],
   "source": [
    "out_df.to_excel('Тест.xlsx',index=False)"
   ]
  },
  {
   "cell_type": "code",
   "execution_count": null,
   "id": "b9f56401",
   "metadata": {},
   "outputs": [],
   "source": []
  }
 ],
 "metadata": {
  "kernelspec": {
   "display_name": "Python 3 (ipykernel)",
   "language": "python",
   "name": "python3"
  },
  "language_info": {
   "codemirror_mode": {
    "name": "ipython",
    "version": 3
   },
   "file_extension": ".py",
   "mimetype": "text/x-python",
   "name": "python",
   "nbconvert_exporter": "python",
   "pygments_lexer": "ipython3",
   "version": "3.9.7"
  }
 },
 "nbformat": 4,
 "nbformat_minor": 5
}
