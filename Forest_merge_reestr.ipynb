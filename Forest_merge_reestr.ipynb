{
 "cells": [
  {
   "cell_type": "code",
   "execution_count": 46,
   "id": "bdfa375e",
   "metadata": {},
   "outputs": [],
   "source": [
    "\"\"\"\n",
    "Проверка наличия данных из ведомости лесов в реестре УПП с отображением\n",
    "\"\"\"\n",
    "import pandas as pd\n",
    "import openpyxl\n",
    "import warnings\n",
    "warnings.filterwarnings('ignore', category=UserWarning, module='openpyxl')\n",
    "from openpyxl.utils.dataframe import dataframe_to_rows\n",
    "from openpyxl.styles import Alignment\n",
    "import time\n",
    "\n",
    "pd.options.mode.chained_assignment = None  # default='warn'"
   ]
  },
  {
   "cell_type": "code",
   "execution_count": 47,
   "id": "b5c9a896",
   "metadata": {},
   "outputs": [],
   "source": [
    "def convert_columns_to_str(df, number_columns):\n",
    "    \"\"\"\n",
    "    Функция для конвертации указанных столбцов в строковый тип и очистки от пробельных символов в начале и конце\n",
    "    \"\"\"\n",
    "\n",
    "    for column in number_columns:  # Перебираем список нужных колонок\n",
    "        df.iloc[:, column] = df.iloc[:, column].astype(str)\n",
    "        # Очищаем колонку от пробельных символов с начала и конца\n",
    "        df.iloc[:, column] = df.iloc[:, column].apply(lambda x: x.strip())\n",
    "        df.iloc[:, column] = df.iloc[:, column].apply(lambda x: x.replace(' ', ''))\n"
   ]
  },
  {
   "cell_type": "code",
   "execution_count": 48,
   "id": "87c15152",
   "metadata": {},
   "outputs": [],
   "source": [
    "path_to_end_folder = 'data/'\n",
    "file_reestr_presense = 'data/Сравнение УПП с другими ведомостями на наличие участков или их отсутствие/2022-11-27_64_Реестр УПП с дополнительными колонками.xlsx'\n",
    "file_statement_presense = 'data/Сравнение УПП с другими ведомостями на наличие участков или их отсутствие/Ведомость..xlsx'"
   ]
  },
  {
   "cell_type": "code",
   "execution_count": 49,
   "id": "6c811034",
   "metadata": {},
   "outputs": [],
   "source": [
    "# Считываем из файлов только те колонки по которым будет вестись сравнение\n",
    "first_df = pd.read_excel(file_reestr_presense,\n",
    "                         skiprows=8, usecols=[0,1,2,3,4], keep_default_na=False)\n",
    "second_df = pd.read_excel(file_statement_presense,usecols=[0,1,2,3,4],keep_default_na=False)"
   ]
  },
  {
   "cell_type": "code",
   "execution_count": 50,
   "id": "0ae82b26",
   "metadata": {},
   "outputs": [],
   "source": [
    "# Приводим к строковому формату названия колонок первого датафрейма\n",
    "first_df.columns = list(map(str,list(first_df.columns)))\n",
    "# на всякий случай очищаем от пробельных символов\n",
    "first_df.columns = list(map(lambda x:x.replace(\" \",\"\"),list(first_df.columns)))\n",
    "\n",
    "\n"
   ]
  },
  {
   "cell_type": "code",
   "execution_count": 51,
   "id": "17c8e64b",
   "metadata": {},
   "outputs": [],
   "source": [
    "# заменяем на цифры названия колонок во втором датафрейме\n",
    "second_df.columns = ['1','2','3','4','5']"
   ]
  },
  {
   "cell_type": "code",
   "execution_count": 52,
   "id": "959c109d",
   "metadata": {},
   "outputs": [],
   "source": [
    "# Приводим датафреймы к строковому виду\n",
    "first_df = first_df.astype(str)\n",
    "second_df = second_df.astype(str)"
   ]
  },
  {
   "cell_type": "code",
   "execution_count": 53,
   "id": "ebdbbb0d",
   "metadata": {},
   "outputs": [],
   "source": [
    "# Очищаем от \n",
    "first_df.replace(r'^\\s*$', 'Отсутствует', regex=True,inplace=True)\n",
    "second_df.replace(r'^\\s*$', 'Отсутствует', regex=True,inplace=True)"
   ]
  },
  {
   "cell_type": "code",
   "execution_count": 54,
   "id": "4cd6e2ad",
   "metadata": {},
   "outputs": [
    {
     "data": {
      "text/html": [
       "<div>\n",
       "<style scoped>\n",
       "    .dataframe tbody tr th:only-of-type {\n",
       "        vertical-align: middle;\n",
       "    }\n",
       "\n",
       "    .dataframe tbody tr th {\n",
       "        vertical-align: top;\n",
       "    }\n",
       "\n",
       "    .dataframe thead th {\n",
       "        text-align: right;\n",
       "    }\n",
       "</style>\n",
       "<table border=\"1\" class=\"dataframe\">\n",
       "  <thead>\n",
       "    <tr style=\"text-align: right;\">\n",
       "      <th></th>\n",
       "      <th>1</th>\n",
       "      <th>2</th>\n",
       "      <th>3</th>\n",
       "      <th>4</th>\n",
       "      <th>5</th>\n",
       "    </tr>\n",
       "  </thead>\n",
       "  <tbody>\n",
       "    <tr>\n",
       "      <th>0</th>\n",
       "      <td>Прибайкальское</td>\n",
       "      <td>Иркиликское</td>\n",
       "      <td>Отсутствует</td>\n",
       "      <td>6</td>\n",
       "      <td>26</td>\n",
       "    </tr>\n",
       "    <tr>\n",
       "      <th>1</th>\n",
       "      <td>Прибайкальское</td>\n",
       "      <td>Иркиликское</td>\n",
       "      <td>Отсутствует</td>\n",
       "      <td>6</td>\n",
       "      <td>31</td>\n",
       "    </tr>\n",
       "    <tr>\n",
       "      <th>2</th>\n",
       "      <td>Прибайкальское</td>\n",
       "      <td>Иркиликское</td>\n",
       "      <td>Отсутствует</td>\n",
       "      <td>15</td>\n",
       "      <td>16</td>\n",
       "    </tr>\n",
       "    <tr>\n",
       "      <th>3</th>\n",
       "      <td>Прибайкальское</td>\n",
       "      <td>Иркиликское</td>\n",
       "      <td>Отсутствует</td>\n",
       "      <td>15</td>\n",
       "      <td>16</td>\n",
       "    </tr>\n",
       "    <tr>\n",
       "      <th>4</th>\n",
       "      <td>Прибайкальское</td>\n",
       "      <td>Иркиликское</td>\n",
       "      <td>Отсутствует</td>\n",
       "      <td>15</td>\n",
       "      <td>17</td>\n",
       "    </tr>\n",
       "  </tbody>\n",
       "</table>\n",
       "</div>"
      ],
      "text/plain": [
       "                1            2            3   4   5\n",
       "0  Прибайкальское  Иркиликское  Отсутствует   6  26\n",
       "1  Прибайкальское  Иркиликское  Отсутствует   6  31\n",
       "2  Прибайкальское  Иркиликское  Отсутствует  15  16\n",
       "3  Прибайкальское  Иркиликское  Отсутствует  15  16\n",
       "4  Прибайкальское  Иркиликское  Отсутствует  15  17"
      ]
     },
     "execution_count": 54,
     "metadata": {},
     "output_type": "execute_result"
    }
   ],
   "source": [
    "second_df.head()"
   ]
  },
  {
   "cell_type": "code",
   "execution_count": 55,
   "id": "74e587a2",
   "metadata": {},
   "outputs": [],
   "source": [
    "# так как мы заранее знаем сколько и какие колонки у нас есть то просто создаем список\n",
    "params_columns = [0,1,2,3,4]\n",
    "# Конвертируем нужные нам колонки в str\n",
    "convert_columns_to_str(first_df, params_columns)\n",
    "convert_columns_to_str(second_df, params_columns)"
   ]
  },
  {
   "cell_type": "code",
   "execution_count": 56,
   "id": "a1303bdf",
   "metadata": {},
   "outputs": [
    {
     "data": {
      "text/html": [
       "<div>\n",
       "<style scoped>\n",
       "    .dataframe tbody tr th:only-of-type {\n",
       "        vertical-align: middle;\n",
       "    }\n",
       "\n",
       "    .dataframe tbody tr th {\n",
       "        vertical-align: top;\n",
       "    }\n",
       "\n",
       "    .dataframe thead th {\n",
       "        text-align: right;\n",
       "    }\n",
       "</style>\n",
       "<table border=\"1\" class=\"dataframe\">\n",
       "  <thead>\n",
       "    <tr style=\"text-align: right;\">\n",
       "      <th></th>\n",
       "      <th>1</th>\n",
       "      <th>2</th>\n",
       "      <th>3</th>\n",
       "      <th>4</th>\n",
       "      <th>5</th>\n",
       "    </tr>\n",
       "  </thead>\n",
       "  <tbody>\n",
       "    <tr>\n",
       "      <th>0</th>\n",
       "      <td>Ангоянское</td>\n",
       "      <td>Ангоянское</td>\n",
       "      <td>Отсутствует</td>\n",
       "      <td>32</td>\n",
       "      <td>1</td>\n",
       "    </tr>\n",
       "  </tbody>\n",
       "</table>\n",
       "</div>"
      ],
      "text/plain": [
       "            1           2            3   4  5\n",
       "0  Ангоянское  Ангоянское  Отсутствует  32  1"
      ]
     },
     "execution_count": 56,
     "metadata": {},
     "output_type": "execute_result"
    }
   ],
   "source": [
    "first_df.head(1)"
   ]
  },
  {
   "cell_type": "code",
   "execution_count": 57,
   "id": "226e1475",
   "metadata": {},
   "outputs": [
    {
     "data": {
      "text/plain": [
       "'\\nСоответствие названий колонок используемым в программе номерам колонок\\nЛесничество -1\\nУчастковое лесничество- 2\\nУрочище - 3\\nНомер лесного квартала -4\\nНомер лесотаксационного выдела -5\\n\\n'"
      ]
     },
     "execution_count": 57,
     "metadata": {},
     "output_type": "execute_result"
    }
   ],
   "source": [
    "\"\"\"\n",
    "Соответствие названий колонок используемым в программе номерам колонок\n",
    "Лесничество -1\n",
    "Участковое лесничество- 2\n",
    "Урочище - 3\n",
    "Номер лесного квартала -4\n",
    "Номер лесотаксационного выдела -5\n",
    "\n",
    "\"\"\""
   ]
  },
  {
   "cell_type": "code",
   "execution_count": 58,
   "id": "e75add43",
   "metadata": {},
   "outputs": [],
   "source": [
    "# Готовим 4 и 5 колонки чтобы они были разделеныпри склеивании\n",
    "first_df['4'] = first_df['4'].apply(lambda x:'кв.' + x) # Добавляем разделитель квартал\n",
    "first_df['5'] = first_df['5'].apply(lambda x:'в.' + x) # Добавляем разделитель выдел\n",
    "\n",
    "# То же самое для второго датафрейма\n",
    "second_df['4'] = second_df['4'].apply(lambda x:'кв.' + x) # Добавляем разделитель квартал\n",
    "second_df['5'] = second_df['5'].apply(lambda x:'в.' + x) # Добавляем разделитель выдел\n"
   ]
  },
  {
   "cell_type": "code",
   "execution_count": null,
   "id": "e58a1f0d",
   "metadata": {},
   "outputs": [],
   "source": []
  },
  {
   "cell_type": "code",
   "execution_count": null,
   "id": "9c533cca",
   "metadata": {},
   "outputs": [],
   "source": []
  },
  {
   "cell_type": "code",
   "execution_count": 59,
   "id": "b0cd3c53",
   "metadata": {},
   "outputs": [],
   "source": [
    "# Создаем в каждом датафрейме колонку с айди путем склеивания всех нужных колонок в одну строку\n",
    "first_df['ID'] = first_df.iloc[:, params_columns].sum(axis=1)\n",
    "second_df['ID'] = second_df.iloc[:, params_columns].sum(axis=1)"
   ]
  },
  {
   "cell_type": "code",
   "execution_count": 60,
   "id": "70a5eef8",
   "metadata": {},
   "outputs": [
    {
     "data": {
      "text/plain": [
       "0                   АнгоянскоеАнгоянскоеОтсутствуеткв.32в.1\n",
       "1                   АнгоянскоеАнгоянскоеОтсутствуеткв.32в.2\n",
       "2                   АнгоянскоеАнгоянскоеОтсутствуеткв.32в.3\n",
       "3                   АнгоянскоеАнгоянскоеОтсутствуеткв.32в.5\n",
       "4                   АнгоянскоеАнгоянскоеОтсутствуеткв.32в.7\n",
       "                                ...                        \n",
       "145119    ОтсутствуетОтсутствуетОтсутствуеткв.Отсутствуе...\n",
       "145120    ОтсутствуетОтсутствуетОтсутствуеткв.Отсутствуе...\n",
       "145121    ОтсутствуетОтсутствуетОтсутствуеткв.Отсутствуе...\n",
       "145122    ОтсутствуетОтсутствуетОтсутствуеткв.Отсутствуе...\n",
       "145123    ОтсутствуетОтсутствуетОтсутствуеткв.Отсутствуе...\n",
       "Name: ID, Length: 145124, dtype: object"
      ]
     },
     "execution_count": 60,
     "metadata": {},
     "output_type": "execute_result"
    }
   ],
   "source": [
    "first_df['ID']"
   ]
  },
  {
   "cell_type": "code",
   "execution_count": 64,
   "id": "4e73462b",
   "metadata": {},
   "outputs": [],
   "source": [
    "# Обрабатываем дубликаты\n",
    "\n",
    "\n",
    "first_df.drop_duplicates(subset=['ID'], keep='last', inplace=True)  # Удаляем дубликаты из датафрейма\n",
    "\n",
    "second_df.drop_duplicates(subset=['ID'], keep='last', inplace=True)  # Удаляем дубликаты из датафрейма\n",
    "\n",
    "\n",
    "\n",
    "\n",
    "\n",
    "\n",
    "# Создаем документ\n",
    "wb = openpyxl.Workbook()\n",
    "# создаем листы\n",
    "ren_sheet = wb['Sheet']\n",
    "ren_sheet.title = 'Итог'\n",
    "\n",
    "# Создаем датафрейм\n",
    "itog_df = pd.merge(first_df, second_df, how='outer', left_on=['ID'], right_on=['ID'],\n",
    "                   indicator=True)\n",
    "\n",
    "# Отфильтровываем значения both,right\n",
    "out_df = itog_df[(itog_df['_merge'] == 'both') | (itog_df['_merge'] == 'right_only')]\n",
    "\n",
    "out_df.rename(columns={'_merge': 'Присутствие в реестре УПП','1_x':'Реестр Лесничество','2_x':'Реестр Уч.лесничество','3_x':'Реестр Урочище',\n",
    "                       '4_x':'Реестр Квартал','5_x':'Реестр Выдел','1_y':'Ведомость Лесничество','2_y':'Ведомость Уч.Лесничество',\n",
    "                       '3_y':'Ведомость Урочище','4_y':'Ведомость Квартал','5_y':'Ведомость Выдел'}, inplace=True)\n",
    "\n",
    "out_df['Присутствие в реестре УПП'] = out_df['Присутствие в реестре УПП'].apply(\n",
    "    lambda x: 'Имеется в реестре' if x == 'both' else 'Отсутствует в реестре')\n",
    "\n",
    "# Получаем текущую дату\n",
    "current_time = time.strftime('%H_%M_%S %d.%m.%Y')\n",
    "# Сохраняем отчет\n",
    "# Для того чтобы увеличить ширину колонок для удобства чтения используем openpyxl\n",
    "wb = openpyxl.Workbook() # Создаем объект\n",
    "# Записываем результаты\n",
    "for row in dataframe_to_rows(out_df,index=False,header=True):\n",
    "    wb['Sheet'].append(row)\n",
    "\n",
    "# Форматирование итоговой таблицы\n",
    "# Ширина колонок\n",
    "wb['Sheet'].column_dimensions['A'].width = 15\n",
    "wb['Sheet'].column_dimensions['B'].width = 20\n",
    "wb['Sheet'].column_dimensions['C'].width = 10\n",
    "wb['Sheet'].column_dimensions['G'].width = 20\n",
    "wb['Sheet'].column_dimensions['H'].width = 20\n",
    "wb['Sheet'].column_dimensions['F'].width = 50\n",
    "wb['Sheet'].column_dimensions['L'].width = 30\n",
    "# Перенос строк для заголовков\n",
    "wb['Sheet']['D1'].alignment = Alignment(wrap_text=True)\n",
    "wb['Sheet']['E1'].alignment = Alignment(wrap_text=True)\n",
    "wb['Sheet']['F1'].alignment = Alignment(wrap_text=True)\n",
    "wb['Sheet']['G1'].alignment = Alignment(wrap_text=True)\n",
    "wb['Sheet']['H1'].alignment = Alignment(wrap_text=True)\n",
    "wb['Sheet']['I1'].alignment = Alignment(wrap_text=True)\n",
    "wb['Sheet']['J1'].alignment = Alignment(wrap_text=True)\n",
    "wb['Sheet']['K1'].alignment = Alignment(wrap_text=True)\n",
    "wb['Sheet']['H1'].alignment = Alignment(wrap_text=True)\n",
    "\n",
    "wb.save(f'{path_to_end_folder}/Сравнение УПП с другими ведомостями на наличие участков или их отсутствие от  {current_time}.xlsx')"
   ]
  },
  {
   "cell_type": "code",
   "execution_count": null,
   "id": "9fa380df",
   "metadata": {},
   "outputs": [],
   "source": []
  },
  {
   "cell_type": "code",
   "execution_count": null,
   "id": "a0409f10",
   "metadata": {},
   "outputs": [],
   "source": []
  },
  {
   "cell_type": "code",
   "execution_count": null,
   "id": "cda700ae",
   "metadata": {},
   "outputs": [],
   "source": []
  },
  {
   "cell_type": "code",
   "execution_count": null,
   "id": "716f4ded",
   "metadata": {},
   "outputs": [],
   "source": []
  },
  {
   "cell_type": "code",
   "execution_count": null,
   "id": "b9f56401",
   "metadata": {},
   "outputs": [],
   "source": []
  }
 ],
 "metadata": {
  "kernelspec": {
   "display_name": "Python 3 (ipykernel)",
   "language": "python",
   "name": "python3"
  },
  "language_info": {
   "codemirror_mode": {
    "name": "ipython",
    "version": 3
   },
   "file_extension": ".py",
   "mimetype": "text/x-python",
   "name": "python",
   "nbconvert_exporter": "python",
   "pygments_lexer": "ipython3",
   "version": "3.9.7"
  }
 },
 "nbformat": 4,
 "nbformat_minor": 5
}
