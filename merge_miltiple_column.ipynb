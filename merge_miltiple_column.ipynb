{
 "cells": [
  {
   "cell_type": "code",
   "execution_count": 160,
   "id": "2a3866a2",
   "metadata": {},
   "outputs": [],
   "source": [
    "import pandas as pd\n",
    "import openpyxl\n",
    "from openpyxl.utils.dataframe import dataframe_to_rows\n",
    "import time\n",
    "pd.options.mode.chained_assignment = None  # default='warn'"
   ]
  },
  {
   "cell_type": "code",
   "execution_count": 161,
   "id": "5c2afe73",
   "metadata": {},
   "outputs": [],
   "source": [
    "def convert_columns_to_str(df,number_columns):\n",
    "    \"\"\"\n",
    "    Функция для конвертации указанных столбцов в строковый тип и очистки от пробельных символов в начале и конце\n",
    "    \"\"\"\n",
    "    \n",
    "    for column in number_columns: # Перебираем список нужных колонок\n",
    "        try:            \n",
    "            df.iloc[:,column] = df.iloc[:,column].astype(str)\n",
    "            # Очищаем колонку от пробельных символов с начала и конца\n",
    "            df.iloc[:,column] = df.iloc[:,column].apply(lambda x: x.strip())\n",
    "        except IndexError:\n",
    "            print('Проверьте порядковые номера колонок которые вы хотите обработать.')\n",
    "        \n",
    "\n",
    "def convert_params_columns_to_int(lst):\n",
    "    \"\"\"\n",
    "    Функция для конвератации значений колонок которые нужно обработать.\n",
    "    Очищает от пустых строк, чтобы в итоге остался список из чисел в формате int\n",
    "    \"\"\"\n",
    "    out_lst = [] # Создаем список в который будем добавлять только числа\n",
    "    for value in lst: # Перебираем список\n",
    "        try:\n",
    "            # Обрабатываем случай с нулем, для того чтобы после приведения к питоновскому отсчету от нуля не получилась колонка с номером -1\n",
    "            number = int(value)\n",
    "            if number != 0:\n",
    "                out_lst.append(value) # Если конвертирования прошло без ошибок то добавляем\n",
    "            else:\n",
    "                continue\n",
    "        except: # Иначе пропускаем\n",
    "            continue\n",
    "    return out_lst\n",
    "                \n"
   ]
  },
  {
   "cell_type": "code",
   "execution_count": 162,
   "id": "e90a9fe9",
   "metadata": {},
   "outputs": [],
   "source": [
    "file_params = 'params.xlsx'\n",
    "path_to_end_folder = 'data/'"
   ]
  },
  {
   "cell_type": "code",
   "execution_count": 163,
   "id": "b3684b65",
   "metadata": {},
   "outputs": [],
   "source": [
    "first_df = pd.read_excel('data/Большой список.xlsx')\n",
    "second_df = pd.read_excel('data/Малый список.xlsx')\n",
    "# Считываем файл параметров без заголовка, чем проще тем лучше, пропущенные значения обозначим пустыми строками\n",
    "params = pd.read_excel(file_params,header=None,keep_default_na=False)"
   ]
  },
  {
   "cell_type": "code",
   "execution_count": 164,
   "id": "7a553416",
   "metadata": {},
   "outputs": [
    {
     "data": {
      "text/html": [
       "<div>\n",
       "<style scoped>\n",
       "    .dataframe tbody tr th:only-of-type {\n",
       "        vertical-align: middle;\n",
       "    }\n",
       "\n",
       "    .dataframe tbody tr th {\n",
       "        vertical-align: top;\n",
       "    }\n",
       "\n",
       "    .dataframe thead th {\n",
       "        text-align: right;\n",
       "    }\n",
       "</style>\n",
       "<table border=\"1\" class=\"dataframe\">\n",
       "  <thead>\n",
       "    <tr style=\"text-align: right;\">\n",
       "      <th></th>\n",
       "      <th>0</th>\n",
       "      <th>1</th>\n",
       "    </tr>\n",
       "  </thead>\n",
       "  <tbody>\n",
       "    <tr>\n",
       "      <th>0</th>\n",
       "      <td>1</td>\n",
       "      <td>0</td>\n",
       "    </tr>\n",
       "    <tr>\n",
       "      <th>1</th>\n",
       "      <td>2</td>\n",
       "      <td></td>\n",
       "    </tr>\n",
       "    <tr>\n",
       "      <th>2</th>\n",
       "      <td>3</td>\n",
       "      <td></td>\n",
       "    </tr>\n",
       "    <tr>\n",
       "      <th>3</th>\n",
       "      <td></td>\n",
       "      <td></td>\n",
       "    </tr>\n",
       "    <tr>\n",
       "      <th>4</th>\n",
       "      <td></td>\n",
       "      <td></td>\n",
       "    </tr>\n",
       "    <tr>\n",
       "      <th>5</th>\n",
       "      <td></td>\n",
       "      <td>ФИО</td>\n",
       "    </tr>\n",
       "    <tr>\n",
       "      <th>6</th>\n",
       "      <td></td>\n",
       "      <td></td>\n",
       "    </tr>\n",
       "    <tr>\n",
       "      <th>7</th>\n",
       "      <td></td>\n",
       "      <td></td>\n",
       "    </tr>\n",
       "    <tr>\n",
       "      <th>8</th>\n",
       "      <td></td>\n",
       "      <td></td>\n",
       "    </tr>\n",
       "    <tr>\n",
       "      <th>9</th>\n",
       "      <td></td>\n",
       "      <td></td>\n",
       "    </tr>\n",
       "    <tr>\n",
       "      <th>10</th>\n",
       "      <td></td>\n",
       "      <td></td>\n",
       "    </tr>\n",
       "    <tr>\n",
       "      <th>11</th>\n",
       "      <td></td>\n",
       "      <td></td>\n",
       "    </tr>\n",
       "    <tr>\n",
       "      <th>12</th>\n",
       "      <td></td>\n",
       "      <td></td>\n",
       "    </tr>\n",
       "    <tr>\n",
       "      <th>13</th>\n",
       "      <td></td>\n",
       "      <td></td>\n",
       "    </tr>\n",
       "    <tr>\n",
       "      <th>14</th>\n",
       "      <td></td>\n",
       "      <td></td>\n",
       "    </tr>\n",
       "    <tr>\n",
       "      <th>15</th>\n",
       "      <td></td>\n",
       "      <td></td>\n",
       "    </tr>\n",
       "    <tr>\n",
       "      <th>16</th>\n",
       "      <td></td>\n",
       "      <td>4</td>\n",
       "    </tr>\n",
       "  </tbody>\n",
       "</table>\n",
       "</div>"
      ],
      "text/plain": [
       "    0    1\n",
       "0   1    0\n",
       "1   2     \n",
       "2   3     \n",
       "3         \n",
       "4         \n",
       "5      ФИО\n",
       "6         \n",
       "7         \n",
       "8         \n",
       "9         \n",
       "10        \n",
       "11        \n",
       "12        \n",
       "13        \n",
       "14        \n",
       "15        \n",
       "16       4"
      ]
     },
     "execution_count": 164,
     "metadata": {},
     "output_type": "execute_result"
    }
   ],
   "source": [
    "params"
   ]
  },
  {
   "cell_type": "code",
   "execution_count": 165,
   "id": "cdabb22a",
   "metadata": {},
   "outputs": [],
   "source": [
    "# Преврашаем каждую колонку в список\n",
    "params_first_columns = params[0].tolist()\n",
    "params_second_columns = params[1].tolist()\n",
    "\n"
   ]
  },
  {
   "cell_type": "code",
   "execution_count": 166,
   "id": "bdef12a6",
   "metadata": {},
   "outputs": [
    {
     "data": {
      "text/plain": [
       "[0, '', '', '', '', 'ФИО', '', '', '', '', '', '', '', '', '', '', 4]"
      ]
     },
     "execution_count": 166,
     "metadata": {},
     "output_type": "execute_result"
    }
   ],
   "source": [
    "params_second_columns"
   ]
  },
  {
   "cell_type": "code",
   "execution_count": 167,
   "id": "537d9ab6",
   "metadata": {},
   "outputs": [],
   "source": [
    "# Конвертируем в инт заодно проверяя корректность введенных данных\n",
    "int_params_first_columns = convert_params_columns_to_int(params_first_columns)\n",
    "int_params_second_columns = convert_params_columns_to_int(params_second_columns)\n",
    "\n",
    "    \n"
   ]
  },
  {
   "cell_type": "code",
   "execution_count": 168,
   "id": "e9e27e83",
   "metadata": {},
   "outputs": [
    {
     "data": {
      "text/plain": [
       "[1, 2, 3]"
      ]
     },
     "execution_count": 168,
     "metadata": {},
     "output_type": "execute_result"
    }
   ],
   "source": [
    "int_params_first_columns"
   ]
  },
  {
   "cell_type": "code",
   "execution_count": 169,
   "id": "4d87f36d",
   "metadata": {},
   "outputs": [
    {
     "data": {
      "text/plain": [
       "[4]"
      ]
     },
     "execution_count": 169,
     "metadata": {},
     "output_type": "execute_result"
    }
   ],
   "source": [
    "int_params_second_columns"
   ]
  },
  {
   "cell_type": "code",
   "execution_count": 170,
   "id": "35b3843d",
   "metadata": {},
   "outputs": [],
   "source": [
    "# Отнимаем 1 от каждого значения чтобы привести к питоновским индексам\n",
    "int_params_first_columns = list(map(lambda x:x-1,int_params_first_columns))\n",
    "int_params_second_columns = list(map(lambda x:x-1,int_params_second_columns))"
   ]
  },
  {
   "cell_type": "code",
   "execution_count": 171,
   "id": "f0cd059f",
   "metadata": {},
   "outputs": [
    {
     "data": {
      "text/plain": [
       "[3]"
      ]
     },
     "execution_count": 171,
     "metadata": {},
     "output_type": "execute_result"
    }
   ],
   "source": [
    "int_params_second_columns"
   ]
  },
  {
   "cell_type": "code",
   "execution_count": 172,
   "id": "f573707a",
   "metadata": {},
   "outputs": [],
   "source": [
    "# Конвертируем нужные нам колонки в str\n",
    "convert_columns_to_str(first_df,int_params_first_columns)\n",
    "convert_columns_to_str(second_df,int_params_second_columns)"
   ]
  },
  {
   "cell_type": "code",
   "execution_count": 173,
   "id": "f093436a",
   "metadata": {},
   "outputs": [],
   "source": [
    "# Создаем в каждом датафрейме колонку с айди путем склеивания всех нужных колонок в одну строку\n",
    "first_df['ID'] = first_df.iloc[:,int_params_first_columns].sum(axis=1)\n",
    "second_df['ID'] = second_df.iloc[:,int_params_second_columns].sum(axis=1)\n"
   ]
  },
  {
   "cell_type": "code",
   "execution_count": 174,
   "id": "f82737b0",
   "metadata": {},
   "outputs": [],
   "source": [
    "# очищаем от пробелов между словами\n",
    "first_df['ID'] =first_df['ID'].apply(lambda x:x.replace(' ',''))\n",
    "second_df['ID'] =second_df['ID'].apply(lambda x:x.replace(' ',''))"
   ]
  },
  {
   "cell_type": "code",
   "execution_count": 175,
   "id": "8db4b40e",
   "metadata": {},
   "outputs": [
    {
     "data": {
      "text/plain": [
       "0            АлехинДанилаПрокопьевич\n",
       "1            АлехинДанилаПрокопьевич\n",
       "2           ЭсауловаВалерияПрокловна\n",
       "3               ПанинГавриилВласович\n",
       "4       ГрибановКонстантинСтепанович\n",
       "                    ...             \n",
       "998       НиконоваАнтонинаМаксимовна\n",
       "999        ФурмановАркадийЕлизарович\n",
       "1000        КорниецЛюдмилаМаксимовна\n",
       "1001       СеребровГавриилФеодосивич\n",
       "1002            ЦойВалентинЗахарович\n",
       "Name: ID, Length: 1003, dtype: object"
      ]
     },
     "execution_count": 175,
     "metadata": {},
     "output_type": "execute_result"
    }
   ],
   "source": [
    "first_df['ID']"
   ]
  },
  {
   "cell_type": "code",
   "execution_count": 176,
   "id": "6594421c",
   "metadata": {},
   "outputs": [
    {
     "data": {
      "text/plain": [
       "0           АлехинДанилаПрокопьевич\n",
       "1          ЭсауловаВалерияПрокловна\n",
       "2              ПанинГавриилВласович\n",
       "3      ГрибановКонстантинСтепанович\n",
       "4          МандрыкоТрофимЛеонидович\n",
       "                   ...             \n",
       "436      НиконоваАнтонинаМаксимовна\n",
       "437       ФурмановАркадийЕлизарович\n",
       "438        КорниецЛюдмилаМаксимовна\n",
       "439       СеребровГавриилФеодосивич\n",
       "440       СеребровГавриилФеодосивич\n",
       "Name: ID, Length: 441, dtype: object"
      ]
     },
     "execution_count": 176,
     "metadata": {},
     "output_type": "execute_result"
    }
   ],
   "source": [
    "second_df['ID']"
   ]
  },
  {
   "cell_type": "code",
   "execution_count": 177,
   "id": "a7f22289",
   "metadata": {},
   "outputs": [],
   "source": [
    "# Обрабатываем дубликаты\n",
    "\n",
    "duplicates_first_df = first_df[first_df.duplicated(subset=['ID'],keep=False)] # Сохраняем все значения у которых есть дубликаты в отдельный датафрейм\n",
    "\n",
    "\n",
    "first_df.drop_duplicates(subset=['ID'],keep=False,inplace=True)# Удаляем дубликаты из датафрейма\n",
    "\n",
    "duplicates_second_df = second_df[second_df.duplicated(subset=['ID'],keep=False)] # Сохраняем все значения у которых есть дубликаты в отдельный датафрейм\n",
    "second_df.drop_duplicates(subset=['ID'],keep=False,inplace=True)# Удаляем дубликаты из датафрейма\n"
   ]
  },
  {
   "cell_type": "code",
   "execution_count": 178,
   "id": "3c5f0c32",
   "metadata": {},
   "outputs": [
    {
     "data": {
      "text/html": [
       "<div>\n",
       "<style scoped>\n",
       "    .dataframe tbody tr th:only-of-type {\n",
       "        vertical-align: middle;\n",
       "    }\n",
       "\n",
       "    .dataframe tbody tr th {\n",
       "        vertical-align: top;\n",
       "    }\n",
       "\n",
       "    .dataframe thead th {\n",
       "        text-align: right;\n",
       "    }\n",
       "</style>\n",
       "<table border=\"1\" class=\"dataframe\">\n",
       "  <thead>\n",
       "    <tr style=\"text-align: right;\">\n",
       "      <th></th>\n",
       "      <th>Фамилия</th>\n",
       "      <th>Имя</th>\n",
       "      <th>Отчество</th>\n",
       "      <th>ФИО</th>\n",
       "      <th>Дата рождения</th>\n",
       "      <th>Номер телефона</th>\n",
       "      <th>Электронная почта</th>\n",
       "      <th>Адрес прописки</th>\n",
       "      <th>Страна</th>\n",
       "      <th>Регион</th>\n",
       "      <th>...</th>\n",
       "      <th>ИНН ФЗ/ИП</th>\n",
       "      <th>СНИЛС</th>\n",
       "      <th>ОМС</th>\n",
       "      <th>Специальность</th>\n",
       "      <th>Направление</th>\n",
       "      <th>Учебное заведение</th>\n",
       "      <th>Серия/Номер диплома</th>\n",
       "      <th>Регистрационный номер</th>\n",
       "      <th>Дата окончания обучения</th>\n",
       "      <th>ID</th>\n",
       "    </tr>\n",
       "  </thead>\n",
       "  <tbody>\n",
       "    <tr>\n",
       "      <th>0</th>\n",
       "      <td>Алехин</td>\n",
       "      <td>Данила</td>\n",
       "      <td>Прокопьевич</td>\n",
       "      <td>Алехин Данила Прокопьевич</td>\n",
       "      <td>14.04.1973</td>\n",
       "      <td>NaN</td>\n",
       "      <td>NaN</td>\n",
       "      <td>Россия, г. Иркутск, Кирова ул., д. 1 кв.212</td>\n",
       "      <td>Россия</td>\n",
       "      <td>Сахалинская область</td>\n",
       "      <td>...</td>\n",
       "      <td>158493217864</td>\n",
       "      <td>NaN</td>\n",
       "      <td>5950614844448865</td>\n",
       "      <td>Администратор базы данных</td>\n",
       "      <td>02.03.03 Математическое обеспечение и админист...</td>\n",
       "      <td>Санкт-Петербургский государственный университет</td>\n",
       "      <td>714531 1469061</td>\n",
       "      <td>11-701-701</td>\n",
       "      <td>2019</td>\n",
       "      <td>АлехинДанилаПрокопьевич</td>\n",
       "    </tr>\n",
       "    <tr>\n",
       "      <th>1</th>\n",
       "      <td>Алехин</td>\n",
       "      <td>Данила</td>\n",
       "      <td>Прокопьевич</td>\n",
       "      <td>Алехин Данила Прокопьевич</td>\n",
       "      <td>14.04.1973</td>\n",
       "      <td>NaN</td>\n",
       "      <td>NaN</td>\n",
       "      <td>Россия, г. Иркутск, Кирова ул., д. 1 кв.212</td>\n",
       "      <td>Россия</td>\n",
       "      <td>Сахалинская область</td>\n",
       "      <td>...</td>\n",
       "      <td>158493217864</td>\n",
       "      <td>NaN</td>\n",
       "      <td>5950614844448865</td>\n",
       "      <td>Администратор базы данных</td>\n",
       "      <td>02.03.03 Математическое обеспечение и админист...</td>\n",
       "      <td>Санкт-Петербургский государственный университет</td>\n",
       "      <td>714531 1469061</td>\n",
       "      <td>11-701-701</td>\n",
       "      <td>2019</td>\n",
       "      <td>АлехинДанилаПрокопьевич</td>\n",
       "    </tr>\n",
       "    <tr>\n",
       "      <th>945</th>\n",
       "      <td>Янчина</td>\n",
       "      <td>Алиса</td>\n",
       "      <td>Емельяновна</td>\n",
       "      <td>Янчина Алиса Емельяновна</td>\n",
       "      <td>28.10.1961</td>\n",
       "      <td>NaN</td>\n",
       "      <td>NaN</td>\n",
       "      <td>Россия, г. Магнитогорск, Лесной пер., д. 9 кв.49</td>\n",
       "      <td>Россия</td>\n",
       "      <td>Калининградская обл.</td>\n",
       "      <td>...</td>\n",
       "      <td>941642278308</td>\n",
       "      <td>NaN</td>\n",
       "      <td>2917853394988924</td>\n",
       "      <td>Тюремный надзиратель</td>\n",
       "      <td>40.03.01 Юриспруденция</td>\n",
       "      <td>Южный федеральный университет</td>\n",
       "      <td>955233 5566349</td>\n",
       "      <td>97-620-492</td>\n",
       "      <td>2003</td>\n",
       "      <td>ЯнчинаАлисаЕмельяновна</td>\n",
       "    </tr>\n",
       "    <tr>\n",
       "      <th>946</th>\n",
       "      <td>Янчина</td>\n",
       "      <td>Алиса</td>\n",
       "      <td>Емельяновна</td>\n",
       "      <td>Янчина Алиса Емельяновна</td>\n",
       "      <td>28.10.1961</td>\n",
       "      <td>NaN</td>\n",
       "      <td>NaN</td>\n",
       "      <td>Россия, г. Магнитогорск, Лесной пер., д. 9 кв.49</td>\n",
       "      <td>Россия</td>\n",
       "      <td>Калининградская обл.</td>\n",
       "      <td>...</td>\n",
       "      <td>941642278308</td>\n",
       "      <td>NaN</td>\n",
       "      <td>2917853394988924</td>\n",
       "      <td>Тюремный надзиратель</td>\n",
       "      <td>40.03.01 Юриспруденция</td>\n",
       "      <td>Южный федеральный университет</td>\n",
       "      <td>955233 5566349</td>\n",
       "      <td>97-620-492</td>\n",
       "      <td>2003</td>\n",
       "      <td>ЯнчинаАлисаЕмельяновна</td>\n",
       "    </tr>\n",
       "    <tr>\n",
       "      <th>955</th>\n",
       "      <td>Цой</td>\n",
       "      <td>Валентин</td>\n",
       "      <td>Захарович</td>\n",
       "      <td>Цой Валентин Захарович</td>\n",
       "      <td>02.11.1981</td>\n",
       "      <td>NaN</td>\n",
       "      <td>NaN</td>\n",
       "      <td>Россия, г. Новороссийск, Колхозная ул., д. 11 ...</td>\n",
       "      <td>Россия</td>\n",
       "      <td>Нижегородская область</td>\n",
       "      <td>...</td>\n",
       "      <td>496482379574</td>\n",
       "      <td>NaN</td>\n",
       "      <td>4293105134740472</td>\n",
       "      <td>Водитель</td>\n",
       "      <td>23.05.02 Транспортные средства специального на...</td>\n",
       "      <td>Российский университет дружбы народов</td>\n",
       "      <td>212552 9580652</td>\n",
       "      <td>69-087-839</td>\n",
       "      <td>2014</td>\n",
       "      <td>ЦойВалентинЗахарович</td>\n",
       "    </tr>\n",
       "    <tr>\n",
       "      <th>1002</th>\n",
       "      <td>Цой</td>\n",
       "      <td>Валентин</td>\n",
       "      <td>Захарович</td>\n",
       "      <td>Цой Валентин Захарович</td>\n",
       "      <td>02.11.1981</td>\n",
       "      <td>NaN</td>\n",
       "      <td>NaN</td>\n",
       "      <td>Россия, г. Новороссийск, Колхозная ул., д. 11 ...</td>\n",
       "      <td>Россия</td>\n",
       "      <td>Нижегородская область</td>\n",
       "      <td>...</td>\n",
       "      <td>496482379574</td>\n",
       "      <td>NaN</td>\n",
       "      <td>4293105134740472</td>\n",
       "      <td>Водитель</td>\n",
       "      <td>23.05.02 Транспортные средства специального на...</td>\n",
       "      <td>Российский университет дружбы народов</td>\n",
       "      <td>212552 9580652</td>\n",
       "      <td>69-087-839</td>\n",
       "      <td>2014</td>\n",
       "      <td>ЦойВалентинЗахарович</td>\n",
       "    </tr>\n",
       "  </tbody>\n",
       "</table>\n",
       "<p>6 rows × 30 columns</p>\n",
       "</div>"
      ],
      "text/plain": [
       "     Фамилия       Имя     Отчество                        ФИО Дата рождения  \\\n",
       "0     Алехин    Данила  Прокопьевич  Алехин Данила Прокопьевич    14.04.1973   \n",
       "1     Алехин    Данила  Прокопьевич  Алехин Данила Прокопьевич    14.04.1973   \n",
       "945   Янчина     Алиса  Емельяновна   Янчина Алиса Емельяновна    28.10.1961   \n",
       "946   Янчина     Алиса  Емельяновна   Янчина Алиса Емельяновна    28.10.1961   \n",
       "955      Цой  Валентин    Захарович     Цой Валентин Захарович    02.11.1981   \n",
       "1002     Цой  Валентин    Захарович     Цой Валентин Захарович    02.11.1981   \n",
       "\n",
       "      Номер телефона  Электронная почта  \\\n",
       "0                NaN                NaN   \n",
       "1                NaN                NaN   \n",
       "945              NaN                NaN   \n",
       "946              NaN                NaN   \n",
       "955              NaN                NaN   \n",
       "1002             NaN                NaN   \n",
       "\n",
       "                                         Адрес прописки  Страна  \\\n",
       "0           Россия, г. Иркутск, Кирова ул., д. 1 кв.212  Россия   \n",
       "1           Россия, г. Иркутск, Кирова ул., д. 1 кв.212  Россия   \n",
       "945    Россия, г. Магнитогорск, Лесной пер., д. 9 кв.49  Россия   \n",
       "946    Россия, г. Магнитогорск, Лесной пер., д. 9 кв.49  Россия   \n",
       "955   Россия, г. Новороссийск, Колхозная ул., д. 11 ...  Россия   \n",
       "1002  Россия, г. Новороссийск, Колхозная ул., д. 11 ...  Россия   \n",
       "\n",
       "                     Регион  ...     ИНН ФЗ/ИП СНИЛС               ОМС  \\\n",
       "0       Сахалинская область  ...  158493217864   NaN  5950614844448865   \n",
       "1       Сахалинская область  ...  158493217864   NaN  5950614844448865   \n",
       "945    Калининградская обл.  ...  941642278308   NaN  2917853394988924   \n",
       "946    Калининградская обл.  ...  941642278308   NaN  2917853394988924   \n",
       "955   Нижегородская область  ...  496482379574   NaN  4293105134740472   \n",
       "1002  Нижегородская область  ...  496482379574   NaN  4293105134740472   \n",
       "\n",
       "                  Специальность  \\\n",
       "0     Администратор базы данных   \n",
       "1     Администратор базы данных   \n",
       "945        Тюремный надзиратель   \n",
       "946        Тюремный надзиратель   \n",
       "955                    Водитель   \n",
       "1002                   Водитель   \n",
       "\n",
       "                                            Направление  \\\n",
       "0     02.03.03 Математическое обеспечение и админист...   \n",
       "1     02.03.03 Математическое обеспечение и админист...   \n",
       "945                              40.03.01 Юриспруденция   \n",
       "946                              40.03.01 Юриспруденция   \n",
       "955   23.05.02 Транспортные средства специального на...   \n",
       "1002  23.05.02 Транспортные средства специального на...   \n",
       "\n",
       "                                    Учебное заведение  Серия/Номер диплома  \\\n",
       "0     Санкт-Петербургский государственный университет       714531 1469061   \n",
       "1     Санкт-Петербургский государственный университет       714531 1469061   \n",
       "945                     Южный федеральный университет       955233 5566349   \n",
       "946                     Южный федеральный университет       955233 5566349   \n",
       "955             Российский университет дружбы народов       212552 9580652   \n",
       "1002            Российский университет дружбы народов       212552 9580652   \n",
       "\n",
       "     Регистрационный номер Дата окончания обучения                       ID  \n",
       "0               11-701-701                    2019  АлехинДанилаПрокопьевич  \n",
       "1               11-701-701                    2019  АлехинДанилаПрокопьевич  \n",
       "945             97-620-492                    2003   ЯнчинаАлисаЕмельяновна  \n",
       "946             97-620-492                    2003   ЯнчинаАлисаЕмельяновна  \n",
       "955             69-087-839                    2014     ЦойВалентинЗахарович  \n",
       "1002            69-087-839                    2014     ЦойВалентинЗахарович  \n",
       "\n",
       "[6 rows x 30 columns]"
      ]
     },
     "execution_count": 178,
     "metadata": {},
     "output_type": "execute_result"
    }
   ],
   "source": [
    "duplicates_first_df"
   ]
  },
  {
   "cell_type": "code",
   "execution_count": 179,
   "id": "10c4f947",
   "metadata": {},
   "outputs": [],
   "source": [
    "# Создаем документ\n",
    "wb = openpyxl.Workbook()\n",
    "# создаем листы\n",
    "ren_sheet = wb['Sheet']\n",
    "ren_sheet.title = 'Данные которых нет во 2 таблице'\n",
    "wb.create_sheet(title='Данные которых нет во 1 таблице', index=1)\n",
    "wb.create_sheet(title='Совпадающие данные', index=2)\n",
    "# Создаем листы для дубликатов\n",
    "wb.create_sheet(title='Дубликаты первая таблица', index=3)\n",
    "wb.create_sheet(title='Дубликаты вторая таблица', index=4)\n",
    "\n",
    "# Создаем датафрейм\n",
    "itog_df = pd.merge(first_df, second_df, how='outer', left_on=['ID'], right_on=['ID'],\n",
    "                   indicator=True)\n",
    "\n",
    "# Записываем каждый датафрейм в соответсвующий лист\n",
    "left_df = itog_df[itog_df['_merge'] == 'left_only']\n",
    "\n",
    "\n",
    "left_df.drop(['_merge'], axis=1, inplace=True)\n",
    "for r in dataframe_to_rows(left_df, index=False, header=True):\n",
    "    wb['Данные которых нет во 2 таблице'].append(r)\n",
    "\n",
    "right_df = itog_df[itog_df['_merge'] == 'right_only']\n",
    "right_df.drop(['_merge'], axis=1, inplace=True)\n",
    "for r in dataframe_to_rows(right_df, index=False, header=True):\n",
    "    wb['Данные которых нет во 1 таблице'].append(r)\n",
    "\n",
    "both_df = itog_df[itog_df['_merge'] == 'both']\n",
    "both_df.drop(['_merge'], axis=1, inplace=True)\n",
    "for r in dataframe_to_rows(both_df, index=False, header=True):\n",
    "    wb['Совпадающие данные'].append(r)\n",
    "\n",
    "# Записываем дубликаты в соответствующие листы\n",
    "for r in dataframe_to_rows(duplicates_first_df, index=False, header=True):\n",
    "    wb['Дубликаты первая таблица'].append(r)\n",
    "\n",
    "for r in dataframe_to_rows(duplicates_second_df, index=False, header=True):\n",
    "    wb['Дубликаты вторая таблица'].append(r)"
   ]
  },
  {
   "cell_type": "code",
   "execution_count": 180,
   "id": "284fd510",
   "metadata": {},
   "outputs": [],
   "source": [
    "# Сохраняем\n",
    "t = time.localtime()\n",
    "current_time = time.strftime('%H_%M_%S %d.%m.%Y', t)\n",
    "# Сохраняем итоговый файл\n",
    "wb.save(f'{path_to_end_folder}/Совпадающие,уникальные данные  от {current_time}.xlsx')"
   ]
  },
  {
   "cell_type": "code",
   "execution_count": null,
   "id": "a6101a1c",
   "metadata": {},
   "outputs": [],
   "source": []
  },
  {
   "cell_type": "code",
   "execution_count": null,
   "id": "68ec4c6c",
   "metadata": {},
   "outputs": [],
   "source": []
  },
  {
   "cell_type": "code",
   "execution_count": null,
   "id": "12c50cf4",
   "metadata": {},
   "outputs": [],
   "source": []
  },
  {
   "cell_type": "code",
   "execution_count": null,
   "id": "3c1f8a8a",
   "metadata": {},
   "outputs": [],
   "source": []
  },
  {
   "cell_type": "code",
   "execution_count": null,
   "id": "e6753b16",
   "metadata": {},
   "outputs": [],
   "source": []
  },
  {
   "cell_type": "code",
   "execution_count": null,
   "id": "ec2135e3",
   "metadata": {},
   "outputs": [],
   "source": []
  },
  {
   "cell_type": "code",
   "execution_count": null,
   "id": "cbd4cd1a",
   "metadata": {},
   "outputs": [],
   "source": []
  },
  {
   "cell_type": "code",
   "execution_count": null,
   "id": "cf450c7e",
   "metadata": {},
   "outputs": [],
   "source": []
  },
  {
   "cell_type": "code",
   "execution_count": null,
   "id": "680e63b5",
   "metadata": {},
   "outputs": [],
   "source": []
  },
  {
   "cell_type": "code",
   "execution_count": null,
   "id": "9a2cb5c5",
   "metadata": {},
   "outputs": [],
   "source": []
  },
  {
   "cell_type": "code",
   "execution_count": null,
   "id": "a3017bd9",
   "metadata": {},
   "outputs": [],
   "source": []
  },
  {
   "cell_type": "code",
   "execution_count": null,
   "id": "6faabac5",
   "metadata": {},
   "outputs": [],
   "source": []
  },
  {
   "cell_type": "code",
   "execution_count": null,
   "id": "13bded02",
   "metadata": {},
   "outputs": [],
   "source": []
  },
  {
   "cell_type": "code",
   "execution_count": null,
   "id": "a73b9853",
   "metadata": {},
   "outputs": [],
   "source": []
  },
  {
   "cell_type": "code",
   "execution_count": null,
   "id": "b74d86e9",
   "metadata": {},
   "outputs": [],
   "source": []
  }
 ],
 "metadata": {
  "kernelspec": {
   "display_name": "Python 3 (ipykernel)",
   "language": "python",
   "name": "python3"
  },
  "language_info": {
   "codemirror_mode": {
    "name": "ipython",
    "version": 3
   },
   "file_extension": ".py",
   "mimetype": "text/x-python",
   "name": "python",
   "nbconvert_exporter": "python",
   "pygments_lexer": "ipython3",
   "version": "3.9.7"
  }
 },
 "nbformat": 4,
 "nbformat_minor": 5
}
