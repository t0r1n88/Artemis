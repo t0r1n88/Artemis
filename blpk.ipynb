{
 "cells": [
  {
   "cell_type": "code",
   "execution_count": 34,
   "id": "358a3298",
   "metadata": {},
   "outputs": [],
   "source": [
    "import pandas as pd\n",
    "import openpyxl\n",
    "from openpyxl.utils.dataframe import dataframe_to_rows\n",
    "from openpyxl.styles import Alignment\n",
    "import time\n",
    "import numpy as np"
   ]
  },
  {
   "cell_type": "code",
   "execution_count": 36,
   "id": "36213999",
   "metadata": {},
   "outputs": [],
   "source": [
    "def combine(x):\n",
    "    # Функция для группировки всех значений в строку разделенную ;\n",
    "    return  ';'.join(x)\n",
    "\n",
    "def check_unique(x):\n",
    "    # Функция для нахождения разночтений в площади выделенного гектара\n",
    "    # создаем список разделяя по точке с запятой\n",
    "    temp_lst = x.split(';')\n",
    "    # Создаем множество оставляя только уникальные значения\n",
    "    temp_set = set(temp_lst)\n",
    "    if'nan' in temp_set:\n",
    "        return 'Не заполнены значения площади лесотаксационного выдела!!!'\n",
    "    else:\n",
    "        return 'Площади совпадают' if len(temp_set) == 1 else 'Ошибка!!! Площади лесотаксационного выдела не совпадают'\n",
    "\n",
    "def main_check_unique(x):\n",
    "    # Функция для проверки корректности заполнения площади выдела\n",
    "    temp_str = ';'.join(x) # Склеиваем все значения\n",
    "    temp_lst = temp_str.split(';') # Создаем список разбивая по ;\n",
    "    temp_set = set(temp_lst) # Превращаем в множество\n",
    "    if len(temp_set) > 1: # Если длина множества больше 1 то есть погрешности\n",
    "        return 0\n",
    "    elif'nan' in temp_set:# если есть нан то не заполнены площади выдела\n",
    "        return 0\n",
    "    else:# Если все в порядке то возвращаем единственный элемент списка\n",
    "        return float(temp_lst[0])\n",
    "\n",
    "def convert_to_float(x):\n",
    "    \"\"\"\n",
    "    Функция для конвертирования строки в флоат.Эта функция нужна для того чтобы отображать то значение где произошла ошибка\n",
    "    поскольку при astype нет отображения в какйо именно ячейке произошла ошибка\n",
    "    :param x: строка\n",
    "    :return:\n",
    "    \"\"\"\n",
    "    # очищаем от пробелов и возможных заполнения ячейки пробелом\n",
    "\n",
    "    temp_str = x.strip()\n",
    "    try:\n",
    "        return float(temp_str)\n",
    "    except ValueError:\n",
    "        print(x)\n",
    "        print(f'Возникла проблема при обработке значения {x} Найдите в таблице и исправьте это значение')"
   ]
  },
  {
   "cell_type": "code",
   "execution_count": null,
   "id": "881a1da1",
   "metadata": {},
   "outputs": [],
   "source": []
  },
  {
   "cell_type": "code",
   "execution_count": 37,
   "id": "29263a58",
   "metadata": {},
   "outputs": [],
   "source": [
    "file_data_xlsx = 'data/2022-10-27_64_Реестр УПП с дополнительными колонками.xlsx'\n",
    "path_to_end_folder = 'data/'"
   ]
  },
  {
   "cell_type": "code",
   "execution_count": 42,
   "id": "2efd913e",
   "metadata": {},
   "outputs": [],
   "source": [
    "df = pd.read_excel(file_data_xlsx,sheet_name='Реестр УПП',skiprows=6)"
   ]
  },
  {
   "cell_type": "code",
   "execution_count": 43,
   "id": "1c0bc848",
   "metadata": {},
   "outputs": [],
   "source": [
    "# Удаляем лишние строки\n",
    "df = df.drop([0,1],axis=0)\n",
    "# заполняем пропущенные места\n",
    "df['Урочище '] = df['Урочище '].fillna('Название урочища не заполнено')"
   ]
  },
  {
   "cell_type": "code",
   "execution_count": 44,
   "id": "a2315a32",
   "metadata": {},
   "outputs": [],
   "source": [
    "# СОздаем проверочный файл для проверки правильности ввода плошади выдела\n",
    "check_df = df.copy(deep=True)\n",
    "\n",
    "# Меняем тип столбца на строку чтобы создать строку включающую в себя все значения разделенные ;\n",
    "check_df['Площадь лесотаксационного выдела, га'] = check_df['Площадь лесотаксационного выдела, га'].astype(str)\n",
    "#\n",
    "\n",
    "checked_pl = check_df.groupby(['Лесничество', 'Участковое лесничество', 'Урочище ', 'Номер лесного квартала',\n",
    "                               'Номер лесотаксационного выдела']).agg(\n",
    "    {'Площадь лесотаксационного выдела, га': combine})\n",
    "\n",
    "# Применяем функцию првоеряющую количество уникальных значений в столбце, если больше одного то значит есть ошибка в данных\n",
    "checked_pl['Контроль совпадения площади выдела'] = checked_pl['Площадь лесотаксационного выдела, га'].apply(\n",
    "    check_unique)\n",
    "\n",
    "# переименовывам колонку\n",
    "checked_pl.rename(columns={'Площадь лесотаксационного выдела, га': 'Все значения площади для указанного выдела'},\n",
    "                  inplace=True)\n",
    "# Извлекаем индексы в колонки\n",
    "checked_pl = checked_pl.reset_index()\n",
    "\n",
    "# Получаем текущую дату\n",
    "current_time = time.strftime('%H_%M_%S %d.%m.%Y')\n",
    "# Сохраняем отчет\n",
    "# Для того чтобы увеличить ширину колонок для удобства чтения используем openpyxl\n",
    "wb = openpyxl.Workbook() # Создаем объект\n",
    "# Записываем результаты\n",
    "for row in dataframe_to_rows(checked_pl,index=False,header=True):\n",
    "    wb['Sheet'].append(row)\n",
    "\n",
    "# Форматирование итоговой таблицы\n",
    "# Ширина колонок\n",
    "wb['Sheet'].column_dimensions['A'].width = 15\n",
    "wb['Sheet'].column_dimensions['B'].width = 20\n",
    "wb['Sheet'].column_dimensions['C'].width = 36\n",
    "wb['Sheet'].column_dimensions['F'].width = 15\n",
    "wb['Sheet'].column_dimensions['G'].width = 15\n",
    "# Перенос строк для заголовков\n",
    "wb['Sheet']['D1'].alignment = Alignment(wrap_text=True)\n",
    "wb['Sheet']['E1'].alignment = Alignment(wrap_text=True)\n",
    "wb['Sheet']['F1'].alignment = Alignment(wrap_text=True)\n",
    "wb['Sheet']['G1'].alignment = Alignment(wrap_text=True)\n",
    "wb['Sheet']['H1'].alignment = Alignment(wrap_text=True)\n",
    "\n",
    "\n",
    "wb.save(f'{path_to_end_folder}/Проверка правильности ввода площадей лесотаксационного выдела {current_time}.xlsx')"
   ]
  },
  {
   "cell_type": "code",
   "execution_count": 63,
   "id": "c2236480",
   "metadata": {},
   "outputs": [],
   "source": [
    "# Основной отчет\n",
    "# Готовим колонки к группировке\n",
    "df['Площадь лесотаксационного выдела, га'] = df['Площадь лесотаксационного выдела, га'].astype(str)\n",
    "\n",
    "df['Площадь лесотаксационного выдела, га'] = df['Площадь лесотаксационного выдела, га'].apply(\n",
    "    lambda x: x.replace(',', '.'))\n",
    "\n",
    "# df['Площадь лесотаксационного выдела, га'] = df['Площадь лесотаксационного выдела, га'].astype(float)\n",
    "\n",
    "df['Площадь лесотаксационного выдела или его части (лесопатологического выдела), га'] = df[\n",
    "    'Площадь лесотаксационного выдела или его части (лесопатологического выдела), га'].astype(str)\n",
    "\n",
    "df['Площадь лесотаксационного выдела или его части (лесопатологического выдела), га'] = df[\n",
    "    'Площадь лесотаксационного выдела или его части (лесопатологического выдела), га'].apply(\n",
    "    lambda x: x.replace(',', '.'))\n",
    "\n",
    "df['Площадь лесотаксационного выдела или его части (лесопатологического выдела), га'] = df[\n",
    "    'Площадь лесотаксационного выдела или его части (лесопатологического выдела), га'].astype(float)\n",
    "\n"
   ]
  },
  {
   "cell_type": "code",
   "execution_count": 64,
   "id": "626183d9",
   "metadata": {},
   "outputs": [],
   "source": [
    "# Группируем\n",
    "group_df = df.groupby(['Лесничество', 'Участковое лесничество', 'Урочище ', 'Номер лесного квартала',\n",
    "                       'Номер лесотаксационного выдела']).agg({'Площадь лесотаксационного выдела, га': main_check_unique,\n",
    "                                                               'Площадь лесотаксационного выдела или его части (лесопатологического выдела), га': 'sum'})"
   ]
  },
  {
   "cell_type": "code",
   "execution_count": 65,
   "id": "07f308fd",
   "metadata": {},
   "outputs": [],
   "source": [
    "# переименовываем колонку\n",
    "group_df.rename(columns={\n",
    "    'Площадь лесотаксационного выдела или его части (лесопатологического выдела), га': 'Используемая площадь лесотаксационного выдела, га'},\n",
    "                inplace=True)\n",
    "\n",
    "# Извлекаем индексы в колонки\n",
    "group_df = group_df.reset_index()\n",
    "\n",
    "group_df['Площадь лесотаксационного выдела, га'] = group_df['Площадь лесотаксационного выдела, га'].astype(float)"
   ]
  },
  {
   "cell_type": "code",
   "execution_count": 66,
   "id": "b6a32399",
   "metadata": {},
   "outputs": [],
   "source": [
    "# Округляем до 3 знаков для корректного сравнения\n",
    "group_df['Площадь лесотаксационного выдела, га'] = np.round(group_df['Площадь лесотаксационного выдела, га'],decimals=3)\n",
    "group_df['Используемая площадь лесотаксационного выдела, га'] = np.round(group_df['Используемая площадь лесотаксационного выдела, га'],decimals=3)\n"
   ]
  },
  {
   "cell_type": "code",
   "execution_count": null,
   "id": "2e586299",
   "metadata": {},
   "outputs": [],
   "source": []
  },
  {
   "cell_type": "code",
   "execution_count": 67,
   "id": "362ffde9",
   "metadata": {},
   "outputs": [],
   "source": [
    "# Создаем колонку для контроля \n",
    "group_df['Контроль площади используемого надела'] = group_df['Площадь лесотаксационного выдела, га'] < group_df[\n",
    "    'Используемая площадь лесотаксационного выдела, га']\n",
    "\n",
    "group_df['Контроль площади используемого надела'] = group_df['Контроль площади используемого надела'].apply(\n",
    "    lambda x: 'Превышение используемой площади выдела!!!' if x is True else 'Все в порядке')"
   ]
  },
  {
   "cell_type": "code",
   "execution_count": 68,
   "id": "86399b16",
   "metadata": {},
   "outputs": [],
   "source": [
    "# Изменяем состояние колонки если площадь всего выдела равна 0\n",
    "group_df['Контроль правильности ввода площади лесотаксационного выдела'] = group_df['Площадь лесотаксационного выдела, га'].apply(\n",
    "    lambda x: 'Площадь лесотаксационного выдела равна нулю или  обнаружены разные значения площади выдела !!!' if x == 0 else 'Площади лесотаксационного выдела не отличаются друг от друга')"
   ]
  },
  {
   "cell_type": "code",
   "execution_count": null,
   "id": "eeda3909",
   "metadata": {},
   "outputs": [],
   "source": []
  },
  {
   "cell_type": "code",
   "execution_count": 69,
   "id": "40a51e97",
   "metadata": {},
   "outputs": [],
   "source": [
    "# Сохраняем отчет\n",
    "# Для того чтобы увеличить ширину колонок для удобства чтения используем openpyxl\n",
    "wb = openpyxl.Workbook() # Создаем объект\n",
    "# Записываем результаты\n",
    "for row in dataframe_to_rows(group_df,index=False,header=True):\n",
    "    wb['Sheet'].append(row)\n",
    "\n",
    "# Форматирование итоговой таблицы\n",
    "# Ширина колонок\n",
    "wb['Sheet'].column_dimensions['A'].width = 15\n",
    "wb['Sheet'].column_dimensions['B'].width = 20\n",
    "wb['Sheet'].column_dimensions['C'].width = 36\n",
    "wb['Sheet'].column_dimensions['F'].width = 15\n",
    "wb['Sheet'].column_dimensions['G'].width = 15\n",
    "wb['Sheet'].column_dimensions['H'].width = 20\n",
    "# Перенос строк для заголовков\n",
    "wb['Sheet']['D1'].alignment = Alignment(wrap_text=True)\n",
    "wb['Sheet']['E1'].alignment = Alignment(wrap_text=True)\n",
    "wb['Sheet']['F1'].alignment = Alignment(wrap_text=True)\n",
    "wb['Sheet']['G1'].alignment = Alignment(wrap_text=True)\n",
    "wb['Sheet']['H1'].alignment = Alignment(wrap_text=True)\n",
    "\n",
    "wb.save(f'{path_to_end_folder}/Контроль используемых площадей лесотаксационных выделов от {current_time}.xlsx')"
   ]
  },
  {
   "cell_type": "code",
   "execution_count": null,
   "id": "a71afd1c",
   "metadata": {},
   "outputs": [],
   "source": []
  },
  {
   "cell_type": "code",
   "execution_count": null,
   "id": "2dd49633",
   "metadata": {},
   "outputs": [],
   "source": []
  },
  {
   "cell_type": "code",
   "execution_count": null,
   "id": "35d60e0a",
   "metadata": {},
   "outputs": [],
   "source": []
  },
  {
   "cell_type": "code",
   "execution_count": null,
   "id": "21fdb54f",
   "metadata": {},
   "outputs": [],
   "source": []
  },
  {
   "cell_type": "code",
   "execution_count": null,
   "id": "ec69e81d",
   "metadata": {},
   "outputs": [],
   "source": []
  }
 ],
 "metadata": {
  "kernelspec": {
   "display_name": "Python 3 (ipykernel)",
   "language": "python",
   "name": "python3"
  },
  "language_info": {
   "codemirror_mode": {
    "name": "ipython",
    "version": 3
   },
   "file_extension": ".py",
   "mimetype": "text/x-python",
   "name": "python",
   "nbconvert_exporter": "python",
   "pygments_lexer": "ipython3",
   "version": "3.9.7"
  }
 },
 "nbformat": 4,
 "nbformat_minor": 5
}
